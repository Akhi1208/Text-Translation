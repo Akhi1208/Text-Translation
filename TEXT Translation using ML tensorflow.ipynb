{
 "cells": [
  {
   "cell_type": "code",
   "execution_count": null,
   "id": "00d13b01",
   "metadata": {},
   "outputs": [],
   "source": [
    "pip install keras\n"
   ]
  },
  {
   "cell_type": "code",
   "execution_count": 100,
   "id": "6745330c",
   "metadata": {},
   "outputs": [],
   "source": [
    "import tensorflow as tf\n",
    "import pandas as pd\n",
    "import numpy as np"
   ]
  },
  {
   "cell_type": "code",
   "execution_count": 108,
   "id": "7c7c6ced",
   "metadata": {},
   "outputs": [
    {
     "data": {
      "text/html": [
       "<div>\n",
       "<style scoped>\n",
       "    .dataframe tbody tr th:only-of-type {\n",
       "        vertical-align: middle;\n",
       "    }\n",
       "\n",
       "    .dataframe tbody tr th {\n",
       "        vertical-align: top;\n",
       "    }\n",
       "\n",
       "    .dataframe thead th {\n",
       "        text-align: right;\n",
       "    }\n",
       "</style>\n",
       "<table border=\"1\" class=\"dataframe\">\n",
       "  <thead>\n",
       "    <tr style=\"text-align: right;\">\n",
       "      <th></th>\n",
       "      <th>english</th>\n",
       "      <th>deu</th>\n",
       "    </tr>\n",
       "  </thead>\n",
       "  <tbody>\n",
       "    <tr>\n",
       "      <th>799</th>\n",
       "      <td>I hung up.</td>\n",
       "      <td>Ich habe aufgelegt.</td>\n",
       "    </tr>\n",
       "    <tr>\n",
       "      <th>1720</th>\n",
       "      <td>You look really gorgeous.</td>\n",
       "      <td>Du siehst wirklich umwerfend aus.</td>\n",
       "    </tr>\n",
       "    <tr>\n",
       "      <th>1309</th>\n",
       "      <td>Can I say something?</td>\n",
       "      <td>Darf ich etwas sagen?</td>\n",
       "    </tr>\n",
       "    <tr>\n",
       "      <th>1054</th>\n",
       "      <td>Your breath stinks.</td>\n",
       "      <td>Du hast Mundgeruch.</td>\n",
       "    </tr>\n",
       "    <tr>\n",
       "      <th>2004</th>\n",
       "      <td>Where's Tom? \"Beats me.\"</td>\n",
       "      <td>„Wo ist Tom?“ – „Null Ahnung.“</td>\n",
       "    </tr>\n",
       "  </tbody>\n",
       "</table>\n",
       "</div>"
      ],
      "text/plain": [
       "                        english                                deu\n",
       "799                  I hung up.                Ich habe aufgelegt.\n",
       "1720  You look really gorgeous.  Du siehst wirklich umwerfend aus.\n",
       "1309       Can I say something?              Darf ich etwas sagen?\n",
       "1054        Your breath stinks.                Du hast Mundgeruch.\n",
       "2004   Where's Tom? \"Beats me.\"     „Wo ist Tom?“ – „Null Ahnung.“"
      ]
     },
     "execution_count": 108,
     "metadata": {},
     "output_type": "execute_result"
    }
   ],
   "source": [
    "lines = pd.read_table(r'C:\\Users\\Hp\\Downloads\\d.txt', names=['english', 'deu'])\n",
    "lines = lines[:3000]\n",
    "lines.sample(5)"
   ]
  },
  {
   "cell_type": "code",
   "execution_count": 109,
   "id": "354279b5",
   "metadata": {},
   "outputs": [
    {
     "data": {
      "text/plain": [
       "(2931, 2)"
      ]
     },
     "execution_count": 109,
     "metadata": {},
     "output_type": "execute_result"
    }
   ],
   "source": [
    "lines.shape"
   ]
  },
  {
   "cell_type": "code",
   "execution_count": 110,
   "id": "4e52c90c",
   "metadata": {},
   "outputs": [],
   "source": [
    "lines.english = lines.english.apply(lambda x: x.lower())\n",
    "lines.deu=lines.deu.apply(lambda x:x.lower())"
   ]
  },
  {
   "cell_type": "code",
   "execution_count": 111,
   "id": "d5b6e4ea",
   "metadata": {},
   "outputs": [],
   "source": [
    "import re\n",
    "lines.english = lines.english.apply(lambda x: re.sub(\"'\", '', x)).apply(lambda x: re.sub(\",\", 'COMMA', x))\n",
    "lines.deu = lines.deu.apply(lambda x: re.sub(\"'\", '', x)).apply(lambda x: re.sub(\",\", 'COMMA', x))"
   ]
  },
  {
   "cell_type": "code",
   "execution_count": 112,
   "id": "00fbb4ef",
   "metadata": {},
   "outputs": [],
   "source": [
    "import string\n",
    "exclude = set(string.punctuation)\n",
    "lines.english = lines.english.apply(lambda x: ''.join(ch for ch in x if ch not in exclude))\n",
    "lines.deu= lines.deu.apply(lambda x: ''.join(ch for ch in x if ch not in exclude))"
   ]
  },
  {
   "cell_type": "code",
   "execution_count": 113,
   "id": "b6312c59",
   "metadata": {},
   "outputs": [],
   "source": [
    "from string import digits\n",
    "remove_digits = str.maketrans('', '', digits)\n",
    "lines.english = lines.english.apply(lambda x: x.translate(remove_digits))\n",
    "lines.deu = lines.deu.apply(lambda x: x.translate(remove_digits))"
   ]
  },
  {
   "cell_type": "code",
   "execution_count": 114,
   "id": "7635345e",
   "metadata": {},
   "outputs": [
    {
     "data": {
      "text/html": [
       "<div>\n",
       "<style scoped>\n",
       "    .dataframe tbody tr th:only-of-type {\n",
       "        vertical-align: middle;\n",
       "    }\n",
       "\n",
       "    .dataframe tbody tr th {\n",
       "        vertical-align: top;\n",
       "    }\n",
       "\n",
       "    .dataframe thead th {\n",
       "        text-align: right;\n",
       "    }\n",
       "</style>\n",
       "<table border=\"1\" class=\"dataframe\">\n",
       "  <thead>\n",
       "    <tr style=\"text-align: right;\">\n",
       "      <th></th>\n",
       "      <th>english</th>\n",
       "      <th>deu</th>\n",
       "    </tr>\n",
       "  </thead>\n",
       "  <tbody>\n",
       "    <tr>\n",
       "      <th>0</th>\n",
       "      <td>go</td>\n",
       "      <td>geh</td>\n",
       "    </tr>\n",
       "    <tr>\n",
       "      <th>1499</th>\n",
       "      <td>did you like boston</td>\n",
       "      <td>hat ihnen boston gefallen</td>\n",
       "    </tr>\n",
       "    <tr>\n",
       "      <th>2511</th>\n",
       "      <td>didnt you see toms face</td>\n",
       "      <td>hast du nicht toms gesicht gesehen</td>\n",
       "    </tr>\n",
       "    <tr>\n",
       "      <th>497</th>\n",
       "      <td>im thin</td>\n",
       "      <td>ich bin dünn</td>\n",
       "    </tr>\n",
       "    <tr>\n",
       "      <th>182</th>\n",
       "      <td>go away</td>\n",
       "      <td>verkrümele dich</td>\n",
       "    </tr>\n",
       "    <tr>\n",
       "      <th>2428</th>\n",
       "      <td>did you change the filter</td>\n",
       "      <td>hast du den filter ausgetauscht</td>\n",
       "    </tr>\n",
       "    <tr>\n",
       "      <th>2912</th>\n",
       "      <td>dont tell me tom is dead</td>\n",
       "      <td>tom ist tot sag bloß</td>\n",
       "    </tr>\n",
       "    <tr>\n",
       "      <th>985</th>\n",
       "      <td>youre really nice</td>\n",
       "      <td>du bist sehr nett</td>\n",
       "    </tr>\n",
       "    <tr>\n",
       "      <th>730</th>\n",
       "      <td>he is old</td>\n",
       "      <td>er ist alt</td>\n",
       "    </tr>\n",
       "    <tr>\n",
       "      <th>664</th>\n",
       "      <td>chill out</td>\n",
       "      <td>entspann dich</td>\n",
       "    </tr>\n",
       "  </tbody>\n",
       "</table>\n",
       "</div>"
      ],
      "text/plain": [
       "                        english                                 deu\n",
       "0                            go                                 geh\n",
       "1499        did you like boston           hat ihnen boston gefallen\n",
       "2511    didnt you see toms face  hast du nicht toms gesicht gesehen\n",
       "497                     im thin                        ich bin dünn\n",
       "182                     go away                     verkrümele dich\n",
       "2428  did you change the filter     hast du den filter ausgetauscht\n",
       "2912   dont tell me tom is dead                tom ist tot sag bloß\n",
       "985           youre really nice                   du bist sehr nett\n",
       "730                   he is old                          er ist alt\n",
       "664                   chill out                       entspann dich"
      ]
     },
     "execution_count": 114,
     "metadata": {},
     "output_type": "execute_result"
    }
   ],
   "source": [
    "lines.sample(10)"
   ]
  },
  {
   "cell_type": "code",
   "execution_count": 115,
   "id": "f5de141b",
   "metadata": {},
   "outputs": [
    {
     "data": {
      "text/html": [
       "<div>\n",
       "<style scoped>\n",
       "    .dataframe tbody tr th:only-of-type {\n",
       "        vertical-align: middle;\n",
       "    }\n",
       "\n",
       "    .dataframe tbody tr th {\n",
       "        vertical-align: top;\n",
       "    }\n",
       "\n",
       "    .dataframe thead th {\n",
       "        text-align: right;\n",
       "    }\n",
       "</style>\n",
       "<table border=\"1\" class=\"dataframe\">\n",
       "  <thead>\n",
       "    <tr style=\"text-align: right;\">\n",
       "      <th></th>\n",
       "      <th>english</th>\n",
       "      <th>deu</th>\n",
       "    </tr>\n",
       "  </thead>\n",
       "  <tbody>\n",
       "    <tr>\n",
       "      <th>0</th>\n",
       "      <td>go</td>\n",
       "      <td>START_ geh _END</td>\n",
       "    </tr>\n",
       "    <tr>\n",
       "      <th>1</th>\n",
       "      <td>hi</td>\n",
       "      <td>START_ hallo _END</td>\n",
       "    </tr>\n",
       "    <tr>\n",
       "      <th>2</th>\n",
       "      <td>hi</td>\n",
       "      <td>START_ grüß gott _END</td>\n",
       "    </tr>\n",
       "    <tr>\n",
       "      <th>3</th>\n",
       "      <td>run</td>\n",
       "      <td>START_ lauf _END</td>\n",
       "    </tr>\n",
       "    <tr>\n",
       "      <th>4</th>\n",
       "      <td>run</td>\n",
       "      <td>START_ lauf _END</td>\n",
       "    </tr>\n",
       "  </tbody>\n",
       "</table>\n",
       "</div>"
      ],
      "text/plain": [
       "  english                    deu\n",
       "0      go        START_ geh _END\n",
       "1      hi      START_ hallo _END\n",
       "2      hi  START_ grüß gott _END\n",
       "3     run       START_ lauf _END\n",
       "4     run       START_ lauf _END"
      ]
     },
     "execution_count": 115,
     "metadata": {},
     "output_type": "execute_result"
    }
   ],
   "source": [
    "# applying start and end tokens in korean sentences\n",
    "lines.deu = lines.deu.apply(lambda x: 'START_' + ' ' + x + ' ' + '_END')\n",
    "lines.head()"
   ]
  },
  {
   "cell_type": "code",
   "execution_count": 119,
   "id": "d42cdecf",
   "metadata": {},
   "outputs": [],
   "source": [
    "# collecting all unique english words to create a vocabulary\n",
    "all_english_words = set()\n",
    "for eng in lines.english:\n",
    "  for word in eng.split():\n",
    "    if word not in all_english_words:\n",
    "      all_english_words.add(word)\n",
    "\n",
    "# collecting all unique korean words to create a vocabulary\n",
    "all_deu_words = set()\n",
    "for d in lines.deu:\n",
    "  for word in d.split():\n",
    "    if word not in all_deu_words:\n",
    "      all_deu_words.add(word)"
   ]
  },
  {
   "cell_type": "code",
   "execution_count": 120,
   "id": "54dc6da2",
   "metadata": {},
   "outputs": [
    {
     "name": "stdout",
     "output_type": "stream",
     "text": [
      "length of english words:  1394\n",
      "length of deu words:  2126\n"
     ]
    }
   ],
   "source": [
    "# printing length of words in each language\n",
    "print('length of english words: ', len(all_english_words))\n",
    "print('length of deu words: ', len(all_deu_words))"
   ]
  },
  {
   "cell_type": "code",
   "execution_count": 121,
   "id": "0896db45",
   "metadata": {},
   "outputs": [
    {
     "name": "stdout",
     "output_type": "stream",
     "text": [
      "max_input_length:  8\n"
     ]
    }
   ],
   "source": [
    "# getting maximum sentence length of english sentences\n",
    "length_list = []\n",
    "for l in lines.english:\n",
    "  length_list.append(len(l.split(' ')))\n",
    "\n",
    "max_input_length = np.max(length_list)\n",
    "print('max_input_length: ', max_input_length)"
   ]
  },
  {
   "cell_type": "code",
   "execution_count": 122,
   "id": "ecacb033",
   "metadata": {},
   "outputs": [
    {
     "name": "stdout",
     "output_type": "stream",
     "text": [
      "max_output_length:  13\n"
     ]
    }
   ],
   "source": [
    "# getting maximum sentence length of deu sentences\n",
    "length_list = []\n",
    "for l in lines.deu:\n",
    "  length_list.append(len(l.split(' ')))\n",
    "\n",
    "max_output_length = np.max(length_list)\n",
    "print('max_output_length: ', max_output_length)"
   ]
  },
  {
   "cell_type": "markdown",
   "id": "d4066d39",
   "metadata": {},
   "source": [
    "tokenization"
   ]
  },
  {
   "cell_type": "code",
   "execution_count": 123,
   "id": "2ad5d785",
   "metadata": {},
   "outputs": [
    {
     "name": "stdout",
     "output_type": "stream",
     "text": [
      "all input words:  ['a', 'about', 'absolute', 'absorbs', 'accident', 'ache', 'across', 'actress', 'actually', 'actuallyCOMMA', 'add', 'address', 'admitted', 'advance', 'advantage', 'advice', 'afford', 'afraid', 'after', 'again', 'agree', 'ahead', 'aid', 'aim', 'air', 'alcohol', 'aliens', 'alive', 'all', 'allergies', 'allow', 'alls', 'almost', 'alone', 'along', 'already', 'also', 'aluminum', 'always', 'am', 'america', 'an', 'and', 'angry', 'angryCOMMA', 'animal', 'animals', 'annoying', 'another', 'answer', 'any', 'anybody', 'anymore', 'anyone', 'anything', 'anythings', 'anywayCOMMA', 'apartment', 'appearances', 'appeared', 'apples', 'approached', 'approve', 'arabic', 'are', 'arent', 'around', 'arrest', 'arrive', 'arrived', 'art', 'as', 'ask', 'asked', 'asking', 'asleep', 'assistance', 'assistant', 'at', 'ate', 'attack', 'attacked', 'attention', 'attractive', 'australia', 'autograph', 'available', 'avoiding', 'awake', 'away', 'awesome', 'awful', 'b', 'baby', 'back', 'backpack', 'bad', 'bag', 'bags', 'bake', 'baked', 'bald', 'ball', 'bananas', 'bark', 'baseball', 'bath', 'be', 'beat', 'beats', 'beautiful', 'bed', 'been', 'beer', 'beerCOMMA', 'before', 'begin', 'behind', 'being', 'believe', 'benches', 'best', 'betrayed', 'better', 'big', 'biggest', 'bike', 'bird', 'birds', 'bit', 'black', 'blame', 'blaming', 'blanket', 'bleeding', 'bless', 'blew', 'blocking', 'blow', 'blowing', 'blue', 'blushed', 'boat', 'boil', 'book', 'books', 'boots', 'bored', 'boring', 'born', 'borrow', 'boss', 'boston', 'both', 'bought', 'bourbon', 'boy', 'boyfriend', 'boys', 'brave', 'brazil', 'bread', 'break', 'breakfast', 'breath', 'breathe', 'brewing', 'brief', 'bright', 'brightened', 'bring', 'broken', 'brothers', 'bug', 'burn', 'burnt', 'bury', 'bus', 'buses', 'busy', 'but', 'butter', 'button', 'buy', 'by', 'cake', 'call', 'calm', 'came', 'camels', 'camera', 'can', 'canadian', 'canadians', 'candle', 'cant', 'car', 'card', 'care', 'careful', 'cares', 'carry', 'cash', 'cat', 'catch', 'catholic', 'cats', 'ceiling', 'cellphones', 'chalk', 'chance', 'change', 'changeCOMMA', 'changed', 'charge', 'charismatic', 'chased', 'cheated', 'check', 'cheer', 'cheers', 'cherish', 'chew', 'chicken', 'child', 'children', 'chill', 'chivalry', 'choice', 'choose', 'christian', 'christmas', 'chrysanthemums', 'church', 'clapped', 'class', 'classes', 'clean', 'cleaners', 'clear', 'clearer', 'clever', 'clocks', 'close', 'closely', 'cloth', 'clothes', 'cloudy', 'coat', 'coffee', 'coin', 'cold', 'college', 'color', 'coma', 'come', 'comfortable', 'coming', 'comingCOMMA', 'comparisons', 'competition', 'complete', 'computer', 'computers', 'concede', 'concert', 'conclusions', 'contact', 'contract', 'convinced', 'cook', 'cookie', 'cooking', 'cool', 'cooperating', 'copies', 'corn', 'correct', 'coughed', 'could', 'couldve', 'count', 'country', 'cowards', 'cows', 'cream', 'creamCOMMA', 'credit', 'cried', 'criticism', 'crocodile', 'cruel', 'cry', 'crying', 'cucumbers', 'cuff', 'culture', 'curse', 'cursed', 'cut', 'cute', 'cyprus', 'dad', 'damages', 'dance', 'danceCOMMA', 'dancer', 'dancing', 'danger', 'dark', 'dating', 'daughter', 'daughters', 'day', 'days', 'dead', 'deaf', 'dear', 'death', 'deceiving', 'decide', 'decision', 'deep', 'delete', 'deliver', 'demand', 'depressed', 'depressing', 'describe', 'desert', 'deserve', 'desire', 'desk', 'destroy', 'destroys', 'detect', 'dictates', 'dictionary', 'did', 'didnt', 'die', 'died', 'difference', 'different', 'difficult', 'dinner', 'dinosaurs', 'dirty', 'disconnect', 'divide', 'dj', 'do', 'doctor', 'does', 'doesnt', 'dog', 'dogs', 'doing', 'dollars', 'dolphins', 'done', 'dont', 'door', 'double', 'down', 'dreads', 'dreamer', 'dress', 'dressed', 'drink', 'drinking', 'drive', 'driveCOMMA', 'drop', 'dropped', 'drove', 'drunk', 'dry', 'duck', 'ducks', 'dumb', 'each', 'earl', 'early', 'earlyCOMMA', 'east', 'easy', 'eat', 'eaten', 'eggs', 'eight', 'either', 'elaborate', 'else', 'email', 'embarrass', 'embarrassing', 'ending', 'ends', 'english', 'enjoy', 'enjoying', 'enough', 'erase', 'errors', 'escaped', 'even', 'evening', 'ever', 'every', 'everybody', 'everyone', 'evidence', 'exactly', 'example', 'excellent', 'exception', 'excuse', 'exist', 'expect', 'expecting', 'experienced', 'experts', 'explain', 'extinct', 'extroverted', 'eyelids', 'eyes', 'face', 'facebook', 'fail', 'failure', 'fainted', 'fair', 'fairies', 'faithful', 'fall', 'falling', 'familiar', 'family', 'familyCOMMA', 'fan', 'fantastic', 'fascinating', 'fashionable', 'fast', 'fat', 'father', 'favor', 'favorite', 'fear', 'fears', 'feed', 'feel', 'feet', 'fell', 'fever', 'few', 'file', 'filter', 'final', 'find', 'fine', 'finish', 'fire', 'fireworks', 'firm', 'first', 'firstCOMMA', 'fit', 'five', 'fix', 'flash', 'flashlight', 'fled', 'flew', 'flip', 'float', 'floor', 'flowers', 'fluent', 'fly', 'fold', 'follow', 'food', 'foods', 'fool', 'football', 'for', 'force', 'foreheads', 'foreigner', 'forget', 'forgive', 'forgot', 'forgotten', 'fork', 'four', 'francisco', 'free', 'freerange', 'freeze', 'french', 'frenchCOMMA', 'fridge', 'friend', 'friends', 'fries', 'from', 'frowned', 'froze', 'frozen', 'fruit', 'full', 'fun', 'funny', 'future', 'game', 'games', 'garden', 'gases', 'gave', 'generous', 'gentle', 'gentleCOMMA', 'get', 'getting', 'ghost', 'giggled', 'girl', 'girlfriend', 'girls', 'give', 'glass', 'glasses', 'go', 'goCOMMA', 'going', 'golf', 'good', 'goodbye', 'goodlooking', 'goodnight', 'gorgeous', 'got', 'grab', 'grandchildren', 'great', 'green', 'grey', 'grow', 'guard', 'guitar', 'gum', 'gun', 'guts', 'guys', 'gym', 'habits', 'had', 'hair', 'haircut', 'hairs', 'half', 'hands', 'handsome', 'handy', 'hang', 'happen', 'happened', 'happy', 'happyCOMMA', 'hard', 'harder', 'hardworking', 'has', 'hat', 'hate', 'have', 'havent', 'having', 'he', 'head', 'hear', 'heard', 'hearing', 'heart', 'heights', 'hello', 'help', 'helped', 'helpful', 'helping', 'helps', 'her', 'here', 'hereCOMMA', 'heres', 'hes', 'hi', 'hiCOMMA', 'hid', 'hide', 'high', 'hill', 'him', 'hint', 'hire', 'his', 'hit', 'hold', 'home', 'homesick', 'honestly', 'hooky', 'hop', 'hope', 'horse', 'hospital', 'hot', 'hotel', 'hour', 'house', 'how', 'hug', 'humble', 'humor', 'hung', 'hungry', 'hunting', 'hurried', 'hurry', 'hurt', 'hurtCOMMA', 'hurts', 'husband', 'hypocrite', 'i', 'ice', 'ideaCOMMA', 'ideas', 'idiot', 'if', 'ignore', 'ignoring', 'ill', 'im', 'imaginative', 'imagining', 'imitate', 'imminent', 'important', 'improved', 'improving', 'in', 'incompetent', 'incredible', 'independent', 'indoors', 'inevitable', 'infection', 'ink', 'insane', 'inside', 'instrument', 'intend', 'interested', 'interesting', 'interrupt', 'interview', 'into', 'introverted', 'invited', 'is', 'island', 'isnt', 'it', 'itCOMMA', 'itll', 'its', 'jackson', 'japanese', 'job', 'john', 'join', 'journalist', 'judge', 'jump', 'jumped', 'just', 'keep', 'key', 'keys', 'kid', 'kidding', 'kids', 'kill', 'kind', 'kiss', 'knew', 'knife', 'know', 'knows', 'krill', 'language', 'large', 'larger', 'last', 'lastCOMMA', 'late', 'later', 'laterCOMMA', 'laugh', 'laughed', 'law', 'lawyer', 'lazy', 'leads', 'lean', 'learn', 'least', 'leave', 'leaving', 'left', 'legs', 'lend', 'let', 'lets', 'letter', 'letters', 'liability', 'liar', 'lie', 'lied', 'lies', 'lift', 'light', 'lights', 'like', 'likes', 'line', 'lion', 'lions', 'lips', 'list', 'listen', 'listenCOMMA', 'listening', 'little', 'live', 'liver', 'living', 'lock', 'lonely', 'long', 'longer', 'look', 'looked', 'looking', 'lose', 'loser', 'lost', 'lot', 'lots', 'love', 'low', 'lying', 'mad', 'made', 'magic', 'mail', 'make', 'makes', 'making', 'mamas', 'mammal', 'man', 'managed', 'mango', 'marbles', 'married', 'marry', 'mary', 'marys', 'matter', 'may', 'me', 'meCOMMA', 'meal', 'mean', 'measure', 'meat', 'meet', 'meetings', 'member', 'mention', 'mess', 'message', 'messages', 'messenger', 'met', 'metal', 'might', 'mightve', 'milk', 'mind', 'mine', 'mineral', 'minute', 'minutes', 'miracles', 'miss', 'missed', 'mistake', 'mistaken', 'mixture', 'moaned', 'modest', 'mom', 'moment', 'monday', 'money', 'mood', 'more', 'morning', 'mother', 'movie', 'mp', 'much', 'must', 'mustve', 'my', 'nail', 'naive', 'name', 'nap', 'narrowminded', 'need', 'neednt', 'needs', 'neighbor', 'nerve', 'nervous', 'never', 'new', 'news', 'next', 'nice', 'night', 'nitroglycerin', 'no', 'nodded', 'noise', 'nose', 'noses', 'not', 'notebooks', 'notes', 'nothing', 'notice', 'noticed', 'novel', 'now', 'nowCOMMA', 'numberCOMMA', 'numbers', 'nurse', 'obese', 'obey', 'objection', 'oclock', 'of', 'off', 'offer', 'often', 'oh', 'ok', 'okay', 'old', 'older', 'on', 'once', 'one', 'oneday', 'only', 'open', 'optimist', 'or', 'orange', 'oranges', 'order', 'orders', 'other', 'others', 'ought', 'our', 'out', 'oven', 'over', 'overrated', 'owe', 'own', 'oysters', 'paid', 'pain', 'painful', 'paint', 'parents', 'park', 'part', 'partially', 'party', 'pass', 'passed', 'past', 'pathetic', 'patient', 'paused', 'pay', 'peanut', 'penny', 'pens', 'perfect', 'persevering', 'person', 'phone', 'piano', 'pick', 'picture', 'piece', 'pillow', 'pinch', 'pizza', 'place', 'plain', 'plan', 'play', 'player', 'please', 'plug', 'poet', 'point', 'points', 'police', 'policeman', 'polite', 'politeCOMMA', 'poor', 'pork', 'possible', 'potatoes', 'prayed', 'predictable', 'prepared', 'pretty', 'priest', 'princess', 'probably', 'problem', 'promise', 'proof', 'proved', 'provide', 'pull', 'punctured', 'punish', 'purchase', 'purposely', 'push', 'put', 'question', 'questions', 'quickly', 'quiet', 'quit', 'quite', 'racists', 'rain', 'ran', 'rat', 'read', 'ready', 'real', 'really', 'reason', 'receive', 'recognize', 'recommend', 'recording', 'red', 'refreshed', 'refuse', 'regret', 'rejected', 'relax', 'relaxed', 'remember', 'rent', 'repeat', 'replaceable', 'reservation', 'resign', 'responsible', 'rest', 'rested', 'retired', 'rice', 'rich', 'richCOMMA', 'right', 'rightCOMMA', 'ringing', 'rise', 'road', 'rolls', 'romantic', 'room', 'rough', 'rub', 'rude', 'rumors', 'run', 'running', 'runs', 'rush', 'sad', 'safe', 'said', 'sales', 'salt', 'same', 'san', 'sandwich', 'sang', 'sarcasm', 'satisfiedCOMMA', 'save', 'saw', 'say', 'says', 'scared', 'school', 'scotland', 'scoundrel', 'season', 'seated', 'seats', 'seconds', 'secrets', 'see', 'seem', 'sell', 'served', 'set', 'sexy', 'sharp', 'shaved', 'she', 'shirt', 'shoes', 'shoot', 'shop', 'should', 'shouldnt', 'shovel', 'show', 'shower', 'shut', 'shy', 'sick', 'sign', 'silence', 'silly', 'simply', 'sing', 'singer', 'single', 'sister', 'sisters', 'sit', 'sixty', 'size', 'ski', 'skip', 'sleep', 'slept', 'slippery', 'smart', 'smarter', 'smell', 'smells', 'smile', 'smiled', 'smoke', 'smoking', 'snore', 'snow', 'so', 'soaking', 'solve', 'some', 'someday', 'someone', 'something', 'sometimes', 'soon', 'sorry', 'sound', 'soup', 'spare', 'speak', 'speaking', 'special', 'speed', 'spend', 'spiders', 'spilt', 'spit', 'spoiling', 'spoke', 'spray', 'square', 'stand', 'start', 'started', 'stay', 'stayed', 'step', 'stew', 'still', 'stinks', 'stomachache', 'stood', 'stop', 'stopped', 'stories', 'storm', 'strange', 'stranger', 'strong', 'stubborn', 'student', 'students', 'study', 'stuff', 'stupid', 'such', 'sue', 'suffer', 'suffering', 'sun', 'sundays', 'sunscreen', 'support', 'supposed', 'sure', 'surprised', 'surprises', 'survivors', 'suspect', 'suspense', 'suspicion', 'swam', 'swans', 'swept', 'swim', 'swimming', 'swimsuit', 'swore', 'table', 'take', 'taken', 'takes', 'taking', 'talk', 'talking', 'tall', 'taste', 'tattoos', 'taught', 'tea', 'teacher', 'teachers', 'tease', 'telephones', 'television', 'tell', 'telling', 'temperature', 'temple', 'ten', 'tennis', 'terrible', 'terrific', 'test', 'texting', 'than', 'thank', 'thanks', 'that', 'thatCOMMA', 'thats', 'the', 'them', 'themCOMMA', 'thenCOMMA', 'there', 'these', 'they', 'thin', 'things', 'think', 'thinking', 'thirsty', 'thirty', 'this', 'thisCOMMA', 'thisll', 'those', 'thoughtful', 'thoughts', 'three', 'through', 'throw', 'ticket', 'tidy', 'tie', 'time', 'times', 'tip', 'tire', 'tired', 'tiredCOMMA', 'to', 'today', 'toilet', 'told', 'tom', 'tomCOMMA', 'tomorrow', 'toms', 'tonight', 'tons', 'too', 'took', 'toothbrush', 'touch', 'tours', 'track', 'treat', 'tried', 'tries', 'truck', 'true', 'trust', 'truth', 'try', 'trying', 'turn', 'turning', 'tv', 'twin', 'twisting', 'two', 'type', 'ugly', 'umbrella', 'unambitious', 'under', 'underage', 'understand', 'undone', 'unfair', 'unnecessary', 'up', 'upset', 'upside', 'us', 'usCOMMA', 'use', 'useful', 'useless', 'using', 'vacancies', 'vacuum', 'very', 'view', 'virus', 'visit', 'voice', 'vote', 'wait', 'waited', 'wake', 'walked', 'walking', 'want', 'warm', 'warn', 'warned', 'was', 'wash', 'wasnt', 'waste', 'wasted', 'wasting', 'watch', 'watching', 'water', 'waved', 'way', 'we', 'weak', 'wear', 'wears', 'wednesday', 'week', 'weekend', 'weight', 'weird', 'welcome', 'well', 'went', 'wept', 'were', 'wet', 'whale', 'whales', 'what', 'whatever', 'whats', 'when', 'whenever', 'where', 'wheres', 'whichever', 'while', 'white', 'who', 'whos', 'whose', 'why', 'wife', 'will', 'win', 'wind', 'window', 'windows', 'wine', 'winked', 'wise', 'wish', 'with', 'without', 'woke', 'wolf', 'woman', 'won', 'wonCOMMA', 'wonderful', 'wont', 'wood', 'word', 'words', 'work', 'worked', 'working', 'works', 'worried', 'worry', 'worrying', 'worst', 'would', 'wow', 'write', 'writing', 'wrong', 'yawned', 'year', 'yell', 'yelling', 'yesterday', 'yet', 'yetCOMMA', 'yogurt', 'you', 'youd', 'youll', 'young', 'your', 'youre', 'yours', 'yourself', 'youve']\n",
      "all output words:  ['START_', '_END', 'a', 'ab', 'abend', 'abendessen', 'aber', 'abgegangen', 'abgegeben', 'abgenommen', 'abgeschlossen', 'abgewiesen', 'abholen', 'abreisen', 'abräumen', 'absichtlich', 'absorbieren', 'abzulegen', 'acht', 'achtgeben', 'acker', 'adresse', 'aha', 'ahnungCOMMA', 'ahnung“', 'albernen', 'aliens', 'alkohol', 'all', 'alle', 'allein', 'alleine', 'alleinstehend', 'aller', 'allergien', 'alles', 'allesCOMMA', 'allmählich', 'allzu', 'als', 'alt', 'aluminium', 'am', 'amerika', 'amüsieren', 'amüsierst', 'amüsiert', 'an', 'anCOMMA', 'andere', 'anderes', 'andermal', 'anders', 'anfang', 'anfangen', 'angekommen', 'angelogen', 'angerufen', 'angeschrien', 'angewohnheiten', 'angezogen', 'angriff', 'angst', 'anhalten', 'anmelden', 'anrufen', 'anschließe', 'anschließen', 'anschrift', 'ansehen', 'anstellen', 'antwort', 'antworte', 'antworten', 'antwortet', 'anwalt', 'apfelsinen', 'arabisch', 'arbeit', 'arbeiten', 'arbeitest', 'arbeitet', 'arbeitslos', 'arm', 'arzt', 'assistent', 'atem', 'atme', 'attacke', 'attraktiv', 'auch', 'auf', 'aufCOMMA', 'aufgeben', 'aufgeblieben', 'aufgebracht', 'aufgegeben', 'aufgegessen', 'aufgehört', 'aufgelegt', 'aufgepasst', 'aufgestanden', 'aufhören', 'aufnehmen', 'aufstehen', 'augen', 'augenlider', 'aus', 'ausCOMMA', 'ausdrücken', 'ausführen', 'ausgegangen', 'ausgehen', 'ausgenutzt', 'ausgeschaltet', 'ausgeschieden', 'ausgeschlossen', 'ausgestorben', 'ausgetauscht', 'ausgezeichnete', 'ausleihen', 'ausländer', 'ausländerin', 'ausnahme', 'ausprobieren', 'ausradieren', 'ausreden', 'ausruhen', 'ausschalten', 'aussicht', 'ausstellen', 'austern', 'australien', 'auto', 'autogramm', 'aß', 'b', 'backen', 'bad', 'badeanzug', 'bald', 'bananen', 'bar', 'baseballfan', 'bauchschmerzen', 'bauchweh', 'beantworte', 'beantworten', 'bedarf', 'bedrückend', 'beeil', 'beeilen', 'beeilt', 'befehle', 'befehlen', 'befindet', 'befolgen', 'befolgt', 'befreundet', 'befürchten', 'begegnet', 'begehren', 'beginnt', 'begreifen', 'behalt', 'behalten', 'behaltet', 'behandel', 'behandle', 'beharrlich', 'behebe', 'beheben', 'bei', 'beide', 'beigebracht', 'beim', 'beine', 'beispiel', 'bekannt', 'bekleidet', 'bekomme', 'bekommen', 'bekommenCOMMA', 'belastung', 'bellen', 'belogen', 'belügst', 'bemerkt', 'benutze', 'benutzen', 'benutzt', 'benötigen', 'beobachte', 'beobachten', 'beobachtet', 'bequem', 'bereit', 'bereits', 'bereuen', 'beruhige', 'beruhigen', 'berühren', 'bescheid', 'bescheiden', 'beschreiben', 'beschuldige', 'beschuldigen', 'beschäftigt', 'beschäftigtCOMMA', 'besetzt', 'besichtigt', 'besoffen', 'besonderes', 'besonders', 'besser', 'bestanden', 'beste', 'bestechen', 'besteht', 'bestellen', 'bestellt', 'bestellung', 'besten', 'bestimmt', 'beteiligen', 'betete', 'betrifft', 'betrogen', 'betrunken', 'bett', 'bettdecke', 'betätigt', 'beunruhigt', 'bewegen', 'bewegung', 'beweis', 'bewiesenCOMMA', 'bezahlen', 'bezahlenCOMMA', 'bezahlt', 'bezaubernd', 'bier', 'bieten', 'bild', 'bilde', 'bin', 'bin’s', 'bis', 'bisschen', 'bisschen“', 'bist', 'bitte', 'blau', 'blaue', 'blauwale', 'bleib', 'bleiben', 'bleibst', 'bleibt', 'blieb', 'blies', 'blinzelte', 'bloß', 'blumen', 'blutet', 'borniert', 'boston', 'boten', 'botschaft', 'bourbon', 'brasilien', 'brauchen', 'brauchst', 'braucht', 'braute', 'braves', 'brechen', 'brief', 'briefe', 'brille', 'bring', 'bringen', 'bringt', 'brot', 'bruch', 'brötchen', 'brüder', 'buch', 'bus', 'busse', 'butter', 'bänke', 'böse', 'bücher', 'chance', 'charismatisch', 'chef', 'christ', 'christin', 'chrysanthemen', 'computer', 'cool', 'da', 'dabei', 'dadurch', 'dafür', 'dageblieben', 'dagegen', 'dagelassen', 'dahin', 'danke', 'dann', 'daran', 'daranCOMMA', 'daraufCOMMA', 'daraus', 'darf', 'darfst', 'darin', 'darumCOMMA', 'darüber', 'das', 'dasCOMMA', 'dass', 'datei', 'davon', 'davonCOMMA', 'dazu', 'decke', 'deckung', 'dein', 'deine', 'deinen', 'deiner', 'deines', 'deins', 'delphine', 'dem', 'den', 'denk', 'denke', 'denken', 'denkst', 'denkt', 'denn', 'der', 'derjenigeCOMMA', 'deutlich', 'dich', 'dichter', 'dick', 'die', 'dies', 'diese', 'diesem', 'diesen', 'dieser', 'dieses', 'dinosaurier', 'dir', 'dirCOMMA', 'dj', 'doch', 'dochCOMMA', 'dollar', 'donnerwetter', 'doof', 'doppelzimmer', 'dort', 'dorthin', 'dran', 'dranCOMMA', 'drauf', 'drehen', 'drehst', 'drei', 'dreißig', 'drin', 'drinnen', 'drück', 'drücken', 'drückt', 'du', 'duCOMMA', 'dumm', 'dumme', 'dummes', 'dummkopf', 'dunkeln', 'durch', 'durchlöcherte', 'durchschaubar', 'durst', 'duschen', 'du’s', 'dünn', 'dürfen', 'dürft', 'dürfte', 'earlgreytee', 'echt', 'ehefrau', 'ehemann', 'ehrgeiz', 'ehrlich', 'eier', 'eigenes', 'eigentlich', 'ein', 'einander', 'einbrechen', 'eine', 'einem', 'einen', 'einer', 'eines', 'einfach', 'einfacher', 'einfangen', 'eingeladen', 'eingeschlafen', 'einmal', 'einsam', 'eintopf', 'eintritt', 'einverstanden', 'einwände', 'eltern', 'email', 'empfehlen', 'empfindliche', 'empfindlichen', 'ende', 'endlich', 'englisch', 'enkelkinder', 'entbehrlich', 'entenküken', 'entfernen', 'entgangen', 'entkam', 'entkommen', 'entscheidestCOMMA', 'entscheidung', 'entschuldigen', 'entschuldigung', 'entspann', 'entspanne', 'entspannen', 'entspannt', 'entzündetes', 'er', 'erCOMMA', 'erbärmlich', 'erdnussbutter', 'erfahrung', 'erfrischte', 'erfuhren', 'erholen', 'erinnern', 'erinnerst', 'erkennen', 'erkennst', 'erkennt', 'erklären', 'erledigen', 'ernst', 'ernsthaft', 'ernähren', 'erröteten', 'erschien', 'ersetzbar', 'erst', 'erteilen', 'erwarte', 'erwarten', 'erwartest', 'erwartet', 'erwartetCOMMA', 'erworben', 'erzähl', 'erzählen', 'erzähls', 'erzählt', 'es', 'esCOMMA', 'essen', 'esst', 'etwa', 'etwaCOMMA', 'etwas', 'euch', 'euchCOMMA', 'euer', 'eure', 'euren', 'eures', 'extrovertiert', 'facebook', 'fach', 'fahr', 'fahren', 'fahrenCOMMA', 'fahrkarte', 'fahrrad', 'fahrt', 'fair', 'fall', 'fallen', 'falsch', 'falschen', 'falsches', 'falte', 'familie', 'familieCOMMA', 'fang', 'fange', 'fangen', 'fangt', 'fantasievoll', 'fantastisch', 'farbe', 'fass', 'fassen', 'fasst', 'fast', 'faszinierend', 'feen', 'fehler', 'fehlerCOMMA', 'fehlt', 'feier', 'feiern', 'feiglinge', 'fenster', 'fern', 'fernsehen', 'fernseher', 'fertig', 'fest', 'festgenommen', 'fett', 'fettleibig', 'feuer', 'feuerwerk', 'fieber', 'fiel', 'film', 'filter', 'finde', 'finden', 'findest', 'findet', 'fitnessstudio', 'fleisch', 'fleißig', 'fleißiger', 'fliege', 'fliegen', 'fließend', 'flog', 'fluche', 'fluchte', 'flüchtete', 'folge', 'folgen', 'folter', 'football', 'forderte', 'fort', 'fotoapparat', 'fotografieren', 'frag', 'frage', 'fragen', 'fragt', 'francisco', 'französisch', 'frau', 'frei', 'freilaufenden', 'fremder', 'freude', 'freund', 'freunde', 'freundin', 'freundlich', 'friseur', 'fror', 'früchte', 'früh', 'früher', 'frühstück', 'fuhr', 'funktionieren', 'funktioniert', 'fußball', 'fährst', 'fährt', 'füge', 'fühl', 'fühlen', 'fühlst', 'führe', 'führen', 'führt', 'fünf', 'fünfmal', 'für', 'fürchte', 'fürchteCOMMA', 'fürchtet', 'gab', 'gabel', 'ganz', 'ganze', 'gar', 'garten', 'gasen', 'gebacken', 'gebadet', 'gebaut', 'gebe', 'geben', 'gebeut', 'gebissen', 'geboren', 'geborener', 'gebracht', 'gebrannte', 'gebranntes', 'gebrauchen', 'gebrochen', 'gedanken', 'gedrückt', 'geduldig', 'geduldiger', 'gefahr', 'gefahren', 'gefallen', 'gefasst', 'geflucht', 'geflüchtet', 'gefragt', 'gefressen', 'gefroren', 'gefunden', 'gefährdet', 'gefällt', 'gegangen', 'gegeben', 'gegen', 'gegend', 'gegessen', 'geglaubt', 'gegähnt', 'geh', 'gehe', 'geheimnis', 'gehen', 'gehenCOMMA', 'geholfen', 'geholfen“', 'gehst', 'geht', 'gehts', 'gehustet', 'gehören', 'gehörlos', 'gehört', 'gehörtCOMMA', 'geistergeschichten', 'gekauft', 'gekocht', 'gekommen', 'gelangen', 'geld', 'gelegen', 'geleistet', 'gelesen', 'gelogen', 'gelöst', 'gemacht', 'gemahlin', 'gemein', 'gemeint', 'gemerkt', 'gemietet', 'genauCOMMA', 'genieße', 'genießen', 'genießt', 'genug', 'genügt', 'gerade', 'gerannt', 'gerecht', 'gerettet', 'gern', 'gernCOMMA', 'gerne', 'geräusch', 'gerüchte', 'gesagt', 'gesagtCOMMA', 'geschafft', 'geschickt', 'geschlafen', 'geschlagen', 'geschummelt', 'geschwommen', 'geschworen', 'geschäft', 'gesehen', 'geselle', 'gesetz', 'gesetzt', 'gesicht', 'gespielt', 'gesprochen', 'gesprungen', 'gespuckt', 'gestellt', 'gestern', 'gestorben', 'gestört', 'gestürzt', 'gesundheit', 'getan', 'getanCOMMA', 'getauscht', 'getroffen', 'getrunken', 'getränk', 'gewaltiges', 'gewarnt', 'gewartet', 'gewaschen', 'gewechselt', 'geweint', 'gewesen', 'gewinne', 'gewinnen', 'gewinnt', 'gewitter', 'gewonnen', 'gewonnenCOMMA', 'geworden', 'gewunken', 'gewusst', 'gezahlt', 'gezogen', 'gib', 'gibst', 'gibt', 'gibt’s', 'ging', 'gitarre', 'glas', 'glatt', 'glatze', 'glatzköpfig', 'glaub', 'glaubCOMMA', 'glauben', 'glaubst', 'glaubt', 'glaubtCOMMA', 'gleich', 'gleiche', 'glänzende', 'glücklich', 'glücklichCOMMA', 'golfball', 'gott', 'grausam', 'greif', 'griff', 'groß', 'großartig', 'große', 'großes', 'großzügig', 'grund', 'grundCOMMA', 'größe', 'größere', 'größte', 'grün', 'gründlich', 'grüß', 'gurken', 'gut', 'gutCOMMA', 'gutaussehend', 'gute', 'guter', 'gutes', 'gähnte', 'gönnen', 'haar', 'haare', 'hab', 'habe', 'habeCOMMA', 'haben', 'haben’s', 'habs', 'habt', 'hab’s', 'half', 'hallo', 'halloCOMMA', 'halt', 'halte', 'halten', 'haltet', 'halt’s', 'halunke', 'handeln', 'handfesten', 'handschellen', 'hansen', 'hasse', 'hassen', 'hasst', 'hast', 'hat', 'hatte', 'hattest', 'hau', 'haus', 'hause', 'heben', 'heim', 'heimweh', 'heirate', 'heiß', 'helfen', 'helfenCOMMA', 'helft', 'hemd', 'her', 'heran', 'heraus', 'herein', 'herkommen', 'herum', 'herunter', 'hervorragend', 'hervorragender', 'herz', 'herzens', 'heuchler', 'heute', 'hielt', 'hier', 'hierCOMMA', 'hierher', 'hilf', 'hilfe', 'hilfestellung', 'hilfst', 'hilft', 'hin', 'hinein', 'hingefallen', 'hingegangen', 'hingehaut', 'hingehen', 'hinging', 'hinkriegt', 'hinlegen', 'hinter', 'hinterlassen', 'hintreten', 'hintretet', 'hintrittst', 'hinwegkommen', 'hinzufügen', 'hoch', 'hochschule', 'hoffe', 'hol', 'hols', 'holzfußboden', 'hotel', 'huhn', 'hund', 'hunde', 'hunden', 'hund“', 'hunger', 'hungrig', 'hustete', 'hut', 'hälften', 'hältst', 'hände', 'händen', 'hässlich', 'hätte', 'hätten', 'hättest', 'hättet', 'höflich', 'höflichCOMMA', 'höhenangst', 'hör', 'höre', 'hören', 'hörgerät', 'hörst', 'hört', 'hübsch', 'hügel', 'hühnern', 'hülf', 'ich', 'ichCOMMA', 'idiot', 'idioten', 'ignorieren', 'ignorierst', 'ihm', 'ihn', 'ihnen', 'ihnenCOMMA', 'ihr', 'ihrCOMMA', 'ihre', 'ihren', 'ihres', 'im', 'immer', 'in', 'inkompetent', 'inne', 'ins', 'insektenspray', 'insel', 'instrument', 'interessant', 'interessierst', 'introvertiert', 'irgend', 'irgendein', 'irgendeine', 'irgendetwas', 'irgendjemanden', 'irgendwas', 'irgendwelche', 'irgendwer', 'irgendwie', 'irren', 'irrst', 'irrt', 'iss', 'isst', 'ist', 'ja', 'jagd', 'jahr', 'jahre', 'japanisch', 'japanisches', 'jede', 'jedem', 'jeden', 'jedenfalls', 'jeder', 'jederzeit', 'jedes', 'jemand', 'jemandem', 'jemanden', 'jenem', 'jenen', 'jetzt', 'job', 'joghurteis', 'johannes', 'journalist', 'jung', 'junge', 'jungen', 'kaffee', 'kalt', 'kalter', 'kaltes', 'kam', 'kamele', 'kanadier', 'kann', 'kannst', 'kannten', 'kanntest', 'kanntet', 'kapierst', 'kapiert', 'kaputt', 'karte', 'kartoffeln', 'katholisch', 'katze', 'katzen', 'kau', 'kauen', 'kaufen', 'kauf’s', 'kaum', 'kaut', 'kein', 'keine', 'keinen', 'keinster', 'keks', 'kennen', 'kennenlernen', 'kennst', 'kennt', 'kerze', 'kicherte', 'kind', 'kinder', 'kirche', 'kissen', 'klappt', 'klar', 'klatschnass', 'klatschte', 'klavier', 'kleid', 'kleidung', 'kleingeld', 'klingelt', 'klingst', 'klug', 'kluger', 'klüger', 'knicken', 'knopf', 'koch', 'koche', 'kochen', 'kochstCOMMA', 'koma', 'komisch', 'komm', 'kommCOMMA', 'komme', 'kommen', 'kommenCOMMA', 'kommst', 'kommt', 'kommtCOMMA', 'kontakt', 'kontaktiere', 'kontaktieren', 'kontaktiert', 'konzert', 'kooperieren', 'kooperierst', 'kooperiert', 'kopf', 'kopfschmerzen', 'kopien', 'kram', 'krank', 'krankenhaus', 'krankenschwester', 'kreide', 'kriegen', 'kriegst', 'kriegt', 'krill', 'kritik', 'krokodil', 'kräftiger', 'kuchen', 'kultur', 'kundenkarte', 'kunst', 'kurz', 'können', 'könnenCOMMA', 'könnt', 'könnte', 'könnten', 'könntest', 'könntet', 'kühe', 'kühlschrank', 'kümmert’s“', 'küsse', 'küssen', 'küsst', 'lache', 'lachte', 'lage', 'lageCOMMA', 'land', 'lang', 'lange', 'langsam', 'langweilig', 'langweilst', 'lass', 'lassen', 'lasst', 'lauf', 'laufe', 'laufen', 'lauter', 'leb', 'leben', 'leber', 'lebst', 'leg', 'legen', 'legt', 'lehn', 'lehnt', 'lehrer', 'lehrerin', 'lehrerinnen', 'leicht', 'leid', 'leiden', 'leine', 'leisten', 'leitung', 'lernen', 'lernst', 'lesen', 'letzte', 'leuteCOMMA', 'licht', 'lichthupe', 'lieb', 'liebe', 'lieber', 'liebesbriefe', 'lieblingsfarbe', 'liebst', 'lief', 'liefert', 'liegst', 'liegt', 'lies', 'links', 'lippen', 'liste', 'lkw', 'log', 'los', 'losgehen', 'los“', 'luft', 'luftveränderung', 'lächeln', 'lächelte', 'lästig', 'läufst', 'läuft', 'lösche', 'löschen', 'löscht', 'lösen', 'löwe', 'löwenjunge', 'lüge', 'lügner', 'lügnerin', 'lügst', 'lügt', 'mach', 'mache', 'machen', 'machenCOMMA', 'machst', 'macht', 'mag', 'magie', 'magst', 'mailen', 'mais', 'mal', 'mama', 'mamasöhnchen', 'man', 'manchmal', 'mangoeis', 'mann', 'mantel', 'maria', 'marias', 'mary', 'maul', 'mehr', 'meiden', 'meidest', 'meidet', 'mein', 'meine', 'meinem', 'meinen', 'meinst', 'menge', 'mensch', 'messen', 'messer', 'metall', 'mich', 'michCOMMA', 'milch', 'minderjährig', 'mineralwasser', 'minute', 'minuten', 'mir', 'mirCOMMA', 'mischung', 'mist', 'mit', 'miteinander', 'mitfahren', 'mitgebracht', 'mitglied', 'mitkommen', 'mitmachen', 'mittlerweile', 'mittwoch', 'mobiltelefon', 'modebewusst', 'moment', 'montag', 'montagCOMMA', 'montagabend', 'morgen', 'mpplayer', 'mumm', 'munde', 'mundgeruch', 'muss', 'musst', 'mussten', 'musstest', 'mutig', 'mutiger', 'mutter', 'mädchen', 'möchte', 'möchten', 'möchtest', 'möchtet', 'mögen', 'möglich', 'mögt', 'müde', 'müdeCOMMA', 'mühe', 'münze', 'müssen', 'müsst', 'na', 'naCOMMA', 'nach', 'nachbar', 'nachbarin', 'nachdenken', 'nachdenklich', 'nachlassen', 'nachricht', 'nachrichten', 'nacht', 'nachwachsen', 'nachzuahmen', 'nagel', 'naiv', 'namen', 'nanntest', 'nase', 'nass', 'nasse', 'neben', 'nehmen', 'nehmt', 'nein', 'nenn', 'nennen', 'nennt', 'nerv', 'nervig', 'nervst', 'nervös', 'nett', 'netter', 'neu', 'neue', 'neuen', 'neues', 'neuigkeiten', 'nicht', 'nichtCOMMA', 'nichts', 'nickte', 'nie', 'nieCOMMA', 'nieder', 'niedergeschlagen', 'niederlegen', 'niemand', 'niemanden', 'nimm', 'nimmst', 'nitroglycerin', 'noch', 'nochmal', 'notitzbücher', 'notizen', 'nummern', 'nun', 'nur', 'nächste', 'nächsten', 'näher', 'näherte', 'nützlich', 'ob', 'oben', 'oder', 'ofen', 'offen', 'offengelassen', 'oft', 'ohCOMMA', 'ohne', 'ohnmacht', 'ohnmächtig', 'ohren', 'okay', 'optimist', 'orange', 'orangen', 'ordentlich', 'ordnung', 'osten', 'paar', 'pack', 'packen', 'palme', 'papa', 'park', 'party', 'pass', 'passen', 'passieren', 'passiert', 'passt', 'pause', 'pausierte', 'pension', 'per', 'perfekt', 'pferd', 'pfiffig', 'pflegte', 'phantasie', 'pizza', 'plan', 'plattenaufleger', 'plätzchen', 'plätze', 'polizei', 'polizist', 'pommes', 'potzdonner', 'priester', 'prinzessin', 'prise', 'probier', 'probiere', 'problem', 'prüfung', 'puste', 'pusten', 'pünktlich', 'rad', 'rahm', 'rannte', 'rasiert', 'rasierte', 'rassisten', 'rastete', 'rat', 'ratschläge', 'ratte', 'rauche', 'rauchen', 'raus', 'rechner', 'recht', 'rechtCOMMA', 'rechtsanwalt', 'reden', 'redet', 'reg', 'regen', 'regenschirm', 'regnen', 'reich', 'reichCOMMA', 'reifen', 'rein', 'reis', 'rennen', 'rennt', 'repariere', 'reparieren', 'reserviert', 'rette', 'retten', 'rettet', 'richter', 'richtig', 'richtung', 'riechen', 'riecht', 'ritterlichkeit', 'rolleCOMMA', 'roman', 'romantisch', 'rot', 'rucksack', 'ruf', 'rufe', 'rufen', 'rufst', 'ruft', 'ruhe', 'ruhig', 'ruhigCOMMA', 'runden', 'rundum', 'runter', 'runtergefallen', 'runzelte', 'räum', 'räumen', 'räumt', 'rücken', 'sachen', 'sack', 'sag', 'sage', 'sagen', 'sagenhaft', 'sagst', 'sagt', 'sagte', 'sagtest', 'sah', 'sahst', 'saison', 'salz', 'san', 'sandwich', 'sanftCOMMA', 'sanfter', 'sang', 'sarkasmus', 'satt', 'sauber', 'sause', 'schade', 'schaffe', 'schaffen', 'schatz', 'schau', 'schauen', 'schauspielerin', 'schaust', 'schaut', 'schein', 'scheinen', 'scheinst', 'scheint', 'scher', 'scheuen', 'scheuern', 'scheut', 'schick', 'schicken', 'schieß', 'schießen', 'schlafen', 'schlage', 'schlagen', 'schlagt', 'schlau', 'schlaumeier', 'schlecht', 'schlechte', 'schlechter', 'schlechtes', 'schließ', 'schließe', 'schließlich', 'schlimmste', 'schlips', 'schlug', 'schluss', 'schläfchen', 'schlüsse', 'schlüssel', 'schmeiß', 'schmeißen', 'schmeißt', 'schmerzen', 'schmerzt', 'schmutzig', 'schnapp', 'schnarche', 'schneeschieber', 'schneide', 'schneien', 'schnell', 'schon', 'schottland', 'schrank', 'schrecklich', 'schreckliche', 'schrecklicher', 'schreib', 'schreiben', 'schreibst', 'schreibt', 'schreibtisch', 'schrien', 'schuhe', 'schuld', 'schulde', 'schuldest', 'schule', 'schwach', 'schwamm', 'schwammen', 'schwarz', 'schwarze', 'schwarzen', 'schweig', 'schweinefleisch', 'schwer', 'schweres', 'schwermütig', 'schwestern', 'schwimme', 'schwimmen', 'schwirr', 'schwur', 'schwäne', 'schwänzen', 'schön', 'schöne', 'schönen', 'schüchtern', 'schüler', 'sechzig', 'sehe', 'sehen', 'sehr', 'sei', 'seid', 'seien', 'sein', 'seine', 'seinen', 'seins', 'sekunden', 'selbst', 'seltsam', 'sers', 'serviert', 'setz', 'setzen', 'sexy', 'sich', 'sicher', 'sicherCOMMA', 'sicheren', 'sie', 'sieCOMMA', 'sieden', 'sieh', 'siehst', 'sieht', 'sind', 'singst', 'sitzungen', 'ski', 'so', 'sofort', 'solange', 'solch', 'soll', 'solle', 'sollen', 'sollte', 'sollten', 'solltest', 'solltet', 'sonne', 'sonnenmilch', 'sonntags', 'sonst', 'sorge', 'sorgen', 'soweit', 'sowohl', 'spann', 'spaß', 'spendier', 'spielen', 'spielst', 'spielt', 'spieltest', 'spinnen', 'spionierst', 'sprach', 'sprache', 'spreche', 'sprechen', 'sprich', 'sprichst', 'spricht', 'spring', 'spuckte', 'spät', 'später', 'stand', 'standen', 'starb', 'staubsauger', 'stecker', 'steckst', 'steh', 'stehe', 'stehen', 'stehenbleiben', 'stehst', 'steht', 'stell', 'stelle', 'stellen', 'stellt', 'stifte', 'still', 'stille', 'stimme', 'stimmen', 'stimmt', 'stimmung', 'stinkt', 'stirb', 'stirn', 'stoffe', 'stopp', 'strafe', 'straße', 'student', 'studieren', 'studierst', 'stunde', 'stur', 'sturm', 'stöhnte', 'stück', 'stürzte', 'suchen', 'suchst', 'suppe', 'sympathisch', 'sämtliche', 'sänger', 'sängerin', 'säugetiere', 'süß', 'tag', 'tage', 'tagen', 'tages', 'tagesausflüge', 'tanz', 'tanzen', 'tanzenCOMMA', 'tanzten', 'tapfer', 'taschen', 'taschenlampe', 'tassen', 'taub', 'tee', 'teile', 'teilweise', 'telefon', 'tempel', 'tennis', 'test', 'thomas', 'tief', 'tier', 'tiere', 'tieren', 'tinte', 'tisch', 'tochter', 'tod', 'toilette', 'toll', 'tom', 'tomCOMMA', 'toms', 'tom“', 'tot', 'totaler', 'traf', 'tragen', 'tragt', 'trauen', 'traurig', 'treffen', 'trete', 'treue', 'trinken', 'trinkgeld', 'trinkst', 'trinkt', 'trocken', 'troll', 'träge', 'trägst', 'trägt', 'träumer', 'trügt', 'tschüss', 'tu', 'tuCOMMA', 'tue', 'tun', 'tunCOMMA', 'tust', 'tut', 'typ', 'tänzer', 'tänzerin', 'täten', 'tätowierungen', 'töchter', 'töte', 'töten', 'tötet', 'tür', 'türe', 'uhr', 'uhren', 'um', 'umarme', 'umarmen', 'umarmt', 'umtausch', 'umwerfend', 'unabhängig', 'unausweichlich', 'unbedingt', 'und', 'unfall', 'ungefährlich', 'ungerecht', 'unglaublich', 'unhöflich', 'unmöglich', 'uns', 'unser', 'unter', 'unterbringen', 'unterkommen', 'unterkriegen', 'unterricht', 'unterschied', 'unterschreiben', 'unterschrieben', 'unterstützung', 'unterwiesen', 'unvermeidlich', 'unverschämt', 'vater', 'verbessert', 'verbindung', 'verboten', 'verbrenn', 'verbrenne', 'verbrennen', 'verbrennt', 'verdacht', 'verdient', 'verdirbst', 'verdreht', 'verdufte', 'verfolgt', 'vergangene', 'vergessen', 'vergesst', 'vergeudet', 'vergiss', 'vergleiche', 'vergnügen', 'vergossene', 'vergrabe', 'verhaften', 'verheiratet', 'verirrt', 'verkaufen', 'verkehrt', 'verklagen', 'verkrümele', 'verlassen', 'verlaufen', 'verlegen', 'verlegenheit', 'verletztCOMMA', 'verlieren', 'verlierer', 'verloren', 'vermisse', 'vermutet', 'vernehme', 'verpasst', 'verpetzt', 'verpiss', 'verraten', 'verratenCOMMA', 'verrückt', 'versagen', 'verschwende', 'verschwenden', 'verschwendest', 'verschwendet', 'verschwinde', 'verschwindet', 'verschüttet', 'versorgen', 'verspreche', 'versprechen', 'versprechs', 'verstand', 'verstanden', 'verstecken', 'versteckt', 'versteckte', 'verstehe', 'versteheCOMMA', 'verstehen', 'verstehst', 'versteht', 'verständlicher', 'versuch', 'versuche', 'versuchen', 'versuchst', 'versucht', 'versuchte', 'versuchten', 'versuch’s', 'versüßt', 'vertrag', 'vertraue', 'vertrauen', 'vertraut', 'verwenden', 'verzeihung', 'verzieh', 'verziehen', 'verändert', 'veränderung', 'verängstigt', 'verärgert', 'viel', 'viele', 'vieles', 'vielleicht', 'vier', 'virus', 'vogel', 'voll', 'volle', 'voller', 'vom', 'von', 'vor', 'vorCOMMA', 'voraus', 'vorbei', 'vorbereitet', 'voreiligen', 'vorschriften', 'vorsicht', 'vorsichtig', 'vorstellung', 'vorstellungsgespräch', 'vögel', 'völlig', 'wach', 'wachen', 'wachsam', 'waffe', 'wagen', 'wagst', 'wahl', 'wahr', 'wahre', 'wahrheit', 'wahrscheinlich', 'wale', 'wanderschuhe', 'wanderstiefel', 'wann', 'war', 'waren', 'warm', 'warne', 'warnen', 'warst', 'wart', 'warte', 'warten', 'wartet', 'warum', 'was', 'wasch', 'waschen', 'wasser', 'weckte', 'weg', 'weggehen', 'wegschicken', 'weh', 'wehgetan', 'wehte', 'weigere', 'weihnachten', 'wein', 'weine', 'weinen', 'weinend', 'weint', 'weinte', 'weise', 'weit', 'weiter', 'weiterleben', 'weiß', 'weißCOMMA', 'weißt', 'weißtCOMMA', 'welt', 'wem', 'wenigstens', 'wenn', 'wer', 'werde', 'werden', 'werdet', 'werfen', 'wettbewerb', 'wichtig', 'wie', 'wieder', 'wiederholen', 'wiedersehen', 'will', 'willCOMMA', 'willen', 'willkommen', 'willst', 'wind', 'wink', 'winkte', 'wir', 'wird', 'wirken', 'wirklich', 'wirkst', 'wirkt', 'wirst', 'wissen', 'wissenCOMMA', 'wisst', 'wisstCOMMA', 'witz', 'wo', 'woche', 'wochenende', 'wohl', 'wohnen', 'wohnst', 'wohnt', 'wohnung', 'wolf', 'wolkig', 'wollen', 'wollenCOMMA', 'wollt', 'wollte', 'worden', 'worin', 'wort', 'wozu', 'wunder', 'wunderbar', 'wunderbare', 'wurde', 'wusste', 'wussten', 'wusstest', 'wusstet', 'wähleCOMMA', 'wählen', 'wähltCOMMA', 'wäre', 'wärest', 'wörterbuch', 'würde', 'würden', 'wüsste', 'wüste', 'wütend', 'wütendCOMMA', 'zahlen', 'zahlte', 'zahn', 'zahnbürste', 'zahnfleisch', 'zeigen', 'zeigs', 'zeit', 'zeiten', 'zerstöre', 'zerstört', 'zeug', 'zieh', 'ziehe', 'ziehen', 'zieht', 'zielen', 'ziemlich', 'zimmer', 'zimmerdecke', 'zimmernummerCOMMA', 'zisch', 'zu', 'zuCOMMA', 'zufrieden', 'zufriedenCOMMA', 'zufälligerweise', 'zugelassen', 'zuhause', 'zuhören', 'zukunft', 'zum', 'zur', 'zurecht', 'zurück', 'zurückrufen', 'zusammen', 'zusammenrechnen', 'zuständig', 'zutritt', 'zwei', 'zwillingsschwester', 'zwinge', 'zwingen', 'zwingenCOMMA', 'zwinkerte', 'zypern', 'zählen', 'ächzte', 'älter', 'änderst', 'änderte', 'änderungen', 'ängsten', 'äpfel', 'ärgern', 'ärztin', 'öffne', 'öffnen', 'öffnet', 'über', 'überbewertet', 'überbringer', 'überhaupt', 'überlassen', 'überlebende', 'überlebenskünstler', 'übernimmst', 'überrascht', 'überraschungen', 'überstürzenCOMMA', 'überwachst', 'überzeug', 'überzeugt', 'übrig', '–', '’n', '’ne', '„ein', '„hast', '„hat’s', '„mich“', '„nein“', '„nichts“', '„null', '„was', '„wen', '„wo']\n",
      "encoder tokens:  1394\n",
      "decoder tokens:  1394\n"
     ]
    }
   ],
   "source": [
    "# making a list of all input and output words and sorting them out\n",
    "input_words = sorted(list(all_english_words))\n",
    "output_words = sorted(list(all_deu_words))\n",
    "print('all input words: ', input_words)\n",
    "print('all output words: ', output_words)\n",
    "\n",
    "#getting total tokens(words) from input and output\n",
    "num_encoder_tokens = len(all_english_words)\n",
    "num_decoder_tokens = len(all_deu_words)\n",
    "print('encoder tokens: ', num_encoder_tokens)\n",
    "print('decoder tokens: ', num_encoder_tokens)"
   ]
  },
  {
   "cell_type": "code",
   "execution_count": 124,
   "id": "3bbceebe",
   "metadata": {},
   "outputs": [
    {
     "name": "stdout",
     "output_type": "stream",
     "text": [
      "input token index:  {'a': 0, 'about': 1, 'absolute': 2, 'absorbs': 3, 'accident': 4, 'ache': 5, 'across': 6, 'actress': 7, 'actually': 8, 'actuallyCOMMA': 9, 'add': 10, 'address': 11, 'admitted': 12, 'advance': 13, 'advantage': 14, 'advice': 15, 'afford': 16, 'afraid': 17, 'after': 18, 'again': 19, 'agree': 20, 'ahead': 21, 'aid': 22, 'aim': 23, 'air': 24, 'alcohol': 25, 'aliens': 26, 'alive': 27, 'all': 28, 'allergies': 29, 'allow': 30, 'alls': 31, 'almost': 32, 'alone': 33, 'along': 34, 'already': 35, 'also': 36, 'aluminum': 37, 'always': 38, 'am': 39, 'america': 40, 'an': 41, 'and': 42, 'angry': 43, 'angryCOMMA': 44, 'animal': 45, 'animals': 46, 'annoying': 47, 'another': 48, 'answer': 49, 'any': 50, 'anybody': 51, 'anymore': 52, 'anyone': 53, 'anything': 54, 'anythings': 55, 'anywayCOMMA': 56, 'apartment': 57, 'appearances': 58, 'appeared': 59, 'apples': 60, 'approached': 61, 'approve': 62, 'arabic': 63, 'are': 64, 'arent': 65, 'around': 66, 'arrest': 67, 'arrive': 68, 'arrived': 69, 'art': 70, 'as': 71, 'ask': 72, 'asked': 73, 'asking': 74, 'asleep': 75, 'assistance': 76, 'assistant': 77, 'at': 78, 'ate': 79, 'attack': 80, 'attacked': 81, 'attention': 82, 'attractive': 83, 'australia': 84, 'autograph': 85, 'available': 86, 'avoiding': 87, 'awake': 88, 'away': 89, 'awesome': 90, 'awful': 91, 'b': 92, 'baby': 93, 'back': 94, 'backpack': 95, 'bad': 96, 'bag': 97, 'bags': 98, 'bake': 99, 'baked': 100, 'bald': 101, 'ball': 102, 'bananas': 103, 'bark': 104, 'baseball': 105, 'bath': 106, 'be': 107, 'beat': 108, 'beats': 109, 'beautiful': 110, 'bed': 111, 'been': 112, 'beer': 113, 'beerCOMMA': 114, 'before': 115, 'begin': 116, 'behind': 117, 'being': 118, 'believe': 119, 'benches': 120, 'best': 121, 'betrayed': 122, 'better': 123, 'big': 124, 'biggest': 125, 'bike': 126, 'bird': 127, 'birds': 128, 'bit': 129, 'black': 130, 'blame': 131, 'blaming': 132, 'blanket': 133, 'bleeding': 134, 'bless': 135, 'blew': 136, 'blocking': 137, 'blow': 138, 'blowing': 139, 'blue': 140, 'blushed': 141, 'boat': 142, 'boil': 143, 'book': 144, 'books': 145, 'boots': 146, 'bored': 147, 'boring': 148, 'born': 149, 'borrow': 150, 'boss': 151, 'boston': 152, 'both': 153, 'bought': 154, 'bourbon': 155, 'boy': 156, 'boyfriend': 157, 'boys': 158, 'brave': 159, 'brazil': 160, 'bread': 161, 'break': 162, 'breakfast': 163, 'breath': 164, 'breathe': 165, 'brewing': 166, 'brief': 167, 'bright': 168, 'brightened': 169, 'bring': 170, 'broken': 171, 'brothers': 172, 'bug': 173, 'burn': 174, 'burnt': 175, 'bury': 176, 'bus': 177, 'buses': 178, 'busy': 179, 'but': 180, 'butter': 181, 'button': 182, 'buy': 183, 'by': 184, 'cake': 185, 'call': 186, 'calm': 187, 'came': 188, 'camels': 189, 'camera': 190, 'can': 191, 'canadian': 192, 'canadians': 193, 'candle': 194, 'cant': 195, 'car': 196, 'card': 197, 'care': 198, 'careful': 199, 'cares': 200, 'carry': 201, 'cash': 202, 'cat': 203, 'catch': 204, 'catholic': 205, 'cats': 206, 'ceiling': 207, 'cellphones': 208, 'chalk': 209, 'chance': 210, 'change': 211, 'changeCOMMA': 212, 'changed': 213, 'charge': 214, 'charismatic': 215, 'chased': 216, 'cheated': 217, 'check': 218, 'cheer': 219, 'cheers': 220, 'cherish': 221, 'chew': 222, 'chicken': 223, 'child': 224, 'children': 225, 'chill': 226, 'chivalry': 227, 'choice': 228, 'choose': 229, 'christian': 230, 'christmas': 231, 'chrysanthemums': 232, 'church': 233, 'clapped': 234, 'class': 235, 'classes': 236, 'clean': 237, 'cleaners': 238, 'clear': 239, 'clearer': 240, 'clever': 241, 'clocks': 242, 'close': 243, 'closely': 244, 'cloth': 245, 'clothes': 246, 'cloudy': 247, 'coat': 248, 'coffee': 249, 'coin': 250, 'cold': 251, 'college': 252, 'color': 253, 'coma': 254, 'come': 255, 'comfortable': 256, 'coming': 257, 'comingCOMMA': 258, 'comparisons': 259, 'competition': 260, 'complete': 261, 'computer': 262, 'computers': 263, 'concede': 264, 'concert': 265, 'conclusions': 266, 'contact': 267, 'contract': 268, 'convinced': 269, 'cook': 270, 'cookie': 271, 'cooking': 272, 'cool': 273, 'cooperating': 274, 'copies': 275, 'corn': 276, 'correct': 277, 'coughed': 278, 'could': 279, 'couldve': 280, 'count': 281, 'country': 282, 'cowards': 283, 'cows': 284, 'cream': 285, 'creamCOMMA': 286, 'credit': 287, 'cried': 288, 'criticism': 289, 'crocodile': 290, 'cruel': 291, 'cry': 292, 'crying': 293, 'cucumbers': 294, 'cuff': 295, 'culture': 296, 'curse': 297, 'cursed': 298, 'cut': 299, 'cute': 300, 'cyprus': 301, 'dad': 302, 'damages': 303, 'dance': 304, 'danceCOMMA': 305, 'dancer': 306, 'dancing': 307, 'danger': 308, 'dark': 309, 'dating': 310, 'daughter': 311, 'daughters': 312, 'day': 313, 'days': 314, 'dead': 315, 'deaf': 316, 'dear': 317, 'death': 318, 'deceiving': 319, 'decide': 320, 'decision': 321, 'deep': 322, 'delete': 323, 'deliver': 324, 'demand': 325, 'depressed': 326, 'depressing': 327, 'describe': 328, 'desert': 329, 'deserve': 330, 'desire': 331, 'desk': 332, 'destroy': 333, 'destroys': 334, 'detect': 335, 'dictates': 336, 'dictionary': 337, 'did': 338, 'didnt': 339, 'die': 340, 'died': 341, 'difference': 342, 'different': 343, 'difficult': 344, 'dinner': 345, 'dinosaurs': 346, 'dirty': 347, 'disconnect': 348, 'divide': 349, 'dj': 350, 'do': 351, 'doctor': 352, 'does': 353, 'doesnt': 354, 'dog': 355, 'dogs': 356, 'doing': 357, 'dollars': 358, 'dolphins': 359, 'done': 360, 'dont': 361, 'door': 362, 'double': 363, 'down': 364, 'dreads': 365, 'dreamer': 366, 'dress': 367, 'dressed': 368, 'drink': 369, 'drinking': 370, 'drive': 371, 'driveCOMMA': 372, 'drop': 373, 'dropped': 374, 'drove': 375, 'drunk': 376, 'dry': 377, 'duck': 378, 'ducks': 379, 'dumb': 380, 'each': 381, 'earl': 382, 'early': 383, 'earlyCOMMA': 384, 'east': 385, 'easy': 386, 'eat': 387, 'eaten': 388, 'eggs': 389, 'eight': 390, 'either': 391, 'elaborate': 392, 'else': 393, 'email': 394, 'embarrass': 395, 'embarrassing': 396, 'ending': 397, 'ends': 398, 'english': 399, 'enjoy': 400, 'enjoying': 401, 'enough': 402, 'erase': 403, 'errors': 404, 'escaped': 405, 'even': 406, 'evening': 407, 'ever': 408, 'every': 409, 'everybody': 410, 'everyone': 411, 'evidence': 412, 'exactly': 413, 'example': 414, 'excellent': 415, 'exception': 416, 'excuse': 417, 'exist': 418, 'expect': 419, 'expecting': 420, 'experienced': 421, 'experts': 422, 'explain': 423, 'extinct': 424, 'extroverted': 425, 'eyelids': 426, 'eyes': 427, 'face': 428, 'facebook': 429, 'fail': 430, 'failure': 431, 'fainted': 432, 'fair': 433, 'fairies': 434, 'faithful': 435, 'fall': 436, 'falling': 437, 'familiar': 438, 'family': 439, 'familyCOMMA': 440, 'fan': 441, 'fantastic': 442, 'fascinating': 443, 'fashionable': 444, 'fast': 445, 'fat': 446, 'father': 447, 'favor': 448, 'favorite': 449, 'fear': 450, 'fears': 451, 'feed': 452, 'feel': 453, 'feet': 454, 'fell': 455, 'fever': 456, 'few': 457, 'file': 458, 'filter': 459, 'final': 460, 'find': 461, 'fine': 462, 'finish': 463, 'fire': 464, 'fireworks': 465, 'firm': 466, 'first': 467, 'firstCOMMA': 468, 'fit': 469, 'five': 470, 'fix': 471, 'flash': 472, 'flashlight': 473, 'fled': 474, 'flew': 475, 'flip': 476, 'float': 477, 'floor': 478, 'flowers': 479, 'fluent': 480, 'fly': 481, 'fold': 482, 'follow': 483, 'food': 484, 'foods': 485, 'fool': 486, 'football': 487, 'for': 488, 'force': 489, 'foreheads': 490, 'foreigner': 491, 'forget': 492, 'forgive': 493, 'forgot': 494, 'forgotten': 495, 'fork': 496, 'four': 497, 'francisco': 498, 'free': 499, 'freerange': 500, 'freeze': 501, 'french': 502, 'frenchCOMMA': 503, 'fridge': 504, 'friend': 505, 'friends': 506, 'fries': 507, 'from': 508, 'frowned': 509, 'froze': 510, 'frozen': 511, 'fruit': 512, 'full': 513, 'fun': 514, 'funny': 515, 'future': 516, 'game': 517, 'games': 518, 'garden': 519, 'gases': 520, 'gave': 521, 'generous': 522, 'gentle': 523, 'gentleCOMMA': 524, 'get': 525, 'getting': 526, 'ghost': 527, 'giggled': 528, 'girl': 529, 'girlfriend': 530, 'girls': 531, 'give': 532, 'glass': 533, 'glasses': 534, 'go': 535, 'goCOMMA': 536, 'going': 537, 'golf': 538, 'good': 539, 'goodbye': 540, 'goodlooking': 541, 'goodnight': 542, 'gorgeous': 543, 'got': 544, 'grab': 545, 'grandchildren': 546, 'great': 547, 'green': 548, 'grey': 549, 'grow': 550, 'guard': 551, 'guitar': 552, 'gum': 553, 'gun': 554, 'guts': 555, 'guys': 556, 'gym': 557, 'habits': 558, 'had': 559, 'hair': 560, 'haircut': 561, 'hairs': 562, 'half': 563, 'hands': 564, 'handsome': 565, 'handy': 566, 'hang': 567, 'happen': 568, 'happened': 569, 'happy': 570, 'happyCOMMA': 571, 'hard': 572, 'harder': 573, 'hardworking': 574, 'has': 575, 'hat': 576, 'hate': 577, 'have': 578, 'havent': 579, 'having': 580, 'he': 581, 'head': 582, 'hear': 583, 'heard': 584, 'hearing': 585, 'heart': 586, 'heights': 587, 'hello': 588, 'help': 589, 'helped': 590, 'helpful': 591, 'helping': 592, 'helps': 593, 'her': 594, 'here': 595, 'hereCOMMA': 596, 'heres': 597, 'hes': 598, 'hi': 599, 'hiCOMMA': 600, 'hid': 601, 'hide': 602, 'high': 603, 'hill': 604, 'him': 605, 'hint': 606, 'hire': 607, 'his': 608, 'hit': 609, 'hold': 610, 'home': 611, 'homesick': 612, 'honestly': 613, 'hooky': 614, 'hop': 615, 'hope': 616, 'horse': 617, 'hospital': 618, 'hot': 619, 'hotel': 620, 'hour': 621, 'house': 622, 'how': 623, 'hug': 624, 'humble': 625, 'humor': 626, 'hung': 627, 'hungry': 628, 'hunting': 629, 'hurried': 630, 'hurry': 631, 'hurt': 632, 'hurtCOMMA': 633, 'hurts': 634, 'husband': 635, 'hypocrite': 636, 'i': 637, 'ice': 638, 'ideaCOMMA': 639, 'ideas': 640, 'idiot': 641, 'if': 642, 'ignore': 643, 'ignoring': 644, 'ill': 645, 'im': 646, 'imaginative': 647, 'imagining': 648, 'imitate': 649, 'imminent': 650, 'important': 651, 'improved': 652, 'improving': 653, 'in': 654, 'incompetent': 655, 'incredible': 656, 'independent': 657, 'indoors': 658, 'inevitable': 659, 'infection': 660, 'ink': 661, 'insane': 662, 'inside': 663, 'instrument': 664, 'intend': 665, 'interested': 666, 'interesting': 667, 'interrupt': 668, 'interview': 669, 'into': 670, 'introverted': 671, 'invited': 672, 'is': 673, 'island': 674, 'isnt': 675, 'it': 676, 'itCOMMA': 677, 'itll': 678, 'its': 679, 'jackson': 680, 'japanese': 681, 'job': 682, 'john': 683, 'join': 684, 'journalist': 685, 'judge': 686, 'jump': 687, 'jumped': 688, 'just': 689, 'keep': 690, 'key': 691, 'keys': 692, 'kid': 693, 'kidding': 694, 'kids': 695, 'kill': 696, 'kind': 697, 'kiss': 698, 'knew': 699, 'knife': 700, 'know': 701, 'knows': 702, 'krill': 703, 'language': 704, 'large': 705, 'larger': 706, 'last': 707, 'lastCOMMA': 708, 'late': 709, 'later': 710, 'laterCOMMA': 711, 'laugh': 712, 'laughed': 713, 'law': 714, 'lawyer': 715, 'lazy': 716, 'leads': 717, 'lean': 718, 'learn': 719, 'least': 720, 'leave': 721, 'leaving': 722, 'left': 723, 'legs': 724, 'lend': 725, 'let': 726, 'lets': 727, 'letter': 728, 'letters': 729, 'liability': 730, 'liar': 731, 'lie': 732, 'lied': 733, 'lies': 734, 'lift': 735, 'light': 736, 'lights': 737, 'like': 738, 'likes': 739, 'line': 740, 'lion': 741, 'lions': 742, 'lips': 743, 'list': 744, 'listen': 745, 'listenCOMMA': 746, 'listening': 747, 'little': 748, 'live': 749, 'liver': 750, 'living': 751, 'lock': 752, 'lonely': 753, 'long': 754, 'longer': 755, 'look': 756, 'looked': 757, 'looking': 758, 'lose': 759, 'loser': 760, 'lost': 761, 'lot': 762, 'lots': 763, 'love': 764, 'low': 765, 'lying': 766, 'mad': 767, 'made': 768, 'magic': 769, 'mail': 770, 'make': 771, 'makes': 772, 'making': 773, 'mamas': 774, 'mammal': 775, 'man': 776, 'managed': 777, 'mango': 778, 'marbles': 779, 'married': 780, 'marry': 781, 'mary': 782, 'marys': 783, 'matter': 784, 'may': 785, 'me': 786, 'meCOMMA': 787, 'meal': 788, 'mean': 789, 'measure': 790, 'meat': 791, 'meet': 792, 'meetings': 793, 'member': 794, 'mention': 795, 'mess': 796, 'message': 797, 'messages': 798, 'messenger': 799, 'met': 800, 'metal': 801, 'might': 802, 'mightve': 803, 'milk': 804, 'mind': 805, 'mine': 806, 'mineral': 807, 'minute': 808, 'minutes': 809, 'miracles': 810, 'miss': 811, 'missed': 812, 'mistake': 813, 'mistaken': 814, 'mixture': 815, 'moaned': 816, 'modest': 817, 'mom': 818, 'moment': 819, 'monday': 820, 'money': 821, 'mood': 822, 'more': 823, 'morning': 824, 'mother': 825, 'movie': 826, 'mp': 827, 'much': 828, 'must': 829, 'mustve': 830, 'my': 831, 'nail': 832, 'naive': 833, 'name': 834, 'nap': 835, 'narrowminded': 836, 'need': 837, 'neednt': 838, 'needs': 839, 'neighbor': 840, 'nerve': 841, 'nervous': 842, 'never': 843, 'new': 844, 'news': 845, 'next': 846, 'nice': 847, 'night': 848, 'nitroglycerin': 849, 'no': 850, 'nodded': 851, 'noise': 852, 'nose': 853, 'noses': 854, 'not': 855, 'notebooks': 856, 'notes': 857, 'nothing': 858, 'notice': 859, 'noticed': 860, 'novel': 861, 'now': 862, 'nowCOMMA': 863, 'numberCOMMA': 864, 'numbers': 865, 'nurse': 866, 'obese': 867, 'obey': 868, 'objection': 869, 'oclock': 870, 'of': 871, 'off': 872, 'offer': 873, 'often': 874, 'oh': 875, 'ok': 876, 'okay': 877, 'old': 878, 'older': 879, 'on': 880, 'once': 881, 'one': 882, 'oneday': 883, 'only': 884, 'open': 885, 'optimist': 886, 'or': 887, 'orange': 888, 'oranges': 889, 'order': 890, 'orders': 891, 'other': 892, 'others': 893, 'ought': 894, 'our': 895, 'out': 896, 'oven': 897, 'over': 898, 'overrated': 899, 'owe': 900, 'own': 901, 'oysters': 902, 'paid': 903, 'pain': 904, 'painful': 905, 'paint': 906, 'parents': 907, 'park': 908, 'part': 909, 'partially': 910, 'party': 911, 'pass': 912, 'passed': 913, 'past': 914, 'pathetic': 915, 'patient': 916, 'paused': 917, 'pay': 918, 'peanut': 919, 'penny': 920, 'pens': 921, 'perfect': 922, 'persevering': 923, 'person': 924, 'phone': 925, 'piano': 926, 'pick': 927, 'picture': 928, 'piece': 929, 'pillow': 930, 'pinch': 931, 'pizza': 932, 'place': 933, 'plain': 934, 'plan': 935, 'play': 936, 'player': 937, 'please': 938, 'plug': 939, 'poet': 940, 'point': 941, 'points': 942, 'police': 943, 'policeman': 944, 'polite': 945, 'politeCOMMA': 946, 'poor': 947, 'pork': 948, 'possible': 949, 'potatoes': 950, 'prayed': 951, 'predictable': 952, 'prepared': 953, 'pretty': 954, 'priest': 955, 'princess': 956, 'probably': 957, 'problem': 958, 'promise': 959, 'proof': 960, 'proved': 961, 'provide': 962, 'pull': 963, 'punctured': 964, 'punish': 965, 'purchase': 966, 'purposely': 967, 'push': 968, 'put': 969, 'question': 970, 'questions': 971, 'quickly': 972, 'quiet': 973, 'quit': 974, 'quite': 975, 'racists': 976, 'rain': 977, 'ran': 978, 'rat': 979, 'read': 980, 'ready': 981, 'real': 982, 'really': 983, 'reason': 984, 'receive': 985, 'recognize': 986, 'recommend': 987, 'recording': 988, 'red': 989, 'refreshed': 990, 'refuse': 991, 'regret': 992, 'rejected': 993, 'relax': 994, 'relaxed': 995, 'remember': 996, 'rent': 997, 'repeat': 998, 'replaceable': 999, 'reservation': 1000, 'resign': 1001, 'responsible': 1002, 'rest': 1003, 'rested': 1004, 'retired': 1005, 'rice': 1006, 'rich': 1007, 'richCOMMA': 1008, 'right': 1009, 'rightCOMMA': 1010, 'ringing': 1011, 'rise': 1012, 'road': 1013, 'rolls': 1014, 'romantic': 1015, 'room': 1016, 'rough': 1017, 'rub': 1018, 'rude': 1019, 'rumors': 1020, 'run': 1021, 'running': 1022, 'runs': 1023, 'rush': 1024, 'sad': 1025, 'safe': 1026, 'said': 1027, 'sales': 1028, 'salt': 1029, 'same': 1030, 'san': 1031, 'sandwich': 1032, 'sang': 1033, 'sarcasm': 1034, 'satisfiedCOMMA': 1035, 'save': 1036, 'saw': 1037, 'say': 1038, 'says': 1039, 'scared': 1040, 'school': 1041, 'scotland': 1042, 'scoundrel': 1043, 'season': 1044, 'seated': 1045, 'seats': 1046, 'seconds': 1047, 'secrets': 1048, 'see': 1049, 'seem': 1050, 'sell': 1051, 'served': 1052, 'set': 1053, 'sexy': 1054, 'sharp': 1055, 'shaved': 1056, 'she': 1057, 'shirt': 1058, 'shoes': 1059, 'shoot': 1060, 'shop': 1061, 'should': 1062, 'shouldnt': 1063, 'shovel': 1064, 'show': 1065, 'shower': 1066, 'shut': 1067, 'shy': 1068, 'sick': 1069, 'sign': 1070, 'silence': 1071, 'silly': 1072, 'simply': 1073, 'sing': 1074, 'singer': 1075, 'single': 1076, 'sister': 1077, 'sisters': 1078, 'sit': 1079, 'sixty': 1080, 'size': 1081, 'ski': 1082, 'skip': 1083, 'sleep': 1084, 'slept': 1085, 'slippery': 1086, 'smart': 1087, 'smarter': 1088, 'smell': 1089, 'smells': 1090, 'smile': 1091, 'smiled': 1092, 'smoke': 1093, 'smoking': 1094, 'snore': 1095, 'snow': 1096, 'so': 1097, 'soaking': 1098, 'solve': 1099, 'some': 1100, 'someday': 1101, 'someone': 1102, 'something': 1103, 'sometimes': 1104, 'soon': 1105, 'sorry': 1106, 'sound': 1107, 'soup': 1108, 'spare': 1109, 'speak': 1110, 'speaking': 1111, 'special': 1112, 'speed': 1113, 'spend': 1114, 'spiders': 1115, 'spilt': 1116, 'spit': 1117, 'spoiling': 1118, 'spoke': 1119, 'spray': 1120, 'square': 1121, 'stand': 1122, 'start': 1123, 'started': 1124, 'stay': 1125, 'stayed': 1126, 'step': 1127, 'stew': 1128, 'still': 1129, 'stinks': 1130, 'stomachache': 1131, 'stood': 1132, 'stop': 1133, 'stopped': 1134, 'stories': 1135, 'storm': 1136, 'strange': 1137, 'stranger': 1138, 'strong': 1139, 'stubborn': 1140, 'student': 1141, 'students': 1142, 'study': 1143, 'stuff': 1144, 'stupid': 1145, 'such': 1146, 'sue': 1147, 'suffer': 1148, 'suffering': 1149, 'sun': 1150, 'sundays': 1151, 'sunscreen': 1152, 'support': 1153, 'supposed': 1154, 'sure': 1155, 'surprised': 1156, 'surprises': 1157, 'survivors': 1158, 'suspect': 1159, 'suspense': 1160, 'suspicion': 1161, 'swam': 1162, 'swans': 1163, 'swept': 1164, 'swim': 1165, 'swimming': 1166, 'swimsuit': 1167, 'swore': 1168, 'table': 1169, 'take': 1170, 'taken': 1171, 'takes': 1172, 'taking': 1173, 'talk': 1174, 'talking': 1175, 'tall': 1176, 'taste': 1177, 'tattoos': 1178, 'taught': 1179, 'tea': 1180, 'teacher': 1181, 'teachers': 1182, 'tease': 1183, 'telephones': 1184, 'television': 1185, 'tell': 1186, 'telling': 1187, 'temperature': 1188, 'temple': 1189, 'ten': 1190, 'tennis': 1191, 'terrible': 1192, 'terrific': 1193, 'test': 1194, 'texting': 1195, 'than': 1196, 'thank': 1197, 'thanks': 1198, 'that': 1199, 'thatCOMMA': 1200, 'thats': 1201, 'the': 1202, 'them': 1203, 'themCOMMA': 1204, 'thenCOMMA': 1205, 'there': 1206, 'these': 1207, 'they': 1208, 'thin': 1209, 'things': 1210, 'think': 1211, 'thinking': 1212, 'thirsty': 1213, 'thirty': 1214, 'this': 1215, 'thisCOMMA': 1216, 'thisll': 1217, 'those': 1218, 'thoughtful': 1219, 'thoughts': 1220, 'three': 1221, 'through': 1222, 'throw': 1223, 'ticket': 1224, 'tidy': 1225, 'tie': 1226, 'time': 1227, 'times': 1228, 'tip': 1229, 'tire': 1230, 'tired': 1231, 'tiredCOMMA': 1232, 'to': 1233, 'today': 1234, 'toilet': 1235, 'told': 1236, 'tom': 1237, 'tomCOMMA': 1238, 'tomorrow': 1239, 'toms': 1240, 'tonight': 1241, 'tons': 1242, 'too': 1243, 'took': 1244, 'toothbrush': 1245, 'touch': 1246, 'tours': 1247, 'track': 1248, 'treat': 1249, 'tried': 1250, 'tries': 1251, 'truck': 1252, 'true': 1253, 'trust': 1254, 'truth': 1255, 'try': 1256, 'trying': 1257, 'turn': 1258, 'turning': 1259, 'tv': 1260, 'twin': 1261, 'twisting': 1262, 'two': 1263, 'type': 1264, 'ugly': 1265, 'umbrella': 1266, 'unambitious': 1267, 'under': 1268, 'underage': 1269, 'understand': 1270, 'undone': 1271, 'unfair': 1272, 'unnecessary': 1273, 'up': 1274, 'upset': 1275, 'upside': 1276, 'us': 1277, 'usCOMMA': 1278, 'use': 1279, 'useful': 1280, 'useless': 1281, 'using': 1282, 'vacancies': 1283, 'vacuum': 1284, 'very': 1285, 'view': 1286, 'virus': 1287, 'visit': 1288, 'voice': 1289, 'vote': 1290, 'wait': 1291, 'waited': 1292, 'wake': 1293, 'walked': 1294, 'walking': 1295, 'want': 1296, 'warm': 1297, 'warn': 1298, 'warned': 1299, 'was': 1300, 'wash': 1301, 'wasnt': 1302, 'waste': 1303, 'wasted': 1304, 'wasting': 1305, 'watch': 1306, 'watching': 1307, 'water': 1308, 'waved': 1309, 'way': 1310, 'we': 1311, 'weak': 1312, 'wear': 1313, 'wears': 1314, 'wednesday': 1315, 'week': 1316, 'weekend': 1317, 'weight': 1318, 'weird': 1319, 'welcome': 1320, 'well': 1321, 'went': 1322, 'wept': 1323, 'were': 1324, 'wet': 1325, 'whale': 1326, 'whales': 1327, 'what': 1328, 'whatever': 1329, 'whats': 1330, 'when': 1331, 'whenever': 1332, 'where': 1333, 'wheres': 1334, 'whichever': 1335, 'while': 1336, 'white': 1337, 'who': 1338, 'whos': 1339, 'whose': 1340, 'why': 1341, 'wife': 1342, 'will': 1343, 'win': 1344, 'wind': 1345, 'window': 1346, 'windows': 1347, 'wine': 1348, 'winked': 1349, 'wise': 1350, 'wish': 1351, 'with': 1352, 'without': 1353, 'woke': 1354, 'wolf': 1355, 'woman': 1356, 'won': 1357, 'wonCOMMA': 1358, 'wonderful': 1359, 'wont': 1360, 'wood': 1361, 'word': 1362, 'words': 1363, 'work': 1364, 'worked': 1365, 'working': 1366, 'works': 1367, 'worried': 1368, 'worry': 1369, 'worrying': 1370, 'worst': 1371, 'would': 1372, 'wow': 1373, 'write': 1374, 'writing': 1375, 'wrong': 1376, 'yawned': 1377, 'year': 1378, 'yell': 1379, 'yelling': 1380, 'yesterday': 1381, 'yet': 1382, 'yetCOMMA': 1383, 'yogurt': 1384, 'you': 1385, 'youd': 1386, 'youll': 1387, 'young': 1388, 'your': 1389, 'youre': 1390, 'yours': 1391, 'yourself': 1392, 'youve': 1393}\n",
      "output token index:  {'START_': 0, '_END': 1, 'a': 2, 'ab': 3, 'abend': 4, 'abendessen': 5, 'aber': 6, 'abgegangen': 7, 'abgegeben': 8, 'abgenommen': 9, 'abgeschlossen': 10, 'abgewiesen': 11, 'abholen': 12, 'abreisen': 13, 'abräumen': 14, 'absichtlich': 15, 'absorbieren': 16, 'abzulegen': 17, 'acht': 18, 'achtgeben': 19, 'acker': 20, 'adresse': 21, 'aha': 22, 'ahnungCOMMA': 23, 'ahnung“': 24, 'albernen': 25, 'aliens': 26, 'alkohol': 27, 'all': 28, 'alle': 29, 'allein': 30, 'alleine': 31, 'alleinstehend': 32, 'aller': 33, 'allergien': 34, 'alles': 35, 'allesCOMMA': 36, 'allmählich': 37, 'allzu': 38, 'als': 39, 'alt': 40, 'aluminium': 41, 'am': 42, 'amerika': 43, 'amüsieren': 44, 'amüsierst': 45, 'amüsiert': 46, 'an': 47, 'anCOMMA': 48, 'andere': 49, 'anderes': 50, 'andermal': 51, 'anders': 52, 'anfang': 53, 'anfangen': 54, 'angekommen': 55, 'angelogen': 56, 'angerufen': 57, 'angeschrien': 58, 'angewohnheiten': 59, 'angezogen': 60, 'angriff': 61, 'angst': 62, 'anhalten': 63, 'anmelden': 64, 'anrufen': 65, 'anschließe': 66, 'anschließen': 67, 'anschrift': 68, 'ansehen': 69, 'anstellen': 70, 'antwort': 71, 'antworte': 72, 'antworten': 73, 'antwortet': 74, 'anwalt': 75, 'apfelsinen': 76, 'arabisch': 77, 'arbeit': 78, 'arbeiten': 79, 'arbeitest': 80, 'arbeitet': 81, 'arbeitslos': 82, 'arm': 83, 'arzt': 84, 'assistent': 85, 'atem': 86, 'atme': 87, 'attacke': 88, 'attraktiv': 89, 'auch': 90, 'auf': 91, 'aufCOMMA': 92, 'aufgeben': 93, 'aufgeblieben': 94, 'aufgebracht': 95, 'aufgegeben': 96, 'aufgegessen': 97, 'aufgehört': 98, 'aufgelegt': 99, 'aufgepasst': 100, 'aufgestanden': 101, 'aufhören': 102, 'aufnehmen': 103, 'aufstehen': 104, 'augen': 105, 'augenlider': 106, 'aus': 107, 'ausCOMMA': 108, 'ausdrücken': 109, 'ausführen': 110, 'ausgegangen': 111, 'ausgehen': 112, 'ausgenutzt': 113, 'ausgeschaltet': 114, 'ausgeschieden': 115, 'ausgeschlossen': 116, 'ausgestorben': 117, 'ausgetauscht': 118, 'ausgezeichnete': 119, 'ausleihen': 120, 'ausländer': 121, 'ausländerin': 122, 'ausnahme': 123, 'ausprobieren': 124, 'ausradieren': 125, 'ausreden': 126, 'ausruhen': 127, 'ausschalten': 128, 'aussicht': 129, 'ausstellen': 130, 'austern': 131, 'australien': 132, 'auto': 133, 'autogramm': 134, 'aß': 135, 'b': 136, 'backen': 137, 'bad': 138, 'badeanzug': 139, 'bald': 140, 'bananen': 141, 'bar': 142, 'baseballfan': 143, 'bauchschmerzen': 144, 'bauchweh': 145, 'beantworte': 146, 'beantworten': 147, 'bedarf': 148, 'bedrückend': 149, 'beeil': 150, 'beeilen': 151, 'beeilt': 152, 'befehle': 153, 'befehlen': 154, 'befindet': 155, 'befolgen': 156, 'befolgt': 157, 'befreundet': 158, 'befürchten': 159, 'begegnet': 160, 'begehren': 161, 'beginnt': 162, 'begreifen': 163, 'behalt': 164, 'behalten': 165, 'behaltet': 166, 'behandel': 167, 'behandle': 168, 'beharrlich': 169, 'behebe': 170, 'beheben': 171, 'bei': 172, 'beide': 173, 'beigebracht': 174, 'beim': 175, 'beine': 176, 'beispiel': 177, 'bekannt': 178, 'bekleidet': 179, 'bekomme': 180, 'bekommen': 181, 'bekommenCOMMA': 182, 'belastung': 183, 'bellen': 184, 'belogen': 185, 'belügst': 186, 'bemerkt': 187, 'benutze': 188, 'benutzen': 189, 'benutzt': 190, 'benötigen': 191, 'beobachte': 192, 'beobachten': 193, 'beobachtet': 194, 'bequem': 195, 'bereit': 196, 'bereits': 197, 'bereuen': 198, 'beruhige': 199, 'beruhigen': 200, 'berühren': 201, 'bescheid': 202, 'bescheiden': 203, 'beschreiben': 204, 'beschuldige': 205, 'beschuldigen': 206, 'beschäftigt': 207, 'beschäftigtCOMMA': 208, 'besetzt': 209, 'besichtigt': 210, 'besoffen': 211, 'besonderes': 212, 'besonders': 213, 'besser': 214, 'bestanden': 215, 'beste': 216, 'bestechen': 217, 'besteht': 218, 'bestellen': 219, 'bestellt': 220, 'bestellung': 221, 'besten': 222, 'bestimmt': 223, 'beteiligen': 224, 'betete': 225, 'betrifft': 226, 'betrogen': 227, 'betrunken': 228, 'bett': 229, 'bettdecke': 230, 'betätigt': 231, 'beunruhigt': 232, 'bewegen': 233, 'bewegung': 234, 'beweis': 235, 'bewiesenCOMMA': 236, 'bezahlen': 237, 'bezahlenCOMMA': 238, 'bezahlt': 239, 'bezaubernd': 240, 'bier': 241, 'bieten': 242, 'bild': 243, 'bilde': 244, 'bin': 245, 'bin’s': 246, 'bis': 247, 'bisschen': 248, 'bisschen“': 249, 'bist': 250, 'bitte': 251, 'blau': 252, 'blaue': 253, 'blauwale': 254, 'bleib': 255, 'bleiben': 256, 'bleibst': 257, 'bleibt': 258, 'blieb': 259, 'blies': 260, 'blinzelte': 261, 'bloß': 262, 'blumen': 263, 'blutet': 264, 'borniert': 265, 'boston': 266, 'boten': 267, 'botschaft': 268, 'bourbon': 269, 'brasilien': 270, 'brauchen': 271, 'brauchst': 272, 'braucht': 273, 'braute': 274, 'braves': 275, 'brechen': 276, 'brief': 277, 'briefe': 278, 'brille': 279, 'bring': 280, 'bringen': 281, 'bringt': 282, 'brot': 283, 'bruch': 284, 'brötchen': 285, 'brüder': 286, 'buch': 287, 'bus': 288, 'busse': 289, 'butter': 290, 'bänke': 291, 'böse': 292, 'bücher': 293, 'chance': 294, 'charismatisch': 295, 'chef': 296, 'christ': 297, 'christin': 298, 'chrysanthemen': 299, 'computer': 300, 'cool': 301, 'da': 302, 'dabei': 303, 'dadurch': 304, 'dafür': 305, 'dageblieben': 306, 'dagegen': 307, 'dagelassen': 308, 'dahin': 309, 'danke': 310, 'dann': 311, 'daran': 312, 'daranCOMMA': 313, 'daraufCOMMA': 314, 'daraus': 315, 'darf': 316, 'darfst': 317, 'darin': 318, 'darumCOMMA': 319, 'darüber': 320, 'das': 321, 'dasCOMMA': 322, 'dass': 323, 'datei': 324, 'davon': 325, 'davonCOMMA': 326, 'dazu': 327, 'decke': 328, 'deckung': 329, 'dein': 330, 'deine': 331, 'deinen': 332, 'deiner': 333, 'deines': 334, 'deins': 335, 'delphine': 336, 'dem': 337, 'den': 338, 'denk': 339, 'denke': 340, 'denken': 341, 'denkst': 342, 'denkt': 343, 'denn': 344, 'der': 345, 'derjenigeCOMMA': 346, 'deutlich': 347, 'dich': 348, 'dichter': 349, 'dick': 350, 'die': 351, 'dies': 352, 'diese': 353, 'diesem': 354, 'diesen': 355, 'dieser': 356, 'dieses': 357, 'dinosaurier': 358, 'dir': 359, 'dirCOMMA': 360, 'dj': 361, 'doch': 362, 'dochCOMMA': 363, 'dollar': 364, 'donnerwetter': 365, 'doof': 366, 'doppelzimmer': 367, 'dort': 368, 'dorthin': 369, 'dran': 370, 'dranCOMMA': 371, 'drauf': 372, 'drehen': 373, 'drehst': 374, 'drei': 375, 'dreißig': 376, 'drin': 377, 'drinnen': 378, 'drück': 379, 'drücken': 380, 'drückt': 381, 'du': 382, 'duCOMMA': 383, 'dumm': 384, 'dumme': 385, 'dummes': 386, 'dummkopf': 387, 'dunkeln': 388, 'durch': 389, 'durchlöcherte': 390, 'durchschaubar': 391, 'durst': 392, 'duschen': 393, 'du’s': 394, 'dünn': 395, 'dürfen': 396, 'dürft': 397, 'dürfte': 398, 'earlgreytee': 399, 'echt': 400, 'ehefrau': 401, 'ehemann': 402, 'ehrgeiz': 403, 'ehrlich': 404, 'eier': 405, 'eigenes': 406, 'eigentlich': 407, 'ein': 408, 'einander': 409, 'einbrechen': 410, 'eine': 411, 'einem': 412, 'einen': 413, 'einer': 414, 'eines': 415, 'einfach': 416, 'einfacher': 417, 'einfangen': 418, 'eingeladen': 419, 'eingeschlafen': 420, 'einmal': 421, 'einsam': 422, 'eintopf': 423, 'eintritt': 424, 'einverstanden': 425, 'einwände': 426, 'eltern': 427, 'email': 428, 'empfehlen': 429, 'empfindliche': 430, 'empfindlichen': 431, 'ende': 432, 'endlich': 433, 'englisch': 434, 'enkelkinder': 435, 'entbehrlich': 436, 'entenküken': 437, 'entfernen': 438, 'entgangen': 439, 'entkam': 440, 'entkommen': 441, 'entscheidestCOMMA': 442, 'entscheidung': 443, 'entschuldigen': 444, 'entschuldigung': 445, 'entspann': 446, 'entspanne': 447, 'entspannen': 448, 'entspannt': 449, 'entzündetes': 450, 'er': 451, 'erCOMMA': 452, 'erbärmlich': 453, 'erdnussbutter': 454, 'erfahrung': 455, 'erfrischte': 456, 'erfuhren': 457, 'erholen': 458, 'erinnern': 459, 'erinnerst': 460, 'erkennen': 461, 'erkennst': 462, 'erkennt': 463, 'erklären': 464, 'erledigen': 465, 'ernst': 466, 'ernsthaft': 467, 'ernähren': 468, 'erröteten': 469, 'erschien': 470, 'ersetzbar': 471, 'erst': 472, 'erteilen': 473, 'erwarte': 474, 'erwarten': 475, 'erwartest': 476, 'erwartet': 477, 'erwartetCOMMA': 478, 'erworben': 479, 'erzähl': 480, 'erzählen': 481, 'erzähls': 482, 'erzählt': 483, 'es': 484, 'esCOMMA': 485, 'essen': 486, 'esst': 487, 'etwa': 488, 'etwaCOMMA': 489, 'etwas': 490, 'euch': 491, 'euchCOMMA': 492, 'euer': 493, 'eure': 494, 'euren': 495, 'eures': 496, 'extrovertiert': 497, 'facebook': 498, 'fach': 499, 'fahr': 500, 'fahren': 501, 'fahrenCOMMA': 502, 'fahrkarte': 503, 'fahrrad': 504, 'fahrt': 505, 'fair': 506, 'fall': 507, 'fallen': 508, 'falsch': 509, 'falschen': 510, 'falsches': 511, 'falte': 512, 'familie': 513, 'familieCOMMA': 514, 'fang': 515, 'fange': 516, 'fangen': 517, 'fangt': 518, 'fantasievoll': 519, 'fantastisch': 520, 'farbe': 521, 'fass': 522, 'fassen': 523, 'fasst': 524, 'fast': 525, 'faszinierend': 526, 'feen': 527, 'fehler': 528, 'fehlerCOMMA': 529, 'fehlt': 530, 'feier': 531, 'feiern': 532, 'feiglinge': 533, 'fenster': 534, 'fern': 535, 'fernsehen': 536, 'fernseher': 537, 'fertig': 538, 'fest': 539, 'festgenommen': 540, 'fett': 541, 'fettleibig': 542, 'feuer': 543, 'feuerwerk': 544, 'fieber': 545, 'fiel': 546, 'film': 547, 'filter': 548, 'finde': 549, 'finden': 550, 'findest': 551, 'findet': 552, 'fitnessstudio': 553, 'fleisch': 554, 'fleißig': 555, 'fleißiger': 556, 'fliege': 557, 'fliegen': 558, 'fließend': 559, 'flog': 560, 'fluche': 561, 'fluchte': 562, 'flüchtete': 563, 'folge': 564, 'folgen': 565, 'folter': 566, 'football': 567, 'forderte': 568, 'fort': 569, 'fotoapparat': 570, 'fotografieren': 571, 'frag': 572, 'frage': 573, 'fragen': 574, 'fragt': 575, 'francisco': 576, 'französisch': 577, 'frau': 578, 'frei': 579, 'freilaufenden': 580, 'fremder': 581, 'freude': 582, 'freund': 583, 'freunde': 584, 'freundin': 585, 'freundlich': 586, 'friseur': 587, 'fror': 588, 'früchte': 589, 'früh': 590, 'früher': 591, 'frühstück': 592, 'fuhr': 593, 'funktionieren': 594, 'funktioniert': 595, 'fußball': 596, 'fährst': 597, 'fährt': 598, 'füge': 599, 'fühl': 600, 'fühlen': 601, 'fühlst': 602, 'führe': 603, 'führen': 604, 'führt': 605, 'fünf': 606, 'fünfmal': 607, 'für': 608, 'fürchte': 609, 'fürchteCOMMA': 610, 'fürchtet': 611, 'gab': 612, 'gabel': 613, 'ganz': 614, 'ganze': 615, 'gar': 616, 'garten': 617, 'gasen': 618, 'gebacken': 619, 'gebadet': 620, 'gebaut': 621, 'gebe': 622, 'geben': 623, 'gebeut': 624, 'gebissen': 625, 'geboren': 626, 'geborener': 627, 'gebracht': 628, 'gebrannte': 629, 'gebranntes': 630, 'gebrauchen': 631, 'gebrochen': 632, 'gedanken': 633, 'gedrückt': 634, 'geduldig': 635, 'geduldiger': 636, 'gefahr': 637, 'gefahren': 638, 'gefallen': 639, 'gefasst': 640, 'geflucht': 641, 'geflüchtet': 642, 'gefragt': 643, 'gefressen': 644, 'gefroren': 645, 'gefunden': 646, 'gefährdet': 647, 'gefällt': 648, 'gegangen': 649, 'gegeben': 650, 'gegen': 651, 'gegend': 652, 'gegessen': 653, 'geglaubt': 654, 'gegähnt': 655, 'geh': 656, 'gehe': 657, 'geheimnis': 658, 'gehen': 659, 'gehenCOMMA': 660, 'geholfen': 661, 'geholfen“': 662, 'gehst': 663, 'geht': 664, 'gehts': 665, 'gehustet': 666, 'gehören': 667, 'gehörlos': 668, 'gehört': 669, 'gehörtCOMMA': 670, 'geistergeschichten': 671, 'gekauft': 672, 'gekocht': 673, 'gekommen': 674, 'gelangen': 675, 'geld': 676, 'gelegen': 677, 'geleistet': 678, 'gelesen': 679, 'gelogen': 680, 'gelöst': 681, 'gemacht': 682, 'gemahlin': 683, 'gemein': 684, 'gemeint': 685, 'gemerkt': 686, 'gemietet': 687, 'genauCOMMA': 688, 'genieße': 689, 'genießen': 690, 'genießt': 691, 'genug': 692, 'genügt': 693, 'gerade': 694, 'gerannt': 695, 'gerecht': 696, 'gerettet': 697, 'gern': 698, 'gernCOMMA': 699, 'gerne': 700, 'geräusch': 701, 'gerüchte': 702, 'gesagt': 703, 'gesagtCOMMA': 704, 'geschafft': 705, 'geschickt': 706, 'geschlafen': 707, 'geschlagen': 708, 'geschummelt': 709, 'geschwommen': 710, 'geschworen': 711, 'geschäft': 712, 'gesehen': 713, 'geselle': 714, 'gesetz': 715, 'gesetzt': 716, 'gesicht': 717, 'gespielt': 718, 'gesprochen': 719, 'gesprungen': 720, 'gespuckt': 721, 'gestellt': 722, 'gestern': 723, 'gestorben': 724, 'gestört': 725, 'gestürzt': 726, 'gesundheit': 727, 'getan': 728, 'getanCOMMA': 729, 'getauscht': 730, 'getroffen': 731, 'getrunken': 732, 'getränk': 733, 'gewaltiges': 734, 'gewarnt': 735, 'gewartet': 736, 'gewaschen': 737, 'gewechselt': 738, 'geweint': 739, 'gewesen': 740, 'gewinne': 741, 'gewinnen': 742, 'gewinnt': 743, 'gewitter': 744, 'gewonnen': 745, 'gewonnenCOMMA': 746, 'geworden': 747, 'gewunken': 748, 'gewusst': 749, 'gezahlt': 750, 'gezogen': 751, 'gib': 752, 'gibst': 753, 'gibt': 754, 'gibt’s': 755, 'ging': 756, 'gitarre': 757, 'glas': 758, 'glatt': 759, 'glatze': 760, 'glatzköpfig': 761, 'glaub': 762, 'glaubCOMMA': 763, 'glauben': 764, 'glaubst': 765, 'glaubt': 766, 'glaubtCOMMA': 767, 'gleich': 768, 'gleiche': 769, 'glänzende': 770, 'glücklich': 771, 'glücklichCOMMA': 772, 'golfball': 773, 'gott': 774, 'grausam': 775, 'greif': 776, 'griff': 777, 'groß': 778, 'großartig': 779, 'große': 780, 'großes': 781, 'großzügig': 782, 'grund': 783, 'grundCOMMA': 784, 'größe': 785, 'größere': 786, 'größte': 787, 'grün': 788, 'gründlich': 789, 'grüß': 790, 'gurken': 791, 'gut': 792, 'gutCOMMA': 793, 'gutaussehend': 794, 'gute': 795, 'guter': 796, 'gutes': 797, 'gähnte': 798, 'gönnen': 799, 'haar': 800, 'haare': 801, 'hab': 802, 'habe': 803, 'habeCOMMA': 804, 'haben': 805, 'haben’s': 806, 'habs': 807, 'habt': 808, 'hab’s': 809, 'half': 810, 'hallo': 811, 'halloCOMMA': 812, 'halt': 813, 'halte': 814, 'halten': 815, 'haltet': 816, 'halt’s': 817, 'halunke': 818, 'handeln': 819, 'handfesten': 820, 'handschellen': 821, 'hansen': 822, 'hasse': 823, 'hassen': 824, 'hasst': 825, 'hast': 826, 'hat': 827, 'hatte': 828, 'hattest': 829, 'hau': 830, 'haus': 831, 'hause': 832, 'heben': 833, 'heim': 834, 'heimweh': 835, 'heirate': 836, 'heiß': 837, 'helfen': 838, 'helfenCOMMA': 839, 'helft': 840, 'hemd': 841, 'her': 842, 'heran': 843, 'heraus': 844, 'herein': 845, 'herkommen': 846, 'herum': 847, 'herunter': 848, 'hervorragend': 849, 'hervorragender': 850, 'herz': 851, 'herzens': 852, 'heuchler': 853, 'heute': 854, 'hielt': 855, 'hier': 856, 'hierCOMMA': 857, 'hierher': 858, 'hilf': 859, 'hilfe': 860, 'hilfestellung': 861, 'hilfst': 862, 'hilft': 863, 'hin': 864, 'hinein': 865, 'hingefallen': 866, 'hingegangen': 867, 'hingehaut': 868, 'hingehen': 869, 'hinging': 870, 'hinkriegt': 871, 'hinlegen': 872, 'hinter': 873, 'hinterlassen': 874, 'hintreten': 875, 'hintretet': 876, 'hintrittst': 877, 'hinwegkommen': 878, 'hinzufügen': 879, 'hoch': 880, 'hochschule': 881, 'hoffe': 882, 'hol': 883, 'hols': 884, 'holzfußboden': 885, 'hotel': 886, 'huhn': 887, 'hund': 888, 'hunde': 889, 'hunden': 890, 'hund“': 891, 'hunger': 892, 'hungrig': 893, 'hustete': 894, 'hut': 895, 'hälften': 896, 'hältst': 897, 'hände': 898, 'händen': 899, 'hässlich': 900, 'hätte': 901, 'hätten': 902, 'hättest': 903, 'hättet': 904, 'höflich': 905, 'höflichCOMMA': 906, 'höhenangst': 907, 'hör': 908, 'höre': 909, 'hören': 910, 'hörgerät': 911, 'hörst': 912, 'hört': 913, 'hübsch': 914, 'hügel': 915, 'hühnern': 916, 'hülf': 917, 'ich': 918, 'ichCOMMA': 919, 'idiot': 920, 'idioten': 921, 'ignorieren': 922, 'ignorierst': 923, 'ihm': 924, 'ihn': 925, 'ihnen': 926, 'ihnenCOMMA': 927, 'ihr': 928, 'ihrCOMMA': 929, 'ihre': 930, 'ihren': 931, 'ihres': 932, 'im': 933, 'immer': 934, 'in': 935, 'inkompetent': 936, 'inne': 937, 'ins': 938, 'insektenspray': 939, 'insel': 940, 'instrument': 941, 'interessant': 942, 'interessierst': 943, 'introvertiert': 944, 'irgend': 945, 'irgendein': 946, 'irgendeine': 947, 'irgendetwas': 948, 'irgendjemanden': 949, 'irgendwas': 950, 'irgendwelche': 951, 'irgendwer': 952, 'irgendwie': 953, 'irren': 954, 'irrst': 955, 'irrt': 956, 'iss': 957, 'isst': 958, 'ist': 959, 'ja': 960, 'jagd': 961, 'jahr': 962, 'jahre': 963, 'japanisch': 964, 'japanisches': 965, 'jede': 966, 'jedem': 967, 'jeden': 968, 'jedenfalls': 969, 'jeder': 970, 'jederzeit': 971, 'jedes': 972, 'jemand': 973, 'jemandem': 974, 'jemanden': 975, 'jenem': 976, 'jenen': 977, 'jetzt': 978, 'job': 979, 'joghurteis': 980, 'johannes': 981, 'journalist': 982, 'jung': 983, 'junge': 984, 'jungen': 985, 'kaffee': 986, 'kalt': 987, 'kalter': 988, 'kaltes': 989, 'kam': 990, 'kamele': 991, 'kanadier': 992, 'kann': 993, 'kannst': 994, 'kannten': 995, 'kanntest': 996, 'kanntet': 997, 'kapierst': 998, 'kapiert': 999, 'kaputt': 1000, 'karte': 1001, 'kartoffeln': 1002, 'katholisch': 1003, 'katze': 1004, 'katzen': 1005, 'kau': 1006, 'kauen': 1007, 'kaufen': 1008, 'kauf’s': 1009, 'kaum': 1010, 'kaut': 1011, 'kein': 1012, 'keine': 1013, 'keinen': 1014, 'keinster': 1015, 'keks': 1016, 'kennen': 1017, 'kennenlernen': 1018, 'kennst': 1019, 'kennt': 1020, 'kerze': 1021, 'kicherte': 1022, 'kind': 1023, 'kinder': 1024, 'kirche': 1025, 'kissen': 1026, 'klappt': 1027, 'klar': 1028, 'klatschnass': 1029, 'klatschte': 1030, 'klavier': 1031, 'kleid': 1032, 'kleidung': 1033, 'kleingeld': 1034, 'klingelt': 1035, 'klingst': 1036, 'klug': 1037, 'kluger': 1038, 'klüger': 1039, 'knicken': 1040, 'knopf': 1041, 'koch': 1042, 'koche': 1043, 'kochen': 1044, 'kochstCOMMA': 1045, 'koma': 1046, 'komisch': 1047, 'komm': 1048, 'kommCOMMA': 1049, 'komme': 1050, 'kommen': 1051, 'kommenCOMMA': 1052, 'kommst': 1053, 'kommt': 1054, 'kommtCOMMA': 1055, 'kontakt': 1056, 'kontaktiere': 1057, 'kontaktieren': 1058, 'kontaktiert': 1059, 'konzert': 1060, 'kooperieren': 1061, 'kooperierst': 1062, 'kooperiert': 1063, 'kopf': 1064, 'kopfschmerzen': 1065, 'kopien': 1066, 'kram': 1067, 'krank': 1068, 'krankenhaus': 1069, 'krankenschwester': 1070, 'kreide': 1071, 'kriegen': 1072, 'kriegst': 1073, 'kriegt': 1074, 'krill': 1075, 'kritik': 1076, 'krokodil': 1077, 'kräftiger': 1078, 'kuchen': 1079, 'kultur': 1080, 'kundenkarte': 1081, 'kunst': 1082, 'kurz': 1083, 'können': 1084, 'könnenCOMMA': 1085, 'könnt': 1086, 'könnte': 1087, 'könnten': 1088, 'könntest': 1089, 'könntet': 1090, 'kühe': 1091, 'kühlschrank': 1092, 'kümmert’s“': 1093, 'küsse': 1094, 'küssen': 1095, 'küsst': 1096, 'lache': 1097, 'lachte': 1098, 'lage': 1099, 'lageCOMMA': 1100, 'land': 1101, 'lang': 1102, 'lange': 1103, 'langsam': 1104, 'langweilig': 1105, 'langweilst': 1106, 'lass': 1107, 'lassen': 1108, 'lasst': 1109, 'lauf': 1110, 'laufe': 1111, 'laufen': 1112, 'lauter': 1113, 'leb': 1114, 'leben': 1115, 'leber': 1116, 'lebst': 1117, 'leg': 1118, 'legen': 1119, 'legt': 1120, 'lehn': 1121, 'lehnt': 1122, 'lehrer': 1123, 'lehrerin': 1124, 'lehrerinnen': 1125, 'leicht': 1126, 'leid': 1127, 'leiden': 1128, 'leine': 1129, 'leisten': 1130, 'leitung': 1131, 'lernen': 1132, 'lernst': 1133, 'lesen': 1134, 'letzte': 1135, 'leuteCOMMA': 1136, 'licht': 1137, 'lichthupe': 1138, 'lieb': 1139, 'liebe': 1140, 'lieber': 1141, 'liebesbriefe': 1142, 'lieblingsfarbe': 1143, 'liebst': 1144, 'lief': 1145, 'liefert': 1146, 'liegst': 1147, 'liegt': 1148, 'lies': 1149, 'links': 1150, 'lippen': 1151, 'liste': 1152, 'lkw': 1153, 'log': 1154, 'los': 1155, 'losgehen': 1156, 'los“': 1157, 'luft': 1158, 'luftveränderung': 1159, 'lächeln': 1160, 'lächelte': 1161, 'lästig': 1162, 'läufst': 1163, 'läuft': 1164, 'lösche': 1165, 'löschen': 1166, 'löscht': 1167, 'lösen': 1168, 'löwe': 1169, 'löwenjunge': 1170, 'lüge': 1171, 'lügner': 1172, 'lügnerin': 1173, 'lügst': 1174, 'lügt': 1175, 'mach': 1176, 'mache': 1177, 'machen': 1178, 'machenCOMMA': 1179, 'machst': 1180, 'macht': 1181, 'mag': 1182, 'magie': 1183, 'magst': 1184, 'mailen': 1185, 'mais': 1186, 'mal': 1187, 'mama': 1188, 'mamasöhnchen': 1189, 'man': 1190, 'manchmal': 1191, 'mangoeis': 1192, 'mann': 1193, 'mantel': 1194, 'maria': 1195, 'marias': 1196, 'mary': 1197, 'maul': 1198, 'mehr': 1199, 'meiden': 1200, 'meidest': 1201, 'meidet': 1202, 'mein': 1203, 'meine': 1204, 'meinem': 1205, 'meinen': 1206, 'meinst': 1207, 'menge': 1208, 'mensch': 1209, 'messen': 1210, 'messer': 1211, 'metall': 1212, 'mich': 1213, 'michCOMMA': 1214, 'milch': 1215, 'minderjährig': 1216, 'mineralwasser': 1217, 'minute': 1218, 'minuten': 1219, 'mir': 1220, 'mirCOMMA': 1221, 'mischung': 1222, 'mist': 1223, 'mit': 1224, 'miteinander': 1225, 'mitfahren': 1226, 'mitgebracht': 1227, 'mitglied': 1228, 'mitkommen': 1229, 'mitmachen': 1230, 'mittlerweile': 1231, 'mittwoch': 1232, 'mobiltelefon': 1233, 'modebewusst': 1234, 'moment': 1235, 'montag': 1236, 'montagCOMMA': 1237, 'montagabend': 1238, 'morgen': 1239, 'mpplayer': 1240, 'mumm': 1241, 'munde': 1242, 'mundgeruch': 1243, 'muss': 1244, 'musst': 1245, 'mussten': 1246, 'musstest': 1247, 'mutig': 1248, 'mutiger': 1249, 'mutter': 1250, 'mädchen': 1251, 'möchte': 1252, 'möchten': 1253, 'möchtest': 1254, 'möchtet': 1255, 'mögen': 1256, 'möglich': 1257, 'mögt': 1258, 'müde': 1259, 'müdeCOMMA': 1260, 'mühe': 1261, 'münze': 1262, 'müssen': 1263, 'müsst': 1264, 'na': 1265, 'naCOMMA': 1266, 'nach': 1267, 'nachbar': 1268, 'nachbarin': 1269, 'nachdenken': 1270, 'nachdenklich': 1271, 'nachlassen': 1272, 'nachricht': 1273, 'nachrichten': 1274, 'nacht': 1275, 'nachwachsen': 1276, 'nachzuahmen': 1277, 'nagel': 1278, 'naiv': 1279, 'namen': 1280, 'nanntest': 1281, 'nase': 1282, 'nass': 1283, 'nasse': 1284, 'neben': 1285, 'nehmen': 1286, 'nehmt': 1287, 'nein': 1288, 'nenn': 1289, 'nennen': 1290, 'nennt': 1291, 'nerv': 1292, 'nervig': 1293, 'nervst': 1294, 'nervös': 1295, 'nett': 1296, 'netter': 1297, 'neu': 1298, 'neue': 1299, 'neuen': 1300, 'neues': 1301, 'neuigkeiten': 1302, 'nicht': 1303, 'nichtCOMMA': 1304, 'nichts': 1305, 'nickte': 1306, 'nie': 1307, 'nieCOMMA': 1308, 'nieder': 1309, 'niedergeschlagen': 1310, 'niederlegen': 1311, 'niemand': 1312, 'niemanden': 1313, 'nimm': 1314, 'nimmst': 1315, 'nitroglycerin': 1316, 'noch': 1317, 'nochmal': 1318, 'notitzbücher': 1319, 'notizen': 1320, 'nummern': 1321, 'nun': 1322, 'nur': 1323, 'nächste': 1324, 'nächsten': 1325, 'näher': 1326, 'näherte': 1327, 'nützlich': 1328, 'ob': 1329, 'oben': 1330, 'oder': 1331, 'ofen': 1332, 'offen': 1333, 'offengelassen': 1334, 'oft': 1335, 'ohCOMMA': 1336, 'ohne': 1337, 'ohnmacht': 1338, 'ohnmächtig': 1339, 'ohren': 1340, 'okay': 1341, 'optimist': 1342, 'orange': 1343, 'orangen': 1344, 'ordentlich': 1345, 'ordnung': 1346, 'osten': 1347, 'paar': 1348, 'pack': 1349, 'packen': 1350, 'palme': 1351, 'papa': 1352, 'park': 1353, 'party': 1354, 'pass': 1355, 'passen': 1356, 'passieren': 1357, 'passiert': 1358, 'passt': 1359, 'pause': 1360, 'pausierte': 1361, 'pension': 1362, 'per': 1363, 'perfekt': 1364, 'pferd': 1365, 'pfiffig': 1366, 'pflegte': 1367, 'phantasie': 1368, 'pizza': 1369, 'plan': 1370, 'plattenaufleger': 1371, 'plätzchen': 1372, 'plätze': 1373, 'polizei': 1374, 'polizist': 1375, 'pommes': 1376, 'potzdonner': 1377, 'priester': 1378, 'prinzessin': 1379, 'prise': 1380, 'probier': 1381, 'probiere': 1382, 'problem': 1383, 'prüfung': 1384, 'puste': 1385, 'pusten': 1386, 'pünktlich': 1387, 'rad': 1388, 'rahm': 1389, 'rannte': 1390, 'rasiert': 1391, 'rasierte': 1392, 'rassisten': 1393, 'rastete': 1394, 'rat': 1395, 'ratschläge': 1396, 'ratte': 1397, 'rauche': 1398, 'rauchen': 1399, 'raus': 1400, 'rechner': 1401, 'recht': 1402, 'rechtCOMMA': 1403, 'rechtsanwalt': 1404, 'reden': 1405, 'redet': 1406, 'reg': 1407, 'regen': 1408, 'regenschirm': 1409, 'regnen': 1410, 'reich': 1411, 'reichCOMMA': 1412, 'reifen': 1413, 'rein': 1414, 'reis': 1415, 'rennen': 1416, 'rennt': 1417, 'repariere': 1418, 'reparieren': 1419, 'reserviert': 1420, 'rette': 1421, 'retten': 1422, 'rettet': 1423, 'richter': 1424, 'richtig': 1425, 'richtung': 1426, 'riechen': 1427, 'riecht': 1428, 'ritterlichkeit': 1429, 'rolleCOMMA': 1430, 'roman': 1431, 'romantisch': 1432, 'rot': 1433, 'rucksack': 1434, 'ruf': 1435, 'rufe': 1436, 'rufen': 1437, 'rufst': 1438, 'ruft': 1439, 'ruhe': 1440, 'ruhig': 1441, 'ruhigCOMMA': 1442, 'runden': 1443, 'rundum': 1444, 'runter': 1445, 'runtergefallen': 1446, 'runzelte': 1447, 'räum': 1448, 'räumen': 1449, 'räumt': 1450, 'rücken': 1451, 'sachen': 1452, 'sack': 1453, 'sag': 1454, 'sage': 1455, 'sagen': 1456, 'sagenhaft': 1457, 'sagst': 1458, 'sagt': 1459, 'sagte': 1460, 'sagtest': 1461, 'sah': 1462, 'sahst': 1463, 'saison': 1464, 'salz': 1465, 'san': 1466, 'sandwich': 1467, 'sanftCOMMA': 1468, 'sanfter': 1469, 'sang': 1470, 'sarkasmus': 1471, 'satt': 1472, 'sauber': 1473, 'sause': 1474, 'schade': 1475, 'schaffe': 1476, 'schaffen': 1477, 'schatz': 1478, 'schau': 1479, 'schauen': 1480, 'schauspielerin': 1481, 'schaust': 1482, 'schaut': 1483, 'schein': 1484, 'scheinen': 1485, 'scheinst': 1486, 'scheint': 1487, 'scher': 1488, 'scheuen': 1489, 'scheuern': 1490, 'scheut': 1491, 'schick': 1492, 'schicken': 1493, 'schieß': 1494, 'schießen': 1495, 'schlafen': 1496, 'schlage': 1497, 'schlagen': 1498, 'schlagt': 1499, 'schlau': 1500, 'schlaumeier': 1501, 'schlecht': 1502, 'schlechte': 1503, 'schlechter': 1504, 'schlechtes': 1505, 'schließ': 1506, 'schließe': 1507, 'schließlich': 1508, 'schlimmste': 1509, 'schlips': 1510, 'schlug': 1511, 'schluss': 1512, 'schläfchen': 1513, 'schlüsse': 1514, 'schlüssel': 1515, 'schmeiß': 1516, 'schmeißen': 1517, 'schmeißt': 1518, 'schmerzen': 1519, 'schmerzt': 1520, 'schmutzig': 1521, 'schnapp': 1522, 'schnarche': 1523, 'schneeschieber': 1524, 'schneide': 1525, 'schneien': 1526, 'schnell': 1527, 'schon': 1528, 'schottland': 1529, 'schrank': 1530, 'schrecklich': 1531, 'schreckliche': 1532, 'schrecklicher': 1533, 'schreib': 1534, 'schreiben': 1535, 'schreibst': 1536, 'schreibt': 1537, 'schreibtisch': 1538, 'schrien': 1539, 'schuhe': 1540, 'schuld': 1541, 'schulde': 1542, 'schuldest': 1543, 'schule': 1544, 'schwach': 1545, 'schwamm': 1546, 'schwammen': 1547, 'schwarz': 1548, 'schwarze': 1549, 'schwarzen': 1550, 'schweig': 1551, 'schweinefleisch': 1552, 'schwer': 1553, 'schweres': 1554, 'schwermütig': 1555, 'schwestern': 1556, 'schwimme': 1557, 'schwimmen': 1558, 'schwirr': 1559, 'schwur': 1560, 'schwäne': 1561, 'schwänzen': 1562, 'schön': 1563, 'schöne': 1564, 'schönen': 1565, 'schüchtern': 1566, 'schüler': 1567, 'sechzig': 1568, 'sehe': 1569, 'sehen': 1570, 'sehr': 1571, 'sei': 1572, 'seid': 1573, 'seien': 1574, 'sein': 1575, 'seine': 1576, 'seinen': 1577, 'seins': 1578, 'sekunden': 1579, 'selbst': 1580, 'seltsam': 1581, 'sers': 1582, 'serviert': 1583, 'setz': 1584, 'setzen': 1585, 'sexy': 1586, 'sich': 1587, 'sicher': 1588, 'sicherCOMMA': 1589, 'sicheren': 1590, 'sie': 1591, 'sieCOMMA': 1592, 'sieden': 1593, 'sieh': 1594, 'siehst': 1595, 'sieht': 1596, 'sind': 1597, 'singst': 1598, 'sitzungen': 1599, 'ski': 1600, 'so': 1601, 'sofort': 1602, 'solange': 1603, 'solch': 1604, 'soll': 1605, 'solle': 1606, 'sollen': 1607, 'sollte': 1608, 'sollten': 1609, 'solltest': 1610, 'solltet': 1611, 'sonne': 1612, 'sonnenmilch': 1613, 'sonntags': 1614, 'sonst': 1615, 'sorge': 1616, 'sorgen': 1617, 'soweit': 1618, 'sowohl': 1619, 'spann': 1620, 'spaß': 1621, 'spendier': 1622, 'spielen': 1623, 'spielst': 1624, 'spielt': 1625, 'spieltest': 1626, 'spinnen': 1627, 'spionierst': 1628, 'sprach': 1629, 'sprache': 1630, 'spreche': 1631, 'sprechen': 1632, 'sprich': 1633, 'sprichst': 1634, 'spricht': 1635, 'spring': 1636, 'spuckte': 1637, 'spät': 1638, 'später': 1639, 'stand': 1640, 'standen': 1641, 'starb': 1642, 'staubsauger': 1643, 'stecker': 1644, 'steckst': 1645, 'steh': 1646, 'stehe': 1647, 'stehen': 1648, 'stehenbleiben': 1649, 'stehst': 1650, 'steht': 1651, 'stell': 1652, 'stelle': 1653, 'stellen': 1654, 'stellt': 1655, 'stifte': 1656, 'still': 1657, 'stille': 1658, 'stimme': 1659, 'stimmen': 1660, 'stimmt': 1661, 'stimmung': 1662, 'stinkt': 1663, 'stirb': 1664, 'stirn': 1665, 'stoffe': 1666, 'stopp': 1667, 'strafe': 1668, 'straße': 1669, 'student': 1670, 'studieren': 1671, 'studierst': 1672, 'stunde': 1673, 'stur': 1674, 'sturm': 1675, 'stöhnte': 1676, 'stück': 1677, 'stürzte': 1678, 'suchen': 1679, 'suchst': 1680, 'suppe': 1681, 'sympathisch': 1682, 'sämtliche': 1683, 'sänger': 1684, 'sängerin': 1685, 'säugetiere': 1686, 'süß': 1687, 'tag': 1688, 'tage': 1689, 'tagen': 1690, 'tages': 1691, 'tagesausflüge': 1692, 'tanz': 1693, 'tanzen': 1694, 'tanzenCOMMA': 1695, 'tanzten': 1696, 'tapfer': 1697, 'taschen': 1698, 'taschenlampe': 1699, 'tassen': 1700, 'taub': 1701, 'tee': 1702, 'teile': 1703, 'teilweise': 1704, 'telefon': 1705, 'tempel': 1706, 'tennis': 1707, 'test': 1708, 'thomas': 1709, 'tief': 1710, 'tier': 1711, 'tiere': 1712, 'tieren': 1713, 'tinte': 1714, 'tisch': 1715, 'tochter': 1716, 'tod': 1717, 'toilette': 1718, 'toll': 1719, 'tom': 1720, 'tomCOMMA': 1721, 'toms': 1722, 'tom“': 1723, 'tot': 1724, 'totaler': 1725, 'traf': 1726, 'tragen': 1727, 'tragt': 1728, 'trauen': 1729, 'traurig': 1730, 'treffen': 1731, 'trete': 1732, 'treue': 1733, 'trinken': 1734, 'trinkgeld': 1735, 'trinkst': 1736, 'trinkt': 1737, 'trocken': 1738, 'troll': 1739, 'träge': 1740, 'trägst': 1741, 'trägt': 1742, 'träumer': 1743, 'trügt': 1744, 'tschüss': 1745, 'tu': 1746, 'tuCOMMA': 1747, 'tue': 1748, 'tun': 1749, 'tunCOMMA': 1750, 'tust': 1751, 'tut': 1752, 'typ': 1753, 'tänzer': 1754, 'tänzerin': 1755, 'täten': 1756, 'tätowierungen': 1757, 'töchter': 1758, 'töte': 1759, 'töten': 1760, 'tötet': 1761, 'tür': 1762, 'türe': 1763, 'uhr': 1764, 'uhren': 1765, 'um': 1766, 'umarme': 1767, 'umarmen': 1768, 'umarmt': 1769, 'umtausch': 1770, 'umwerfend': 1771, 'unabhängig': 1772, 'unausweichlich': 1773, 'unbedingt': 1774, 'und': 1775, 'unfall': 1776, 'ungefährlich': 1777, 'ungerecht': 1778, 'unglaublich': 1779, 'unhöflich': 1780, 'unmöglich': 1781, 'uns': 1782, 'unser': 1783, 'unter': 1784, 'unterbringen': 1785, 'unterkommen': 1786, 'unterkriegen': 1787, 'unterricht': 1788, 'unterschied': 1789, 'unterschreiben': 1790, 'unterschrieben': 1791, 'unterstützung': 1792, 'unterwiesen': 1793, 'unvermeidlich': 1794, 'unverschämt': 1795, 'vater': 1796, 'verbessert': 1797, 'verbindung': 1798, 'verboten': 1799, 'verbrenn': 1800, 'verbrenne': 1801, 'verbrennen': 1802, 'verbrennt': 1803, 'verdacht': 1804, 'verdient': 1805, 'verdirbst': 1806, 'verdreht': 1807, 'verdufte': 1808, 'verfolgt': 1809, 'vergangene': 1810, 'vergessen': 1811, 'vergesst': 1812, 'vergeudet': 1813, 'vergiss': 1814, 'vergleiche': 1815, 'vergnügen': 1816, 'vergossene': 1817, 'vergrabe': 1818, 'verhaften': 1819, 'verheiratet': 1820, 'verirrt': 1821, 'verkaufen': 1822, 'verkehrt': 1823, 'verklagen': 1824, 'verkrümele': 1825, 'verlassen': 1826, 'verlaufen': 1827, 'verlegen': 1828, 'verlegenheit': 1829, 'verletztCOMMA': 1830, 'verlieren': 1831, 'verlierer': 1832, 'verloren': 1833, 'vermisse': 1834, 'vermutet': 1835, 'vernehme': 1836, 'verpasst': 1837, 'verpetzt': 1838, 'verpiss': 1839, 'verraten': 1840, 'verratenCOMMA': 1841, 'verrückt': 1842, 'versagen': 1843, 'verschwende': 1844, 'verschwenden': 1845, 'verschwendest': 1846, 'verschwendet': 1847, 'verschwinde': 1848, 'verschwindet': 1849, 'verschüttet': 1850, 'versorgen': 1851, 'verspreche': 1852, 'versprechen': 1853, 'versprechs': 1854, 'verstand': 1855, 'verstanden': 1856, 'verstecken': 1857, 'versteckt': 1858, 'versteckte': 1859, 'verstehe': 1860, 'versteheCOMMA': 1861, 'verstehen': 1862, 'verstehst': 1863, 'versteht': 1864, 'verständlicher': 1865, 'versuch': 1866, 'versuche': 1867, 'versuchen': 1868, 'versuchst': 1869, 'versucht': 1870, 'versuchte': 1871, 'versuchten': 1872, 'versuch’s': 1873, 'versüßt': 1874, 'vertrag': 1875, 'vertraue': 1876, 'vertrauen': 1877, 'vertraut': 1878, 'verwenden': 1879, 'verzeihung': 1880, 'verzieh': 1881, 'verziehen': 1882, 'verändert': 1883, 'veränderung': 1884, 'verängstigt': 1885, 'verärgert': 1886, 'viel': 1887, 'viele': 1888, 'vieles': 1889, 'vielleicht': 1890, 'vier': 1891, 'virus': 1892, 'vogel': 1893, 'voll': 1894, 'volle': 1895, 'voller': 1896, 'vom': 1897, 'von': 1898, 'vor': 1899, 'vorCOMMA': 1900, 'voraus': 1901, 'vorbei': 1902, 'vorbereitet': 1903, 'voreiligen': 1904, 'vorschriften': 1905, 'vorsicht': 1906, 'vorsichtig': 1907, 'vorstellung': 1908, 'vorstellungsgespräch': 1909, 'vögel': 1910, 'völlig': 1911, 'wach': 1912, 'wachen': 1913, 'wachsam': 1914, 'waffe': 1915, 'wagen': 1916, 'wagst': 1917, 'wahl': 1918, 'wahr': 1919, 'wahre': 1920, 'wahrheit': 1921, 'wahrscheinlich': 1922, 'wale': 1923, 'wanderschuhe': 1924, 'wanderstiefel': 1925, 'wann': 1926, 'war': 1927, 'waren': 1928, 'warm': 1929, 'warne': 1930, 'warnen': 1931, 'warst': 1932, 'wart': 1933, 'warte': 1934, 'warten': 1935, 'wartet': 1936, 'warum': 1937, 'was': 1938, 'wasch': 1939, 'waschen': 1940, 'wasser': 1941, 'weckte': 1942, 'weg': 1943, 'weggehen': 1944, 'wegschicken': 1945, 'weh': 1946, 'wehgetan': 1947, 'wehte': 1948, 'weigere': 1949, 'weihnachten': 1950, 'wein': 1951, 'weine': 1952, 'weinen': 1953, 'weinend': 1954, 'weint': 1955, 'weinte': 1956, 'weise': 1957, 'weit': 1958, 'weiter': 1959, 'weiterleben': 1960, 'weiß': 1961, 'weißCOMMA': 1962, 'weißt': 1963, 'weißtCOMMA': 1964, 'welt': 1965, 'wem': 1966, 'wenigstens': 1967, 'wenn': 1968, 'wer': 1969, 'werde': 1970, 'werden': 1971, 'werdet': 1972, 'werfen': 1973, 'wettbewerb': 1974, 'wichtig': 1975, 'wie': 1976, 'wieder': 1977, 'wiederholen': 1978, 'wiedersehen': 1979, 'will': 1980, 'willCOMMA': 1981, 'willen': 1982, 'willkommen': 1983, 'willst': 1984, 'wind': 1985, 'wink': 1986, 'winkte': 1987, 'wir': 1988, 'wird': 1989, 'wirken': 1990, 'wirklich': 1991, 'wirkst': 1992, 'wirkt': 1993, 'wirst': 1994, 'wissen': 1995, 'wissenCOMMA': 1996, 'wisst': 1997, 'wisstCOMMA': 1998, 'witz': 1999, 'wo': 2000, 'woche': 2001, 'wochenende': 2002, 'wohl': 2003, 'wohnen': 2004, 'wohnst': 2005, 'wohnt': 2006, 'wohnung': 2007, 'wolf': 2008, 'wolkig': 2009, 'wollen': 2010, 'wollenCOMMA': 2011, 'wollt': 2012, 'wollte': 2013, 'worden': 2014, 'worin': 2015, 'wort': 2016, 'wozu': 2017, 'wunder': 2018, 'wunderbar': 2019, 'wunderbare': 2020, 'wurde': 2021, 'wusste': 2022, 'wussten': 2023, 'wusstest': 2024, 'wusstet': 2025, 'wähleCOMMA': 2026, 'wählen': 2027, 'wähltCOMMA': 2028, 'wäre': 2029, 'wärest': 2030, 'wörterbuch': 2031, 'würde': 2032, 'würden': 2033, 'wüsste': 2034, 'wüste': 2035, 'wütend': 2036, 'wütendCOMMA': 2037, 'zahlen': 2038, 'zahlte': 2039, 'zahn': 2040, 'zahnbürste': 2041, 'zahnfleisch': 2042, 'zeigen': 2043, 'zeigs': 2044, 'zeit': 2045, 'zeiten': 2046, 'zerstöre': 2047, 'zerstört': 2048, 'zeug': 2049, 'zieh': 2050, 'ziehe': 2051, 'ziehen': 2052, 'zieht': 2053, 'zielen': 2054, 'ziemlich': 2055, 'zimmer': 2056, 'zimmerdecke': 2057, 'zimmernummerCOMMA': 2058, 'zisch': 2059, 'zu': 2060, 'zuCOMMA': 2061, 'zufrieden': 2062, 'zufriedenCOMMA': 2063, 'zufälligerweise': 2064, 'zugelassen': 2065, 'zuhause': 2066, 'zuhören': 2067, 'zukunft': 2068, 'zum': 2069, 'zur': 2070, 'zurecht': 2071, 'zurück': 2072, 'zurückrufen': 2073, 'zusammen': 2074, 'zusammenrechnen': 2075, 'zuständig': 2076, 'zutritt': 2077, 'zwei': 2078, 'zwillingsschwester': 2079, 'zwinge': 2080, 'zwingen': 2081, 'zwingenCOMMA': 2082, 'zwinkerte': 2083, 'zypern': 2084, 'zählen': 2085, 'ächzte': 2086, 'älter': 2087, 'änderst': 2088, 'änderte': 2089, 'änderungen': 2090, 'ängsten': 2091, 'äpfel': 2092, 'ärgern': 2093, 'ärztin': 2094, 'öffne': 2095, 'öffnen': 2096, 'öffnet': 2097, 'über': 2098, 'überbewertet': 2099, 'überbringer': 2100, 'überhaupt': 2101, 'überlassen': 2102, 'überlebende': 2103, 'überlebenskünstler': 2104, 'übernimmst': 2105, 'überrascht': 2106, 'überraschungen': 2107, 'überstürzenCOMMA': 2108, 'überwachst': 2109, 'überzeug': 2110, 'überzeugt': 2111, 'übrig': 2112, '–': 2113, '’n': 2114, '’ne': 2115, '„ein': 2116, '„hast': 2117, '„hat’s': 2118, '„mich“': 2119, '„nein“': 2120, '„nichts“': 2121, '„null': 2122, '„was': 2123, '„wen': 2124, '„wo': 2125}\n"
     ]
    }
   ],
   "source": [
    "# getting index for words as these indexes will behave as words for machine interactions\n",
    "input_token_index = dict([(word,i) for i,word in enumerate(input_words)])\n",
    "output_token_index = dict([(word,i) for i,word in enumerate(output_words)])\n",
    "\n",
    "print('input token index: ', input_token_index)\n",
    "print('output token index: ', output_token_index)"
   ]
  },
  {
   "cell_type": "code",
   "execution_count": 125,
   "id": "2aa218f8",
   "metadata": {},
   "outputs": [],
   "source": [
    "# creating arrays of input and output data\n",
    "encoder_input_data = np.zeros((len(lines.english), max_input_length), dtype='float32')\n",
    "decoder_input_data = np.zeros((len(lines.deu), max_output_length), dtype='float32')\n",
    "\n",
    "#one hot encoding the target data as Dense layer only gives one output through softmax layer\n",
    "decoder_target_data = np.zeros((len(lines.deu), max_output_length, num_decoder_tokens))"
   ]
  },
  {
   "cell_type": "code",
   "execution_count": 126,
   "id": "5835017e",
   "metadata": {},
   "outputs": [
    {
     "name": "stdout",
     "output_type": "stream",
     "text": [
      "(2931, 8)\n",
      "(2931, 13)\n",
      "(2931, 13, 2126)\n"
     ]
    }
   ],
   "source": [
    "print(encoder_input_data.shape)\n",
    "print(decoder_input_data.shape)\n",
    "print(decoder_target_data.shape)"
   ]
  },
  {
   "cell_type": "code",
   "execution_count": 127,
   "id": "9ffa50c5",
   "metadata": {},
   "outputs": [],
   "source": [
    "# putting all the integer values in input, output data and target data\n",
    "for i,(input_text, output_text) in enumerate(zip(lines.english, lines.deu)):\n",
    "  for t, word in enumerate(input_text.split()):\n",
    "    encoder_input_data[i,t] = input_token_index[word]\n",
    "  for t,word in enumerate(output_text.split()):\n",
    "    decoder_input_data[i,t] = output_token_index[word]\n",
    "    # as decoder target data is ahead of decoder input data, it will not include start_ character(which will be given to decoder model at prediction)\n",
    "    if t > 0:\n",
    "      decoder_target_data[i,t-1,output_token_index[word]] = 1"
   ]
  },
  {
   "cell_type": "code",
   "execution_count": 128,
   "id": "27d3e6e4",
   "metadata": {},
   "outputs": [
    {
     "name": "stdout",
     "output_type": "stream",
     "text": [
      "encoder input data:  [599.   0.   0.   0.   0.   0.   0.   0.]\n",
      "decoder input data:  [  0. 811.   1.   0.   0.   0.   0.   0.   0.   0.   0.   0.   0.]\n",
      "decoder target data:  [[0. 0. 0. ... 0. 0. 0.]\n",
      " [0. 1. 0. ... 0. 0. 0.]\n",
      " [0. 0. 0. ... 0. 0. 0.]\n",
      " ...\n",
      " [0. 0. 0. ... 0. 0. 0.]\n",
      " [0. 0. 0. ... 0. 0. 0.]\n",
      " [0. 0. 0. ... 0. 0. 0.]]\n",
      "shape of sample decoder target data:  (13, 2126)\n"
     ]
    }
   ],
   "source": [
    "print(\"encoder input data: \", encoder_input_data[1])\n",
    "print('decoder input data: ', decoder_input_data[1])\n",
    "print('decoder target data: ',decoder_target_data[1])\n",
    "print('shape of sample decoder target data: ', decoder_target_data[1].shape)"
   ]
  },
  {
   "cell_type": "markdown",
   "id": "5a06a32a",
   "metadata": {},
   "source": [
    "create and training the model"
   ]
  },
  {
   "cell_type": "code",
   "execution_count": 129,
   "id": "fb0efa54",
   "metadata": {},
   "outputs": [],
   "source": [
    "from tensorflow.keras.layers import Input, Embedding, LSTM, Dense\n",
    "from tensorflow.keras.models import Model\n",
    "from tensorflow.keras.utils import plot_model"
   ]
  },
  {
   "cell_type": "code",
   "execution_count": 130,
   "id": "8012cc5c",
   "metadata": {},
   "outputs": [],
   "source": [
    "# setting hyperparameters\n",
    "embedding_size = 120\n",
    "lstm_dim = 324"
   ]
  },
  {
   "cell_type": "code",
   "execution_count": 131,
   "id": "e37e31ca",
   "metadata": {},
   "outputs": [],
   "source": [
    "# building model for training stage\n",
    "#encoder model\n",
    "\n",
    "encoder_inputs = Input(shape=(None,))\n",
    "en_x = Embedding(num_encoder_tokens, embedding_size)(encoder_inputs)\n",
    "encoder = LSTM(lstm_dim, return_state=True)\n",
    "encoder_outputs, state_h, state_c = encoder(en_x)\n",
    "encoder_states = [state_h, state_c]"
   ]
  },
  {
   "cell_type": "code",
   "execution_count": 132,
   "id": "56fac821",
   "metadata": {},
   "outputs": [],
   "source": [
    "# decoder model\n",
    "\n",
    "decoder_inputs = Input(shape=(None,))\n",
    "final_dex = Embedding(num_decoder_tokens, embedding_size)(decoder_inputs)\n",
    "\n",
    "decoder_lstm = LSTM(lstm_dim, return_sequences=True, return_state=True)\n",
    "\n",
    "decoder_outputs, _, _ = decoder_lstm(final_dex, initial_state=encoder_states)\n",
    "\n",
    "decoder_dense = Dense(num_decoder_tokens, activation='softmax') \n",
    "\n",
    "decoder_outputs = decoder_dense(decoder_outputs)"
   ]
  },
  {
   "cell_type": "code",
   "execution_count": 133,
   "id": "e4d3cc71",
   "metadata": {},
   "outputs": [],
   "source": [
    "model = Model([encoder_inputs, decoder_inputs], decoder_outputs)"
   ]
  },
  {
   "cell_type": "code",
   "execution_count": 140,
   "id": "1d08bc29",
   "metadata": {},
   "outputs": [],
   "source": [
    "model.compile(optimizer='rmsprop',\n",
    "              loss = 'categorical_crossentropy',\n",
    "              metrics=['accuracy'])"
   ]
  },
  {
   "cell_type": "code",
   "execution_count": 141,
   "id": "80212e3d",
   "metadata": {},
   "outputs": [
    {
     "name": "stdout",
     "output_type": "stream",
     "text": [
      "Model: \"model_8\"\n",
      "__________________________________________________________________________________________________\n",
      " Layer (type)                   Output Shape         Param #     Connected to                     \n",
      "==================================================================================================\n",
      " input_11 (InputLayer)          [(None, None)]       0           []                               \n",
      "                                                                                                  \n",
      " input_12 (InputLayer)          [(None, None)]       0           []                               \n",
      "                                                                                                  \n",
      " embedding_7 (Embedding)        (None, None, 120)    167280      ['input_11[0][0]']               \n",
      "                                                                                                  \n",
      " embedding_8 (Embedding)        (None, None, 120)    255120      ['input_12[0][0]']               \n",
      "                                                                                                  \n",
      " lstm_4 (LSTM)                  [(None, 324),        576720      ['embedding_7[0][0]']            \n",
      "                                 (None, 324),                                                     \n",
      "                                 (None, 324)]                                                     \n",
      "                                                                                                  \n",
      " lstm_5 (LSTM)                  [(None, None, 324),  576720      ['embedding_8[0][0]',            \n",
      "                                 (None, 324),                     'lstm_4[0][1]',                 \n",
      "                                 (None, 324)]                     'lstm_4[0][2]']                 \n",
      "                                                                                                  \n",
      " dense_2 (Dense)                (None, None, 2126)   690950      ['lstm_5[0][0]']                 \n",
      "                                                                                                  \n",
      "==================================================================================================\n",
      "Total params: 2,266,790\n",
      "Trainable params: 2,266,790\n",
      "Non-trainable params: 0\n",
      "__________________________________________________________________________________________________\n",
      "You must install pydot (`pip install pydot`) and install graphviz (see instructions at https://graphviz.gitlab.io/download/) for plot_model/model_to_dot to work.\n"
     ]
    }
   ],
   "source": [
    "model.summary()\n",
    "plot_model(model, to_file='Model_plot.png', show_shapes=True, show_layer_names=True)"
   ]
  },
  {
   "cell_type": "code",
   "execution_count": 142,
   "id": "fada742b",
   "metadata": {
    "scrolled": true
   },
   "outputs": [
    {
     "name": "stdout",
     "output_type": "stream",
     "text": [
      "Model: \"model_8\"\n",
      "__________________________________________________________________________________________________\n",
      " Layer (type)                   Output Shape         Param #     Connected to                     \n",
      "==================================================================================================\n",
      " input_11 (InputLayer)          [(None, None)]       0           []                               \n",
      "                                                                                                  \n",
      " input_12 (InputLayer)          [(None, None)]       0           []                               \n",
      "                                                                                                  \n",
      " embedding_7 (Embedding)        (None, None, 120)    167280      ['input_11[0][0]']               \n",
      "                                                                                                  \n",
      " embedding_8 (Embedding)        (None, None, 120)    255120      ['input_12[0][0]']               \n",
      "                                                                                                  \n",
      " lstm_4 (LSTM)                  [(None, 324),        576720      ['embedding_7[0][0]']            \n",
      "                                 (None, 324),                                                     \n",
      "                                 (None, 324)]                                                     \n",
      "                                                                                                  \n",
      " lstm_5 (LSTM)                  [(None, None, 324),  576720      ['embedding_8[0][0]',            \n",
      "                                 (None, 324),                     'lstm_4[0][1]',                 \n",
      "                                 (None, 324)]                     'lstm_4[0][2]']                 \n",
      "                                                                                                  \n",
      " dense_2 (Dense)                (None, None, 2126)   690950      ['lstm_5[0][0]']                 \n",
      "                                                                                                  \n",
      "==================================================================================================\n",
      "Total params: 2,266,790\n",
      "Trainable params: 2,266,790\n",
      "Non-trainable params: 0\n",
      "__________________________________________________________________________________________________\n"
     ]
    }
   ],
   "source": [
    "model.summary()"
   ]
  },
  {
   "cell_type": "code",
   "execution_count": 143,
   "id": "55812bb5",
   "metadata": {},
   "outputs": [
    {
     "name": "stdout",
     "output_type": "stream",
     "text": [
      "Epoch 1/10\n",
      "165/165 [==============================] - 115s 544ms/step - loss: 2.0107 - accuracy: 0.1087 - val_loss: 2.9506 - val_accuracy: 0.0984\n",
      "Epoch 2/10\n",
      "165/165 [==============================] - 81s 488ms/step - loss: 1.8787 - accuracy: 0.1214 - val_loss: 2.9947 - val_accuracy: 0.0939\n",
      "Epoch 3/10\n",
      "165/165 [==============================] - 87s 528ms/step - loss: 1.7910 - accuracy: 0.1310 - val_loss: 2.9328 - val_accuracy: 0.1002\n",
      "Epoch 4/10\n",
      "165/165 [==============================] - 87s 526ms/step - loss: 1.7204 - accuracy: 0.1382 - val_loss: 2.9082 - val_accuracy: 0.0921\n",
      "Epoch 5/10\n",
      "165/165 [==============================] - 82s 499ms/step - loss: 1.6586 - accuracy: 0.1442 - val_loss: 3.0139 - val_accuracy: 0.0968\n",
      "Epoch 6/10\n",
      "165/165 [==============================] - 84s 507ms/step - loss: 1.5972 - accuracy: 0.1491 - val_loss: 2.9135 - val_accuracy: 0.0958\n",
      "Epoch 7/10\n",
      "165/165 [==============================] - 87s 530ms/step - loss: 1.5273 - accuracy: 0.1554 - val_loss: 2.9119 - val_accuracy: 0.0924\n",
      "Epoch 8/10\n",
      "165/165 [==============================] - 81s 489ms/step - loss: 1.4618 - accuracy: 0.1576 - val_loss: 2.9165 - val_accuracy: 0.0911\n",
      "Epoch 9/10\n",
      "165/165 [==============================] - 112s 681ms/step - loss: 1.4020 - accuracy: 0.1634 - val_loss: 2.9743 - val_accuracy: 0.0981\n",
      "Epoch 10/10\n",
      "165/165 [==============================] - 112s 681ms/step - loss: 1.3419 - accuracy: 0.1674 - val_loss: 2.9776 - val_accuracy: 0.0926\n"
     ]
    }
   ],
   "source": [
    "r = model.fit([encoder_input_data, decoder_input_data], decoder_target_data, batch_size=16, epochs=10, validation_split=0.10)"
   ]
  },
  {
   "cell_type": "code",
   "execution_count": null,
   "id": "36e0edef",
   "metadata": {},
   "outputs": [],
   "source": []
  },
  {
   "cell_type": "code",
   "execution_count": 144,
   "id": "a0b1a6ea",
   "metadata": {},
   "outputs": [
    {
     "name": "stdout",
     "output_type": "stream",
     "text": [
      "Model: \"model_9\"\n",
      "_________________________________________________________________\n",
      " Layer (type)                Output Shape              Param #   \n",
      "=================================================================\n",
      " input_11 (InputLayer)       [(None, None)]            0         \n",
      "                                                                 \n",
      " embedding_7 (Embedding)     (None, None, 120)         167280    \n",
      "                                                                 \n",
      " lstm_4 (LSTM)               [(None, 324),             576720    \n",
      "                              (None, 324),                       \n",
      "                              (None, 324)]                       \n",
      "                                                                 \n",
      "=================================================================\n",
      "Total params: 744,000\n",
      "Trainable params: 744,000\n",
      "Non-trainable params: 0\n",
      "_________________________________________________________________\n"
     ]
    }
   ],
   "source": [
    "#Inference Stage\n",
    "\n",
    "#encoder model\n",
    "encoder_model = Model(encoder_inputs, encoder_states)\n",
    "encoder_model.summary()"
   ]
  },
  {
   "cell_type": "code",
   "execution_count": 145,
   "id": "14282193",
   "metadata": {},
   "outputs": [],
   "source": [
    "#decoder model\n",
    "decoder_state_input_h = Input(shape=(lstm_dim,))\n",
    "decoder_state_input_c = Input(shape=(lstm_dim,))\n",
    "decoder_state_inputs = [decoder_state_input_h, decoder_state_input_c]\n",
    "\n",
    "final_dex2 = Embedding(num_decoder_tokens, embedding_size)(decoder_inputs)\n",
    "\n",
    "decoder_outputs2, state_h2, state_c2 = decoder_lstm(final_dex2, initial_state=decoder_state_inputs)\n",
    "decoder_states2 = [state_h2, state_c2]\n",
    "decoder_outputs2 = decoder_dense(decoder_outputs2)\n",
    "\n",
    "decoder_model = Model([decoder_inputs] + decoder_state_inputs, [decoder_outputs2] + decoder_states2)"
   ]
  },
  {
   "cell_type": "code",
   "execution_count": 146,
   "id": "1a88f5fe",
   "metadata": {},
   "outputs": [
    {
     "name": "stdout",
     "output_type": "stream",
     "text": [
      "{0: 'a', 1: 'about', 2: 'absolute', 3: 'absorbs', 4: 'accident', 5: 'ache', 6: 'across', 7: 'actress', 8: 'actually', 9: 'actuallyCOMMA', 10: 'add', 11: 'address', 12: 'admitted', 13: 'advance', 14: 'advantage', 15: 'advice', 16: 'afford', 17: 'afraid', 18: 'after', 19: 'again', 20: 'agree', 21: 'ahead', 22: 'aid', 23: 'aim', 24: 'air', 25: 'alcohol', 26: 'aliens', 27: 'alive', 28: 'all', 29: 'allergies', 30: 'allow', 31: 'alls', 32: 'almost', 33: 'alone', 34: 'along', 35: 'already', 36: 'also', 37: 'aluminum', 38: 'always', 39: 'am', 40: 'america', 41: 'an', 42: 'and', 43: 'angry', 44: 'angryCOMMA', 45: 'animal', 46: 'animals', 47: 'annoying', 48: 'another', 49: 'answer', 50: 'any', 51: 'anybody', 52: 'anymore', 53: 'anyone', 54: 'anything', 55: 'anythings', 56: 'anywayCOMMA', 57: 'apartment', 58: 'appearances', 59: 'appeared', 60: 'apples', 61: 'approached', 62: 'approve', 63: 'arabic', 64: 'are', 65: 'arent', 66: 'around', 67: 'arrest', 68: 'arrive', 69: 'arrived', 70: 'art', 71: 'as', 72: 'ask', 73: 'asked', 74: 'asking', 75: 'asleep', 76: 'assistance', 77: 'assistant', 78: 'at', 79: 'ate', 80: 'attack', 81: 'attacked', 82: 'attention', 83: 'attractive', 84: 'australia', 85: 'autograph', 86: 'available', 87: 'avoiding', 88: 'awake', 89: 'away', 90: 'awesome', 91: 'awful', 92: 'b', 93: 'baby', 94: 'back', 95: 'backpack', 96: 'bad', 97: 'bag', 98: 'bags', 99: 'bake', 100: 'baked', 101: 'bald', 102: 'ball', 103: 'bananas', 104: 'bark', 105: 'baseball', 106: 'bath', 107: 'be', 108: 'beat', 109: 'beats', 110: 'beautiful', 111: 'bed', 112: 'been', 113: 'beer', 114: 'beerCOMMA', 115: 'before', 116: 'begin', 117: 'behind', 118: 'being', 119: 'believe', 120: 'benches', 121: 'best', 122: 'betrayed', 123: 'better', 124: 'big', 125: 'biggest', 126: 'bike', 127: 'bird', 128: 'birds', 129: 'bit', 130: 'black', 131: 'blame', 132: 'blaming', 133: 'blanket', 134: 'bleeding', 135: 'bless', 136: 'blew', 137: 'blocking', 138: 'blow', 139: 'blowing', 140: 'blue', 141: 'blushed', 142: 'boat', 143: 'boil', 144: 'book', 145: 'books', 146: 'boots', 147: 'bored', 148: 'boring', 149: 'born', 150: 'borrow', 151: 'boss', 152: 'boston', 153: 'both', 154: 'bought', 155: 'bourbon', 156: 'boy', 157: 'boyfriend', 158: 'boys', 159: 'brave', 160: 'brazil', 161: 'bread', 162: 'break', 163: 'breakfast', 164: 'breath', 165: 'breathe', 166: 'brewing', 167: 'brief', 168: 'bright', 169: 'brightened', 170: 'bring', 171: 'broken', 172: 'brothers', 173: 'bug', 174: 'burn', 175: 'burnt', 176: 'bury', 177: 'bus', 178: 'buses', 179: 'busy', 180: 'but', 181: 'butter', 182: 'button', 183: 'buy', 184: 'by', 185: 'cake', 186: 'call', 187: 'calm', 188: 'came', 189: 'camels', 190: 'camera', 191: 'can', 192: 'canadian', 193: 'canadians', 194: 'candle', 195: 'cant', 196: 'car', 197: 'card', 198: 'care', 199: 'careful', 200: 'cares', 201: 'carry', 202: 'cash', 203: 'cat', 204: 'catch', 205: 'catholic', 206: 'cats', 207: 'ceiling', 208: 'cellphones', 209: 'chalk', 210: 'chance', 211: 'change', 212: 'changeCOMMA', 213: 'changed', 214: 'charge', 215: 'charismatic', 216: 'chased', 217: 'cheated', 218: 'check', 219: 'cheer', 220: 'cheers', 221: 'cherish', 222: 'chew', 223: 'chicken', 224: 'child', 225: 'children', 226: 'chill', 227: 'chivalry', 228: 'choice', 229: 'choose', 230: 'christian', 231: 'christmas', 232: 'chrysanthemums', 233: 'church', 234: 'clapped', 235: 'class', 236: 'classes', 237: 'clean', 238: 'cleaners', 239: 'clear', 240: 'clearer', 241: 'clever', 242: 'clocks', 243: 'close', 244: 'closely', 245: 'cloth', 246: 'clothes', 247: 'cloudy', 248: 'coat', 249: 'coffee', 250: 'coin', 251: 'cold', 252: 'college', 253: 'color', 254: 'coma', 255: 'come', 256: 'comfortable', 257: 'coming', 258: 'comingCOMMA', 259: 'comparisons', 260: 'competition', 261: 'complete', 262: 'computer', 263: 'computers', 264: 'concede', 265: 'concert', 266: 'conclusions', 267: 'contact', 268: 'contract', 269: 'convinced', 270: 'cook', 271: 'cookie', 272: 'cooking', 273: 'cool', 274: 'cooperating', 275: 'copies', 276: 'corn', 277: 'correct', 278: 'coughed', 279: 'could', 280: 'couldve', 281: 'count', 282: 'country', 283: 'cowards', 284: 'cows', 285: 'cream', 286: 'creamCOMMA', 287: 'credit', 288: 'cried', 289: 'criticism', 290: 'crocodile', 291: 'cruel', 292: 'cry', 293: 'crying', 294: 'cucumbers', 295: 'cuff', 296: 'culture', 297: 'curse', 298: 'cursed', 299: 'cut', 300: 'cute', 301: 'cyprus', 302: 'dad', 303: 'damages', 304: 'dance', 305: 'danceCOMMA', 306: 'dancer', 307: 'dancing', 308: 'danger', 309: 'dark', 310: 'dating', 311: 'daughter', 312: 'daughters', 313: 'day', 314: 'days', 315: 'dead', 316: 'deaf', 317: 'dear', 318: 'death', 319: 'deceiving', 320: 'decide', 321: 'decision', 322: 'deep', 323: 'delete', 324: 'deliver', 325: 'demand', 326: 'depressed', 327: 'depressing', 328: 'describe', 329: 'desert', 330: 'deserve', 331: 'desire', 332: 'desk', 333: 'destroy', 334: 'destroys', 335: 'detect', 336: 'dictates', 337: 'dictionary', 338: 'did', 339: 'didnt', 340: 'die', 341: 'died', 342: 'difference', 343: 'different', 344: 'difficult', 345: 'dinner', 346: 'dinosaurs', 347: 'dirty', 348: 'disconnect', 349: 'divide', 350: 'dj', 351: 'do', 352: 'doctor', 353: 'does', 354: 'doesnt', 355: 'dog', 356: 'dogs', 357: 'doing', 358: 'dollars', 359: 'dolphins', 360: 'done', 361: 'dont', 362: 'door', 363: 'double', 364: 'down', 365: 'dreads', 366: 'dreamer', 367: 'dress', 368: 'dressed', 369: 'drink', 370: 'drinking', 371: 'drive', 372: 'driveCOMMA', 373: 'drop', 374: 'dropped', 375: 'drove', 376: 'drunk', 377: 'dry', 378: 'duck', 379: 'ducks', 380: 'dumb', 381: 'each', 382: 'earl', 383: 'early', 384: 'earlyCOMMA', 385: 'east', 386: 'easy', 387: 'eat', 388: 'eaten', 389: 'eggs', 390: 'eight', 391: 'either', 392: 'elaborate', 393: 'else', 394: 'email', 395: 'embarrass', 396: 'embarrassing', 397: 'ending', 398: 'ends', 399: 'english', 400: 'enjoy', 401: 'enjoying', 402: 'enough', 403: 'erase', 404: 'errors', 405: 'escaped', 406: 'even', 407: 'evening', 408: 'ever', 409: 'every', 410: 'everybody', 411: 'everyone', 412: 'evidence', 413: 'exactly', 414: 'example', 415: 'excellent', 416: 'exception', 417: 'excuse', 418: 'exist', 419: 'expect', 420: 'expecting', 421: 'experienced', 422: 'experts', 423: 'explain', 424: 'extinct', 425: 'extroverted', 426: 'eyelids', 427: 'eyes', 428: 'face', 429: 'facebook', 430: 'fail', 431: 'failure', 432: 'fainted', 433: 'fair', 434: 'fairies', 435: 'faithful', 436: 'fall', 437: 'falling', 438: 'familiar', 439: 'family', 440: 'familyCOMMA', 441: 'fan', 442: 'fantastic', 443: 'fascinating', 444: 'fashionable', 445: 'fast', 446: 'fat', 447: 'father', 448: 'favor', 449: 'favorite', 450: 'fear', 451: 'fears', 452: 'feed', 453: 'feel', 454: 'feet', 455: 'fell', 456: 'fever', 457: 'few', 458: 'file', 459: 'filter', 460: 'final', 461: 'find', 462: 'fine', 463: 'finish', 464: 'fire', 465: 'fireworks', 466: 'firm', 467: 'first', 468: 'firstCOMMA', 469: 'fit', 470: 'five', 471: 'fix', 472: 'flash', 473: 'flashlight', 474: 'fled', 475: 'flew', 476: 'flip', 477: 'float', 478: 'floor', 479: 'flowers', 480: 'fluent', 481: 'fly', 482: 'fold', 483: 'follow', 484: 'food', 485: 'foods', 486: 'fool', 487: 'football', 488: 'for', 489: 'force', 490: 'foreheads', 491: 'foreigner', 492: 'forget', 493: 'forgive', 494: 'forgot', 495: 'forgotten', 496: 'fork', 497: 'four', 498: 'francisco', 499: 'free', 500: 'freerange', 501: 'freeze', 502: 'french', 503: 'frenchCOMMA', 504: 'fridge', 505: 'friend', 506: 'friends', 507: 'fries', 508: 'from', 509: 'frowned', 510: 'froze', 511: 'frozen', 512: 'fruit', 513: 'full', 514: 'fun', 515: 'funny', 516: 'future', 517: 'game', 518: 'games', 519: 'garden', 520: 'gases', 521: 'gave', 522: 'generous', 523: 'gentle', 524: 'gentleCOMMA', 525: 'get', 526: 'getting', 527: 'ghost', 528: 'giggled', 529: 'girl', 530: 'girlfriend', 531: 'girls', 532: 'give', 533: 'glass', 534: 'glasses', 535: 'go', 536: 'goCOMMA', 537: 'going', 538: 'golf', 539: 'good', 540: 'goodbye', 541: 'goodlooking', 542: 'goodnight', 543: 'gorgeous', 544: 'got', 545: 'grab', 546: 'grandchildren', 547: 'great', 548: 'green', 549: 'grey', 550: 'grow', 551: 'guard', 552: 'guitar', 553: 'gum', 554: 'gun', 555: 'guts', 556: 'guys', 557: 'gym', 558: 'habits', 559: 'had', 560: 'hair', 561: 'haircut', 562: 'hairs', 563: 'half', 564: 'hands', 565: 'handsome', 566: 'handy', 567: 'hang', 568: 'happen', 569: 'happened', 570: 'happy', 571: 'happyCOMMA', 572: 'hard', 573: 'harder', 574: 'hardworking', 575: 'has', 576: 'hat', 577: 'hate', 578: 'have', 579: 'havent', 580: 'having', 581: 'he', 582: 'head', 583: 'hear', 584: 'heard', 585: 'hearing', 586: 'heart', 587: 'heights', 588: 'hello', 589: 'help', 590: 'helped', 591: 'helpful', 592: 'helping', 593: 'helps', 594: 'her', 595: 'here', 596: 'hereCOMMA', 597: 'heres', 598: 'hes', 599: 'hi', 600: 'hiCOMMA', 601: 'hid', 602: 'hide', 603: 'high', 604: 'hill', 605: 'him', 606: 'hint', 607: 'hire', 608: 'his', 609: 'hit', 610: 'hold', 611: 'home', 612: 'homesick', 613: 'honestly', 614: 'hooky', 615: 'hop', 616: 'hope', 617: 'horse', 618: 'hospital', 619: 'hot', 620: 'hotel', 621: 'hour', 622: 'house', 623: 'how', 624: 'hug', 625: 'humble', 626: 'humor', 627: 'hung', 628: 'hungry', 629: 'hunting', 630: 'hurried', 631: 'hurry', 632: 'hurt', 633: 'hurtCOMMA', 634: 'hurts', 635: 'husband', 636: 'hypocrite', 637: 'i', 638: 'ice', 639: 'ideaCOMMA', 640: 'ideas', 641: 'idiot', 642: 'if', 643: 'ignore', 644: 'ignoring', 645: 'ill', 646: 'im', 647: 'imaginative', 648: 'imagining', 649: 'imitate', 650: 'imminent', 651: 'important', 652: 'improved', 653: 'improving', 654: 'in', 655: 'incompetent', 656: 'incredible', 657: 'independent', 658: 'indoors', 659: 'inevitable', 660: 'infection', 661: 'ink', 662: 'insane', 663: 'inside', 664: 'instrument', 665: 'intend', 666: 'interested', 667: 'interesting', 668: 'interrupt', 669: 'interview', 670: 'into', 671: 'introverted', 672: 'invited', 673: 'is', 674: 'island', 675: 'isnt', 676: 'it', 677: 'itCOMMA', 678: 'itll', 679: 'its', 680: 'jackson', 681: 'japanese', 682: 'job', 683: 'john', 684: 'join', 685: 'journalist', 686: 'judge', 687: 'jump', 688: 'jumped', 689: 'just', 690: 'keep', 691: 'key', 692: 'keys', 693: 'kid', 694: 'kidding', 695: 'kids', 696: 'kill', 697: 'kind', 698: 'kiss', 699: 'knew', 700: 'knife', 701: 'know', 702: 'knows', 703: 'krill', 704: 'language', 705: 'large', 706: 'larger', 707: 'last', 708: 'lastCOMMA', 709: 'late', 710: 'later', 711: 'laterCOMMA', 712: 'laugh', 713: 'laughed', 714: 'law', 715: 'lawyer', 716: 'lazy', 717: 'leads', 718: 'lean', 719: 'learn', 720: 'least', 721: 'leave', 722: 'leaving', 723: 'left', 724: 'legs', 725: 'lend', 726: 'let', 727: 'lets', 728: 'letter', 729: 'letters', 730: 'liability', 731: 'liar', 732: 'lie', 733: 'lied', 734: 'lies', 735: 'lift', 736: 'light', 737: 'lights', 738: 'like', 739: 'likes', 740: 'line', 741: 'lion', 742: 'lions', 743: 'lips', 744: 'list', 745: 'listen', 746: 'listenCOMMA', 747: 'listening', 748: 'little', 749: 'live', 750: 'liver', 751: 'living', 752: 'lock', 753: 'lonely', 754: 'long', 755: 'longer', 756: 'look', 757: 'looked', 758: 'looking', 759: 'lose', 760: 'loser', 761: 'lost', 762: 'lot', 763: 'lots', 764: 'love', 765: 'low', 766: 'lying', 767: 'mad', 768: 'made', 769: 'magic', 770: 'mail', 771: 'make', 772: 'makes', 773: 'making', 774: 'mamas', 775: 'mammal', 776: 'man', 777: 'managed', 778: 'mango', 779: 'marbles', 780: 'married', 781: 'marry', 782: 'mary', 783: 'marys', 784: 'matter', 785: 'may', 786: 'me', 787: 'meCOMMA', 788: 'meal', 789: 'mean', 790: 'measure', 791: 'meat', 792: 'meet', 793: 'meetings', 794: 'member', 795: 'mention', 796: 'mess', 797: 'message', 798: 'messages', 799: 'messenger', 800: 'met', 801: 'metal', 802: 'might', 803: 'mightve', 804: 'milk', 805: 'mind', 806: 'mine', 807: 'mineral', 808: 'minute', 809: 'minutes', 810: 'miracles', 811: 'miss', 812: 'missed', 813: 'mistake', 814: 'mistaken', 815: 'mixture', 816: 'moaned', 817: 'modest', 818: 'mom', 819: 'moment', 820: 'monday', 821: 'money', 822: 'mood', 823: 'more', 824: 'morning', 825: 'mother', 826: 'movie', 827: 'mp', 828: 'much', 829: 'must', 830: 'mustve', 831: 'my', 832: 'nail', 833: 'naive', 834: 'name', 835: 'nap', 836: 'narrowminded', 837: 'need', 838: 'neednt', 839: 'needs', 840: 'neighbor', 841: 'nerve', 842: 'nervous', 843: 'never', 844: 'new', 845: 'news', 846: 'next', 847: 'nice', 848: 'night', 849: 'nitroglycerin', 850: 'no', 851: 'nodded', 852: 'noise', 853: 'nose', 854: 'noses', 855: 'not', 856: 'notebooks', 857: 'notes', 858: 'nothing', 859: 'notice', 860: 'noticed', 861: 'novel', 862: 'now', 863: 'nowCOMMA', 864: 'numberCOMMA', 865: 'numbers', 866: 'nurse', 867: 'obese', 868: 'obey', 869: 'objection', 870: 'oclock', 871: 'of', 872: 'off', 873: 'offer', 874: 'often', 875: 'oh', 876: 'ok', 877: 'okay', 878: 'old', 879: 'older', 880: 'on', 881: 'once', 882: 'one', 883: 'oneday', 884: 'only', 885: 'open', 886: 'optimist', 887: 'or', 888: 'orange', 889: 'oranges', 890: 'order', 891: 'orders', 892: 'other', 893: 'others', 894: 'ought', 895: 'our', 896: 'out', 897: 'oven', 898: 'over', 899: 'overrated', 900: 'owe', 901: 'own', 902: 'oysters', 903: 'paid', 904: 'pain', 905: 'painful', 906: 'paint', 907: 'parents', 908: 'park', 909: 'part', 910: 'partially', 911: 'party', 912: 'pass', 913: 'passed', 914: 'past', 915: 'pathetic', 916: 'patient', 917: 'paused', 918: 'pay', 919: 'peanut', 920: 'penny', 921: 'pens', 922: 'perfect', 923: 'persevering', 924: 'person', 925: 'phone', 926: 'piano', 927: 'pick', 928: 'picture', 929: 'piece', 930: 'pillow', 931: 'pinch', 932: 'pizza', 933: 'place', 934: 'plain', 935: 'plan', 936: 'play', 937: 'player', 938: 'please', 939: 'plug', 940: 'poet', 941: 'point', 942: 'points', 943: 'police', 944: 'policeman', 945: 'polite', 946: 'politeCOMMA', 947: 'poor', 948: 'pork', 949: 'possible', 950: 'potatoes', 951: 'prayed', 952: 'predictable', 953: 'prepared', 954: 'pretty', 955: 'priest', 956: 'princess', 957: 'probably', 958: 'problem', 959: 'promise', 960: 'proof', 961: 'proved', 962: 'provide', 963: 'pull', 964: 'punctured', 965: 'punish', 966: 'purchase', 967: 'purposely', 968: 'push', 969: 'put', 970: 'question', 971: 'questions', 972: 'quickly', 973: 'quiet', 974: 'quit', 975: 'quite', 976: 'racists', 977: 'rain', 978: 'ran', 979: 'rat', 980: 'read', 981: 'ready', 982: 'real', 983: 'really', 984: 'reason', 985: 'receive', 986: 'recognize', 987: 'recommend', 988: 'recording', 989: 'red', 990: 'refreshed', 991: 'refuse', 992: 'regret', 993: 'rejected', 994: 'relax', 995: 'relaxed', 996: 'remember', 997: 'rent', 998: 'repeat', 999: 'replaceable', 1000: 'reservation', 1001: 'resign', 1002: 'responsible', 1003: 'rest', 1004: 'rested', 1005: 'retired', 1006: 'rice', 1007: 'rich', 1008: 'richCOMMA', 1009: 'right', 1010: 'rightCOMMA', 1011: 'ringing', 1012: 'rise', 1013: 'road', 1014: 'rolls', 1015: 'romantic', 1016: 'room', 1017: 'rough', 1018: 'rub', 1019: 'rude', 1020: 'rumors', 1021: 'run', 1022: 'running', 1023: 'runs', 1024: 'rush', 1025: 'sad', 1026: 'safe', 1027: 'said', 1028: 'sales', 1029: 'salt', 1030: 'same', 1031: 'san', 1032: 'sandwich', 1033: 'sang', 1034: 'sarcasm', 1035: 'satisfiedCOMMA', 1036: 'save', 1037: 'saw', 1038: 'say', 1039: 'says', 1040: 'scared', 1041: 'school', 1042: 'scotland', 1043: 'scoundrel', 1044: 'season', 1045: 'seated', 1046: 'seats', 1047: 'seconds', 1048: 'secrets', 1049: 'see', 1050: 'seem', 1051: 'sell', 1052: 'served', 1053: 'set', 1054: 'sexy', 1055: 'sharp', 1056: 'shaved', 1057: 'she', 1058: 'shirt', 1059: 'shoes', 1060: 'shoot', 1061: 'shop', 1062: 'should', 1063: 'shouldnt', 1064: 'shovel', 1065: 'show', 1066: 'shower', 1067: 'shut', 1068: 'shy', 1069: 'sick', 1070: 'sign', 1071: 'silence', 1072: 'silly', 1073: 'simply', 1074: 'sing', 1075: 'singer', 1076: 'single', 1077: 'sister', 1078: 'sisters', 1079: 'sit', 1080: 'sixty', 1081: 'size', 1082: 'ski', 1083: 'skip', 1084: 'sleep', 1085: 'slept', 1086: 'slippery', 1087: 'smart', 1088: 'smarter', 1089: 'smell', 1090: 'smells', 1091: 'smile', 1092: 'smiled', 1093: 'smoke', 1094: 'smoking', 1095: 'snore', 1096: 'snow', 1097: 'so', 1098: 'soaking', 1099: 'solve', 1100: 'some', 1101: 'someday', 1102: 'someone', 1103: 'something', 1104: 'sometimes', 1105: 'soon', 1106: 'sorry', 1107: 'sound', 1108: 'soup', 1109: 'spare', 1110: 'speak', 1111: 'speaking', 1112: 'special', 1113: 'speed', 1114: 'spend', 1115: 'spiders', 1116: 'spilt', 1117: 'spit', 1118: 'spoiling', 1119: 'spoke', 1120: 'spray', 1121: 'square', 1122: 'stand', 1123: 'start', 1124: 'started', 1125: 'stay', 1126: 'stayed', 1127: 'step', 1128: 'stew', 1129: 'still', 1130: 'stinks', 1131: 'stomachache', 1132: 'stood', 1133: 'stop', 1134: 'stopped', 1135: 'stories', 1136: 'storm', 1137: 'strange', 1138: 'stranger', 1139: 'strong', 1140: 'stubborn', 1141: 'student', 1142: 'students', 1143: 'study', 1144: 'stuff', 1145: 'stupid', 1146: 'such', 1147: 'sue', 1148: 'suffer', 1149: 'suffering', 1150: 'sun', 1151: 'sundays', 1152: 'sunscreen', 1153: 'support', 1154: 'supposed', 1155: 'sure', 1156: 'surprised', 1157: 'surprises', 1158: 'survivors', 1159: 'suspect', 1160: 'suspense', 1161: 'suspicion', 1162: 'swam', 1163: 'swans', 1164: 'swept', 1165: 'swim', 1166: 'swimming', 1167: 'swimsuit', 1168: 'swore', 1169: 'table', 1170: 'take', 1171: 'taken', 1172: 'takes', 1173: 'taking', 1174: 'talk', 1175: 'talking', 1176: 'tall', 1177: 'taste', 1178: 'tattoos', 1179: 'taught', 1180: 'tea', 1181: 'teacher', 1182: 'teachers', 1183: 'tease', 1184: 'telephones', 1185: 'television', 1186: 'tell', 1187: 'telling', 1188: 'temperature', 1189: 'temple', 1190: 'ten', 1191: 'tennis', 1192: 'terrible', 1193: 'terrific', 1194: 'test', 1195: 'texting', 1196: 'than', 1197: 'thank', 1198: 'thanks', 1199: 'that', 1200: 'thatCOMMA', 1201: 'thats', 1202: 'the', 1203: 'them', 1204: 'themCOMMA', 1205: 'thenCOMMA', 1206: 'there', 1207: 'these', 1208: 'they', 1209: 'thin', 1210: 'things', 1211: 'think', 1212: 'thinking', 1213: 'thirsty', 1214: 'thirty', 1215: 'this', 1216: 'thisCOMMA', 1217: 'thisll', 1218: 'those', 1219: 'thoughtful', 1220: 'thoughts', 1221: 'three', 1222: 'through', 1223: 'throw', 1224: 'ticket', 1225: 'tidy', 1226: 'tie', 1227: 'time', 1228: 'times', 1229: 'tip', 1230: 'tire', 1231: 'tired', 1232: 'tiredCOMMA', 1233: 'to', 1234: 'today', 1235: 'toilet', 1236: 'told', 1237: 'tom', 1238: 'tomCOMMA', 1239: 'tomorrow', 1240: 'toms', 1241: 'tonight', 1242: 'tons', 1243: 'too', 1244: 'took', 1245: 'toothbrush', 1246: 'touch', 1247: 'tours', 1248: 'track', 1249: 'treat', 1250: 'tried', 1251: 'tries', 1252: 'truck', 1253: 'true', 1254: 'trust', 1255: 'truth', 1256: 'try', 1257: 'trying', 1258: 'turn', 1259: 'turning', 1260: 'tv', 1261: 'twin', 1262: 'twisting', 1263: 'two', 1264: 'type', 1265: 'ugly', 1266: 'umbrella', 1267: 'unambitious', 1268: 'under', 1269: 'underage', 1270: 'understand', 1271: 'undone', 1272: 'unfair', 1273: 'unnecessary', 1274: 'up', 1275: 'upset', 1276: 'upside', 1277: 'us', 1278: 'usCOMMA', 1279: 'use', 1280: 'useful', 1281: 'useless', 1282: 'using', 1283: 'vacancies', 1284: 'vacuum', 1285: 'very', 1286: 'view', 1287: 'virus', 1288: 'visit', 1289: 'voice', 1290: 'vote', 1291: 'wait', 1292: 'waited', 1293: 'wake', 1294: 'walked', 1295: 'walking', 1296: 'want', 1297: 'warm', 1298: 'warn', 1299: 'warned', 1300: 'was', 1301: 'wash', 1302: 'wasnt', 1303: 'waste', 1304: 'wasted', 1305: 'wasting', 1306: 'watch', 1307: 'watching', 1308: 'water', 1309: 'waved', 1310: 'way', 1311: 'we', 1312: 'weak', 1313: 'wear', 1314: 'wears', 1315: 'wednesday', 1316: 'week', 1317: 'weekend', 1318: 'weight', 1319: 'weird', 1320: 'welcome', 1321: 'well', 1322: 'went', 1323: 'wept', 1324: 'were', 1325: 'wet', 1326: 'whale', 1327: 'whales', 1328: 'what', 1329: 'whatever', 1330: 'whats', 1331: 'when', 1332: 'whenever', 1333: 'where', 1334: 'wheres', 1335: 'whichever', 1336: 'while', 1337: 'white', 1338: 'who', 1339: 'whos', 1340: 'whose', 1341: 'why', 1342: 'wife', 1343: 'will', 1344: 'win', 1345: 'wind', 1346: 'window', 1347: 'windows', 1348: 'wine', 1349: 'winked', 1350: 'wise', 1351: 'wish', 1352: 'with', 1353: 'without', 1354: 'woke', 1355: 'wolf', 1356: 'woman', 1357: 'won', 1358: 'wonCOMMA', 1359: 'wonderful', 1360: 'wont', 1361: 'wood', 1362: 'word', 1363: 'words', 1364: 'work', 1365: 'worked', 1366: 'working', 1367: 'works', 1368: 'worried', 1369: 'worry', 1370: 'worrying', 1371: 'worst', 1372: 'would', 1373: 'wow', 1374: 'write', 1375: 'writing', 1376: 'wrong', 1377: 'yawned', 1378: 'year', 1379: 'yell', 1380: 'yelling', 1381: 'yesterday', 1382: 'yet', 1383: 'yetCOMMA', 1384: 'yogurt', 1385: 'you', 1386: 'youd', 1387: 'youll', 1388: 'young', 1389: 'your', 1390: 'youre', 1391: 'yours', 1392: 'yourself', 1393: 'youve'}\n",
      "{0: 'START_', 1: '_END', 2: 'a', 3: 'ab', 4: 'abend', 5: 'abendessen', 6: 'aber', 7: 'abgegangen', 8: 'abgegeben', 9: 'abgenommen', 10: 'abgeschlossen', 11: 'abgewiesen', 12: 'abholen', 13: 'abreisen', 14: 'abräumen', 15: 'absichtlich', 16: 'absorbieren', 17: 'abzulegen', 18: 'acht', 19: 'achtgeben', 20: 'acker', 21: 'adresse', 22: 'aha', 23: 'ahnungCOMMA', 24: 'ahnung“', 25: 'albernen', 26: 'aliens', 27: 'alkohol', 28: 'all', 29: 'alle', 30: 'allein', 31: 'alleine', 32: 'alleinstehend', 33: 'aller', 34: 'allergien', 35: 'alles', 36: 'allesCOMMA', 37: 'allmählich', 38: 'allzu', 39: 'als', 40: 'alt', 41: 'aluminium', 42: 'am', 43: 'amerika', 44: 'amüsieren', 45: 'amüsierst', 46: 'amüsiert', 47: 'an', 48: 'anCOMMA', 49: 'andere', 50: 'anderes', 51: 'andermal', 52: 'anders', 53: 'anfang', 54: 'anfangen', 55: 'angekommen', 56: 'angelogen', 57: 'angerufen', 58: 'angeschrien', 59: 'angewohnheiten', 60: 'angezogen', 61: 'angriff', 62: 'angst', 63: 'anhalten', 64: 'anmelden', 65: 'anrufen', 66: 'anschließe', 67: 'anschließen', 68: 'anschrift', 69: 'ansehen', 70: 'anstellen', 71: 'antwort', 72: 'antworte', 73: 'antworten', 74: 'antwortet', 75: 'anwalt', 76: 'apfelsinen', 77: 'arabisch', 78: 'arbeit', 79: 'arbeiten', 80: 'arbeitest', 81: 'arbeitet', 82: 'arbeitslos', 83: 'arm', 84: 'arzt', 85: 'assistent', 86: 'atem', 87: 'atme', 88: 'attacke', 89: 'attraktiv', 90: 'auch', 91: 'auf', 92: 'aufCOMMA', 93: 'aufgeben', 94: 'aufgeblieben', 95: 'aufgebracht', 96: 'aufgegeben', 97: 'aufgegessen', 98: 'aufgehört', 99: 'aufgelegt', 100: 'aufgepasst', 101: 'aufgestanden', 102: 'aufhören', 103: 'aufnehmen', 104: 'aufstehen', 105: 'augen', 106: 'augenlider', 107: 'aus', 108: 'ausCOMMA', 109: 'ausdrücken', 110: 'ausführen', 111: 'ausgegangen', 112: 'ausgehen', 113: 'ausgenutzt', 114: 'ausgeschaltet', 115: 'ausgeschieden', 116: 'ausgeschlossen', 117: 'ausgestorben', 118: 'ausgetauscht', 119: 'ausgezeichnete', 120: 'ausleihen', 121: 'ausländer', 122: 'ausländerin', 123: 'ausnahme', 124: 'ausprobieren', 125: 'ausradieren', 126: 'ausreden', 127: 'ausruhen', 128: 'ausschalten', 129: 'aussicht', 130: 'ausstellen', 131: 'austern', 132: 'australien', 133: 'auto', 134: 'autogramm', 135: 'aß', 136: 'b', 137: 'backen', 138: 'bad', 139: 'badeanzug', 140: 'bald', 141: 'bananen', 142: 'bar', 143: 'baseballfan', 144: 'bauchschmerzen', 145: 'bauchweh', 146: 'beantworte', 147: 'beantworten', 148: 'bedarf', 149: 'bedrückend', 150: 'beeil', 151: 'beeilen', 152: 'beeilt', 153: 'befehle', 154: 'befehlen', 155: 'befindet', 156: 'befolgen', 157: 'befolgt', 158: 'befreundet', 159: 'befürchten', 160: 'begegnet', 161: 'begehren', 162: 'beginnt', 163: 'begreifen', 164: 'behalt', 165: 'behalten', 166: 'behaltet', 167: 'behandel', 168: 'behandle', 169: 'beharrlich', 170: 'behebe', 171: 'beheben', 172: 'bei', 173: 'beide', 174: 'beigebracht', 175: 'beim', 176: 'beine', 177: 'beispiel', 178: 'bekannt', 179: 'bekleidet', 180: 'bekomme', 181: 'bekommen', 182: 'bekommenCOMMA', 183: 'belastung', 184: 'bellen', 185: 'belogen', 186: 'belügst', 187: 'bemerkt', 188: 'benutze', 189: 'benutzen', 190: 'benutzt', 191: 'benötigen', 192: 'beobachte', 193: 'beobachten', 194: 'beobachtet', 195: 'bequem', 196: 'bereit', 197: 'bereits', 198: 'bereuen', 199: 'beruhige', 200: 'beruhigen', 201: 'berühren', 202: 'bescheid', 203: 'bescheiden', 204: 'beschreiben', 205: 'beschuldige', 206: 'beschuldigen', 207: 'beschäftigt', 208: 'beschäftigtCOMMA', 209: 'besetzt', 210: 'besichtigt', 211: 'besoffen', 212: 'besonderes', 213: 'besonders', 214: 'besser', 215: 'bestanden', 216: 'beste', 217: 'bestechen', 218: 'besteht', 219: 'bestellen', 220: 'bestellt', 221: 'bestellung', 222: 'besten', 223: 'bestimmt', 224: 'beteiligen', 225: 'betete', 226: 'betrifft', 227: 'betrogen', 228: 'betrunken', 229: 'bett', 230: 'bettdecke', 231: 'betätigt', 232: 'beunruhigt', 233: 'bewegen', 234: 'bewegung', 235: 'beweis', 236: 'bewiesenCOMMA', 237: 'bezahlen', 238: 'bezahlenCOMMA', 239: 'bezahlt', 240: 'bezaubernd', 241: 'bier', 242: 'bieten', 243: 'bild', 244: 'bilde', 245: 'bin', 246: 'bin’s', 247: 'bis', 248: 'bisschen', 249: 'bisschen“', 250: 'bist', 251: 'bitte', 252: 'blau', 253: 'blaue', 254: 'blauwale', 255: 'bleib', 256: 'bleiben', 257: 'bleibst', 258: 'bleibt', 259: 'blieb', 260: 'blies', 261: 'blinzelte', 262: 'bloß', 263: 'blumen', 264: 'blutet', 265: 'borniert', 266: 'boston', 267: 'boten', 268: 'botschaft', 269: 'bourbon', 270: 'brasilien', 271: 'brauchen', 272: 'brauchst', 273: 'braucht', 274: 'braute', 275: 'braves', 276: 'brechen', 277: 'brief', 278: 'briefe', 279: 'brille', 280: 'bring', 281: 'bringen', 282: 'bringt', 283: 'brot', 284: 'bruch', 285: 'brötchen', 286: 'brüder', 287: 'buch', 288: 'bus', 289: 'busse', 290: 'butter', 291: 'bänke', 292: 'böse', 293: 'bücher', 294: 'chance', 295: 'charismatisch', 296: 'chef', 297: 'christ', 298: 'christin', 299: 'chrysanthemen', 300: 'computer', 301: 'cool', 302: 'da', 303: 'dabei', 304: 'dadurch', 305: 'dafür', 306: 'dageblieben', 307: 'dagegen', 308: 'dagelassen', 309: 'dahin', 310: 'danke', 311: 'dann', 312: 'daran', 313: 'daranCOMMA', 314: 'daraufCOMMA', 315: 'daraus', 316: 'darf', 317: 'darfst', 318: 'darin', 319: 'darumCOMMA', 320: 'darüber', 321: 'das', 322: 'dasCOMMA', 323: 'dass', 324: 'datei', 325: 'davon', 326: 'davonCOMMA', 327: 'dazu', 328: 'decke', 329: 'deckung', 330: 'dein', 331: 'deine', 332: 'deinen', 333: 'deiner', 334: 'deines', 335: 'deins', 336: 'delphine', 337: 'dem', 338: 'den', 339: 'denk', 340: 'denke', 341: 'denken', 342: 'denkst', 343: 'denkt', 344: 'denn', 345: 'der', 346: 'derjenigeCOMMA', 347: 'deutlich', 348: 'dich', 349: 'dichter', 350: 'dick', 351: 'die', 352: 'dies', 353: 'diese', 354: 'diesem', 355: 'diesen', 356: 'dieser', 357: 'dieses', 358: 'dinosaurier', 359: 'dir', 360: 'dirCOMMA', 361: 'dj', 362: 'doch', 363: 'dochCOMMA', 364: 'dollar', 365: 'donnerwetter', 366: 'doof', 367: 'doppelzimmer', 368: 'dort', 369: 'dorthin', 370: 'dran', 371: 'dranCOMMA', 372: 'drauf', 373: 'drehen', 374: 'drehst', 375: 'drei', 376: 'dreißig', 377: 'drin', 378: 'drinnen', 379: 'drück', 380: 'drücken', 381: 'drückt', 382: 'du', 383: 'duCOMMA', 384: 'dumm', 385: 'dumme', 386: 'dummes', 387: 'dummkopf', 388: 'dunkeln', 389: 'durch', 390: 'durchlöcherte', 391: 'durchschaubar', 392: 'durst', 393: 'duschen', 394: 'du’s', 395: 'dünn', 396: 'dürfen', 397: 'dürft', 398: 'dürfte', 399: 'earlgreytee', 400: 'echt', 401: 'ehefrau', 402: 'ehemann', 403: 'ehrgeiz', 404: 'ehrlich', 405: 'eier', 406: 'eigenes', 407: 'eigentlich', 408: 'ein', 409: 'einander', 410: 'einbrechen', 411: 'eine', 412: 'einem', 413: 'einen', 414: 'einer', 415: 'eines', 416: 'einfach', 417: 'einfacher', 418: 'einfangen', 419: 'eingeladen', 420: 'eingeschlafen', 421: 'einmal', 422: 'einsam', 423: 'eintopf', 424: 'eintritt', 425: 'einverstanden', 426: 'einwände', 427: 'eltern', 428: 'email', 429: 'empfehlen', 430: 'empfindliche', 431: 'empfindlichen', 432: 'ende', 433: 'endlich', 434: 'englisch', 435: 'enkelkinder', 436: 'entbehrlich', 437: 'entenküken', 438: 'entfernen', 439: 'entgangen', 440: 'entkam', 441: 'entkommen', 442: 'entscheidestCOMMA', 443: 'entscheidung', 444: 'entschuldigen', 445: 'entschuldigung', 446: 'entspann', 447: 'entspanne', 448: 'entspannen', 449: 'entspannt', 450: 'entzündetes', 451: 'er', 452: 'erCOMMA', 453: 'erbärmlich', 454: 'erdnussbutter', 455: 'erfahrung', 456: 'erfrischte', 457: 'erfuhren', 458: 'erholen', 459: 'erinnern', 460: 'erinnerst', 461: 'erkennen', 462: 'erkennst', 463: 'erkennt', 464: 'erklären', 465: 'erledigen', 466: 'ernst', 467: 'ernsthaft', 468: 'ernähren', 469: 'erröteten', 470: 'erschien', 471: 'ersetzbar', 472: 'erst', 473: 'erteilen', 474: 'erwarte', 475: 'erwarten', 476: 'erwartest', 477: 'erwartet', 478: 'erwartetCOMMA', 479: 'erworben', 480: 'erzähl', 481: 'erzählen', 482: 'erzähls', 483: 'erzählt', 484: 'es', 485: 'esCOMMA', 486: 'essen', 487: 'esst', 488: 'etwa', 489: 'etwaCOMMA', 490: 'etwas', 491: 'euch', 492: 'euchCOMMA', 493: 'euer', 494: 'eure', 495: 'euren', 496: 'eures', 497: 'extrovertiert', 498: 'facebook', 499: 'fach', 500: 'fahr', 501: 'fahren', 502: 'fahrenCOMMA', 503: 'fahrkarte', 504: 'fahrrad', 505: 'fahrt', 506: 'fair', 507: 'fall', 508: 'fallen', 509: 'falsch', 510: 'falschen', 511: 'falsches', 512: 'falte', 513: 'familie', 514: 'familieCOMMA', 515: 'fang', 516: 'fange', 517: 'fangen', 518: 'fangt', 519: 'fantasievoll', 520: 'fantastisch', 521: 'farbe', 522: 'fass', 523: 'fassen', 524: 'fasst', 525: 'fast', 526: 'faszinierend', 527: 'feen', 528: 'fehler', 529: 'fehlerCOMMA', 530: 'fehlt', 531: 'feier', 532: 'feiern', 533: 'feiglinge', 534: 'fenster', 535: 'fern', 536: 'fernsehen', 537: 'fernseher', 538: 'fertig', 539: 'fest', 540: 'festgenommen', 541: 'fett', 542: 'fettleibig', 543: 'feuer', 544: 'feuerwerk', 545: 'fieber', 546: 'fiel', 547: 'film', 548: 'filter', 549: 'finde', 550: 'finden', 551: 'findest', 552: 'findet', 553: 'fitnessstudio', 554: 'fleisch', 555: 'fleißig', 556: 'fleißiger', 557: 'fliege', 558: 'fliegen', 559: 'fließend', 560: 'flog', 561: 'fluche', 562: 'fluchte', 563: 'flüchtete', 564: 'folge', 565: 'folgen', 566: 'folter', 567: 'football', 568: 'forderte', 569: 'fort', 570: 'fotoapparat', 571: 'fotografieren', 572: 'frag', 573: 'frage', 574: 'fragen', 575: 'fragt', 576: 'francisco', 577: 'französisch', 578: 'frau', 579: 'frei', 580: 'freilaufenden', 581: 'fremder', 582: 'freude', 583: 'freund', 584: 'freunde', 585: 'freundin', 586: 'freundlich', 587: 'friseur', 588: 'fror', 589: 'früchte', 590: 'früh', 591: 'früher', 592: 'frühstück', 593: 'fuhr', 594: 'funktionieren', 595: 'funktioniert', 596: 'fußball', 597: 'fährst', 598: 'fährt', 599: 'füge', 600: 'fühl', 601: 'fühlen', 602: 'fühlst', 603: 'führe', 604: 'führen', 605: 'führt', 606: 'fünf', 607: 'fünfmal', 608: 'für', 609: 'fürchte', 610: 'fürchteCOMMA', 611: 'fürchtet', 612: 'gab', 613: 'gabel', 614: 'ganz', 615: 'ganze', 616: 'gar', 617: 'garten', 618: 'gasen', 619: 'gebacken', 620: 'gebadet', 621: 'gebaut', 622: 'gebe', 623: 'geben', 624: 'gebeut', 625: 'gebissen', 626: 'geboren', 627: 'geborener', 628: 'gebracht', 629: 'gebrannte', 630: 'gebranntes', 631: 'gebrauchen', 632: 'gebrochen', 633: 'gedanken', 634: 'gedrückt', 635: 'geduldig', 636: 'geduldiger', 637: 'gefahr', 638: 'gefahren', 639: 'gefallen', 640: 'gefasst', 641: 'geflucht', 642: 'geflüchtet', 643: 'gefragt', 644: 'gefressen', 645: 'gefroren', 646: 'gefunden', 647: 'gefährdet', 648: 'gefällt', 649: 'gegangen', 650: 'gegeben', 651: 'gegen', 652: 'gegend', 653: 'gegessen', 654: 'geglaubt', 655: 'gegähnt', 656: 'geh', 657: 'gehe', 658: 'geheimnis', 659: 'gehen', 660: 'gehenCOMMA', 661: 'geholfen', 662: 'geholfen“', 663: 'gehst', 664: 'geht', 665: 'gehts', 666: 'gehustet', 667: 'gehören', 668: 'gehörlos', 669: 'gehört', 670: 'gehörtCOMMA', 671: 'geistergeschichten', 672: 'gekauft', 673: 'gekocht', 674: 'gekommen', 675: 'gelangen', 676: 'geld', 677: 'gelegen', 678: 'geleistet', 679: 'gelesen', 680: 'gelogen', 681: 'gelöst', 682: 'gemacht', 683: 'gemahlin', 684: 'gemein', 685: 'gemeint', 686: 'gemerkt', 687: 'gemietet', 688: 'genauCOMMA', 689: 'genieße', 690: 'genießen', 691: 'genießt', 692: 'genug', 693: 'genügt', 694: 'gerade', 695: 'gerannt', 696: 'gerecht', 697: 'gerettet', 698: 'gern', 699: 'gernCOMMA', 700: 'gerne', 701: 'geräusch', 702: 'gerüchte', 703: 'gesagt', 704: 'gesagtCOMMA', 705: 'geschafft', 706: 'geschickt', 707: 'geschlafen', 708: 'geschlagen', 709: 'geschummelt', 710: 'geschwommen', 711: 'geschworen', 712: 'geschäft', 713: 'gesehen', 714: 'geselle', 715: 'gesetz', 716: 'gesetzt', 717: 'gesicht', 718: 'gespielt', 719: 'gesprochen', 720: 'gesprungen', 721: 'gespuckt', 722: 'gestellt', 723: 'gestern', 724: 'gestorben', 725: 'gestört', 726: 'gestürzt', 727: 'gesundheit', 728: 'getan', 729: 'getanCOMMA', 730: 'getauscht', 731: 'getroffen', 732: 'getrunken', 733: 'getränk', 734: 'gewaltiges', 735: 'gewarnt', 736: 'gewartet', 737: 'gewaschen', 738: 'gewechselt', 739: 'geweint', 740: 'gewesen', 741: 'gewinne', 742: 'gewinnen', 743: 'gewinnt', 744: 'gewitter', 745: 'gewonnen', 746: 'gewonnenCOMMA', 747: 'geworden', 748: 'gewunken', 749: 'gewusst', 750: 'gezahlt', 751: 'gezogen', 752: 'gib', 753: 'gibst', 754: 'gibt', 755: 'gibt’s', 756: 'ging', 757: 'gitarre', 758: 'glas', 759: 'glatt', 760: 'glatze', 761: 'glatzköpfig', 762: 'glaub', 763: 'glaubCOMMA', 764: 'glauben', 765: 'glaubst', 766: 'glaubt', 767: 'glaubtCOMMA', 768: 'gleich', 769: 'gleiche', 770: 'glänzende', 771: 'glücklich', 772: 'glücklichCOMMA', 773: 'golfball', 774: 'gott', 775: 'grausam', 776: 'greif', 777: 'griff', 778: 'groß', 779: 'großartig', 780: 'große', 781: 'großes', 782: 'großzügig', 783: 'grund', 784: 'grundCOMMA', 785: 'größe', 786: 'größere', 787: 'größte', 788: 'grün', 789: 'gründlich', 790: 'grüß', 791: 'gurken', 792: 'gut', 793: 'gutCOMMA', 794: 'gutaussehend', 795: 'gute', 796: 'guter', 797: 'gutes', 798: 'gähnte', 799: 'gönnen', 800: 'haar', 801: 'haare', 802: 'hab', 803: 'habe', 804: 'habeCOMMA', 805: 'haben', 806: 'haben’s', 807: 'habs', 808: 'habt', 809: 'hab’s', 810: 'half', 811: 'hallo', 812: 'halloCOMMA', 813: 'halt', 814: 'halte', 815: 'halten', 816: 'haltet', 817: 'halt’s', 818: 'halunke', 819: 'handeln', 820: 'handfesten', 821: 'handschellen', 822: 'hansen', 823: 'hasse', 824: 'hassen', 825: 'hasst', 826: 'hast', 827: 'hat', 828: 'hatte', 829: 'hattest', 830: 'hau', 831: 'haus', 832: 'hause', 833: 'heben', 834: 'heim', 835: 'heimweh', 836: 'heirate', 837: 'heiß', 838: 'helfen', 839: 'helfenCOMMA', 840: 'helft', 841: 'hemd', 842: 'her', 843: 'heran', 844: 'heraus', 845: 'herein', 846: 'herkommen', 847: 'herum', 848: 'herunter', 849: 'hervorragend', 850: 'hervorragender', 851: 'herz', 852: 'herzens', 853: 'heuchler', 854: 'heute', 855: 'hielt', 856: 'hier', 857: 'hierCOMMA', 858: 'hierher', 859: 'hilf', 860: 'hilfe', 861: 'hilfestellung', 862: 'hilfst', 863: 'hilft', 864: 'hin', 865: 'hinein', 866: 'hingefallen', 867: 'hingegangen', 868: 'hingehaut', 869: 'hingehen', 870: 'hinging', 871: 'hinkriegt', 872: 'hinlegen', 873: 'hinter', 874: 'hinterlassen', 875: 'hintreten', 876: 'hintretet', 877: 'hintrittst', 878: 'hinwegkommen', 879: 'hinzufügen', 880: 'hoch', 881: 'hochschule', 882: 'hoffe', 883: 'hol', 884: 'hols', 885: 'holzfußboden', 886: 'hotel', 887: 'huhn', 888: 'hund', 889: 'hunde', 890: 'hunden', 891: 'hund“', 892: 'hunger', 893: 'hungrig', 894: 'hustete', 895: 'hut', 896: 'hälften', 897: 'hältst', 898: 'hände', 899: 'händen', 900: 'hässlich', 901: 'hätte', 902: 'hätten', 903: 'hättest', 904: 'hättet', 905: 'höflich', 906: 'höflichCOMMA', 907: 'höhenangst', 908: 'hör', 909: 'höre', 910: 'hören', 911: 'hörgerät', 912: 'hörst', 913: 'hört', 914: 'hübsch', 915: 'hügel', 916: 'hühnern', 917: 'hülf', 918: 'ich', 919: 'ichCOMMA', 920: 'idiot', 921: 'idioten', 922: 'ignorieren', 923: 'ignorierst', 924: 'ihm', 925: 'ihn', 926: 'ihnen', 927: 'ihnenCOMMA', 928: 'ihr', 929: 'ihrCOMMA', 930: 'ihre', 931: 'ihren', 932: 'ihres', 933: 'im', 934: 'immer', 935: 'in', 936: 'inkompetent', 937: 'inne', 938: 'ins', 939: 'insektenspray', 940: 'insel', 941: 'instrument', 942: 'interessant', 943: 'interessierst', 944: 'introvertiert', 945: 'irgend', 946: 'irgendein', 947: 'irgendeine', 948: 'irgendetwas', 949: 'irgendjemanden', 950: 'irgendwas', 951: 'irgendwelche', 952: 'irgendwer', 953: 'irgendwie', 954: 'irren', 955: 'irrst', 956: 'irrt', 957: 'iss', 958: 'isst', 959: 'ist', 960: 'ja', 961: 'jagd', 962: 'jahr', 963: 'jahre', 964: 'japanisch', 965: 'japanisches', 966: 'jede', 967: 'jedem', 968: 'jeden', 969: 'jedenfalls', 970: 'jeder', 971: 'jederzeit', 972: 'jedes', 973: 'jemand', 974: 'jemandem', 975: 'jemanden', 976: 'jenem', 977: 'jenen', 978: 'jetzt', 979: 'job', 980: 'joghurteis', 981: 'johannes', 982: 'journalist', 983: 'jung', 984: 'junge', 985: 'jungen', 986: 'kaffee', 987: 'kalt', 988: 'kalter', 989: 'kaltes', 990: 'kam', 991: 'kamele', 992: 'kanadier', 993: 'kann', 994: 'kannst', 995: 'kannten', 996: 'kanntest', 997: 'kanntet', 998: 'kapierst', 999: 'kapiert', 1000: 'kaputt', 1001: 'karte', 1002: 'kartoffeln', 1003: 'katholisch', 1004: 'katze', 1005: 'katzen', 1006: 'kau', 1007: 'kauen', 1008: 'kaufen', 1009: 'kauf’s', 1010: 'kaum', 1011: 'kaut', 1012: 'kein', 1013: 'keine', 1014: 'keinen', 1015: 'keinster', 1016: 'keks', 1017: 'kennen', 1018: 'kennenlernen', 1019: 'kennst', 1020: 'kennt', 1021: 'kerze', 1022: 'kicherte', 1023: 'kind', 1024: 'kinder', 1025: 'kirche', 1026: 'kissen', 1027: 'klappt', 1028: 'klar', 1029: 'klatschnass', 1030: 'klatschte', 1031: 'klavier', 1032: 'kleid', 1033: 'kleidung', 1034: 'kleingeld', 1035: 'klingelt', 1036: 'klingst', 1037: 'klug', 1038: 'kluger', 1039: 'klüger', 1040: 'knicken', 1041: 'knopf', 1042: 'koch', 1043: 'koche', 1044: 'kochen', 1045: 'kochstCOMMA', 1046: 'koma', 1047: 'komisch', 1048: 'komm', 1049: 'kommCOMMA', 1050: 'komme', 1051: 'kommen', 1052: 'kommenCOMMA', 1053: 'kommst', 1054: 'kommt', 1055: 'kommtCOMMA', 1056: 'kontakt', 1057: 'kontaktiere', 1058: 'kontaktieren', 1059: 'kontaktiert', 1060: 'konzert', 1061: 'kooperieren', 1062: 'kooperierst', 1063: 'kooperiert', 1064: 'kopf', 1065: 'kopfschmerzen', 1066: 'kopien', 1067: 'kram', 1068: 'krank', 1069: 'krankenhaus', 1070: 'krankenschwester', 1071: 'kreide', 1072: 'kriegen', 1073: 'kriegst', 1074: 'kriegt', 1075: 'krill', 1076: 'kritik', 1077: 'krokodil', 1078: 'kräftiger', 1079: 'kuchen', 1080: 'kultur', 1081: 'kundenkarte', 1082: 'kunst', 1083: 'kurz', 1084: 'können', 1085: 'könnenCOMMA', 1086: 'könnt', 1087: 'könnte', 1088: 'könnten', 1089: 'könntest', 1090: 'könntet', 1091: 'kühe', 1092: 'kühlschrank', 1093: 'kümmert’s“', 1094: 'küsse', 1095: 'küssen', 1096: 'küsst', 1097: 'lache', 1098: 'lachte', 1099: 'lage', 1100: 'lageCOMMA', 1101: 'land', 1102: 'lang', 1103: 'lange', 1104: 'langsam', 1105: 'langweilig', 1106: 'langweilst', 1107: 'lass', 1108: 'lassen', 1109: 'lasst', 1110: 'lauf', 1111: 'laufe', 1112: 'laufen', 1113: 'lauter', 1114: 'leb', 1115: 'leben', 1116: 'leber', 1117: 'lebst', 1118: 'leg', 1119: 'legen', 1120: 'legt', 1121: 'lehn', 1122: 'lehnt', 1123: 'lehrer', 1124: 'lehrerin', 1125: 'lehrerinnen', 1126: 'leicht', 1127: 'leid', 1128: 'leiden', 1129: 'leine', 1130: 'leisten', 1131: 'leitung', 1132: 'lernen', 1133: 'lernst', 1134: 'lesen', 1135: 'letzte', 1136: 'leuteCOMMA', 1137: 'licht', 1138: 'lichthupe', 1139: 'lieb', 1140: 'liebe', 1141: 'lieber', 1142: 'liebesbriefe', 1143: 'lieblingsfarbe', 1144: 'liebst', 1145: 'lief', 1146: 'liefert', 1147: 'liegst', 1148: 'liegt', 1149: 'lies', 1150: 'links', 1151: 'lippen', 1152: 'liste', 1153: 'lkw', 1154: 'log', 1155: 'los', 1156: 'losgehen', 1157: 'los“', 1158: 'luft', 1159: 'luftveränderung', 1160: 'lächeln', 1161: 'lächelte', 1162: 'lästig', 1163: 'läufst', 1164: 'läuft', 1165: 'lösche', 1166: 'löschen', 1167: 'löscht', 1168: 'lösen', 1169: 'löwe', 1170: 'löwenjunge', 1171: 'lüge', 1172: 'lügner', 1173: 'lügnerin', 1174: 'lügst', 1175: 'lügt', 1176: 'mach', 1177: 'mache', 1178: 'machen', 1179: 'machenCOMMA', 1180: 'machst', 1181: 'macht', 1182: 'mag', 1183: 'magie', 1184: 'magst', 1185: 'mailen', 1186: 'mais', 1187: 'mal', 1188: 'mama', 1189: 'mamasöhnchen', 1190: 'man', 1191: 'manchmal', 1192: 'mangoeis', 1193: 'mann', 1194: 'mantel', 1195: 'maria', 1196: 'marias', 1197: 'mary', 1198: 'maul', 1199: 'mehr', 1200: 'meiden', 1201: 'meidest', 1202: 'meidet', 1203: 'mein', 1204: 'meine', 1205: 'meinem', 1206: 'meinen', 1207: 'meinst', 1208: 'menge', 1209: 'mensch', 1210: 'messen', 1211: 'messer', 1212: 'metall', 1213: 'mich', 1214: 'michCOMMA', 1215: 'milch', 1216: 'minderjährig', 1217: 'mineralwasser', 1218: 'minute', 1219: 'minuten', 1220: 'mir', 1221: 'mirCOMMA', 1222: 'mischung', 1223: 'mist', 1224: 'mit', 1225: 'miteinander', 1226: 'mitfahren', 1227: 'mitgebracht', 1228: 'mitglied', 1229: 'mitkommen', 1230: 'mitmachen', 1231: 'mittlerweile', 1232: 'mittwoch', 1233: 'mobiltelefon', 1234: 'modebewusst', 1235: 'moment', 1236: 'montag', 1237: 'montagCOMMA', 1238: 'montagabend', 1239: 'morgen', 1240: 'mpplayer', 1241: 'mumm', 1242: 'munde', 1243: 'mundgeruch', 1244: 'muss', 1245: 'musst', 1246: 'mussten', 1247: 'musstest', 1248: 'mutig', 1249: 'mutiger', 1250: 'mutter', 1251: 'mädchen', 1252: 'möchte', 1253: 'möchten', 1254: 'möchtest', 1255: 'möchtet', 1256: 'mögen', 1257: 'möglich', 1258: 'mögt', 1259: 'müde', 1260: 'müdeCOMMA', 1261: 'mühe', 1262: 'münze', 1263: 'müssen', 1264: 'müsst', 1265: 'na', 1266: 'naCOMMA', 1267: 'nach', 1268: 'nachbar', 1269: 'nachbarin', 1270: 'nachdenken', 1271: 'nachdenklich', 1272: 'nachlassen', 1273: 'nachricht', 1274: 'nachrichten', 1275: 'nacht', 1276: 'nachwachsen', 1277: 'nachzuahmen', 1278: 'nagel', 1279: 'naiv', 1280: 'namen', 1281: 'nanntest', 1282: 'nase', 1283: 'nass', 1284: 'nasse', 1285: 'neben', 1286: 'nehmen', 1287: 'nehmt', 1288: 'nein', 1289: 'nenn', 1290: 'nennen', 1291: 'nennt', 1292: 'nerv', 1293: 'nervig', 1294: 'nervst', 1295: 'nervös', 1296: 'nett', 1297: 'netter', 1298: 'neu', 1299: 'neue', 1300: 'neuen', 1301: 'neues', 1302: 'neuigkeiten', 1303: 'nicht', 1304: 'nichtCOMMA', 1305: 'nichts', 1306: 'nickte', 1307: 'nie', 1308: 'nieCOMMA', 1309: 'nieder', 1310: 'niedergeschlagen', 1311: 'niederlegen', 1312: 'niemand', 1313: 'niemanden', 1314: 'nimm', 1315: 'nimmst', 1316: 'nitroglycerin', 1317: 'noch', 1318: 'nochmal', 1319: 'notitzbücher', 1320: 'notizen', 1321: 'nummern', 1322: 'nun', 1323: 'nur', 1324: 'nächste', 1325: 'nächsten', 1326: 'näher', 1327: 'näherte', 1328: 'nützlich', 1329: 'ob', 1330: 'oben', 1331: 'oder', 1332: 'ofen', 1333: 'offen', 1334: 'offengelassen', 1335: 'oft', 1336: 'ohCOMMA', 1337: 'ohne', 1338: 'ohnmacht', 1339: 'ohnmächtig', 1340: 'ohren', 1341: 'okay', 1342: 'optimist', 1343: 'orange', 1344: 'orangen', 1345: 'ordentlich', 1346: 'ordnung', 1347: 'osten', 1348: 'paar', 1349: 'pack', 1350: 'packen', 1351: 'palme', 1352: 'papa', 1353: 'park', 1354: 'party', 1355: 'pass', 1356: 'passen', 1357: 'passieren', 1358: 'passiert', 1359: 'passt', 1360: 'pause', 1361: 'pausierte', 1362: 'pension', 1363: 'per', 1364: 'perfekt', 1365: 'pferd', 1366: 'pfiffig', 1367: 'pflegte', 1368: 'phantasie', 1369: 'pizza', 1370: 'plan', 1371: 'plattenaufleger', 1372: 'plätzchen', 1373: 'plätze', 1374: 'polizei', 1375: 'polizist', 1376: 'pommes', 1377: 'potzdonner', 1378: 'priester', 1379: 'prinzessin', 1380: 'prise', 1381: 'probier', 1382: 'probiere', 1383: 'problem', 1384: 'prüfung', 1385: 'puste', 1386: 'pusten', 1387: 'pünktlich', 1388: 'rad', 1389: 'rahm', 1390: 'rannte', 1391: 'rasiert', 1392: 'rasierte', 1393: 'rassisten', 1394: 'rastete', 1395: 'rat', 1396: 'ratschläge', 1397: 'ratte', 1398: 'rauche', 1399: 'rauchen', 1400: 'raus', 1401: 'rechner', 1402: 'recht', 1403: 'rechtCOMMA', 1404: 'rechtsanwalt', 1405: 'reden', 1406: 'redet', 1407: 'reg', 1408: 'regen', 1409: 'regenschirm', 1410: 'regnen', 1411: 'reich', 1412: 'reichCOMMA', 1413: 'reifen', 1414: 'rein', 1415: 'reis', 1416: 'rennen', 1417: 'rennt', 1418: 'repariere', 1419: 'reparieren', 1420: 'reserviert', 1421: 'rette', 1422: 'retten', 1423: 'rettet', 1424: 'richter', 1425: 'richtig', 1426: 'richtung', 1427: 'riechen', 1428: 'riecht', 1429: 'ritterlichkeit', 1430: 'rolleCOMMA', 1431: 'roman', 1432: 'romantisch', 1433: 'rot', 1434: 'rucksack', 1435: 'ruf', 1436: 'rufe', 1437: 'rufen', 1438: 'rufst', 1439: 'ruft', 1440: 'ruhe', 1441: 'ruhig', 1442: 'ruhigCOMMA', 1443: 'runden', 1444: 'rundum', 1445: 'runter', 1446: 'runtergefallen', 1447: 'runzelte', 1448: 'räum', 1449: 'räumen', 1450: 'räumt', 1451: 'rücken', 1452: 'sachen', 1453: 'sack', 1454: 'sag', 1455: 'sage', 1456: 'sagen', 1457: 'sagenhaft', 1458: 'sagst', 1459: 'sagt', 1460: 'sagte', 1461: 'sagtest', 1462: 'sah', 1463: 'sahst', 1464: 'saison', 1465: 'salz', 1466: 'san', 1467: 'sandwich', 1468: 'sanftCOMMA', 1469: 'sanfter', 1470: 'sang', 1471: 'sarkasmus', 1472: 'satt', 1473: 'sauber', 1474: 'sause', 1475: 'schade', 1476: 'schaffe', 1477: 'schaffen', 1478: 'schatz', 1479: 'schau', 1480: 'schauen', 1481: 'schauspielerin', 1482: 'schaust', 1483: 'schaut', 1484: 'schein', 1485: 'scheinen', 1486: 'scheinst', 1487: 'scheint', 1488: 'scher', 1489: 'scheuen', 1490: 'scheuern', 1491: 'scheut', 1492: 'schick', 1493: 'schicken', 1494: 'schieß', 1495: 'schießen', 1496: 'schlafen', 1497: 'schlage', 1498: 'schlagen', 1499: 'schlagt', 1500: 'schlau', 1501: 'schlaumeier', 1502: 'schlecht', 1503: 'schlechte', 1504: 'schlechter', 1505: 'schlechtes', 1506: 'schließ', 1507: 'schließe', 1508: 'schließlich', 1509: 'schlimmste', 1510: 'schlips', 1511: 'schlug', 1512: 'schluss', 1513: 'schläfchen', 1514: 'schlüsse', 1515: 'schlüssel', 1516: 'schmeiß', 1517: 'schmeißen', 1518: 'schmeißt', 1519: 'schmerzen', 1520: 'schmerzt', 1521: 'schmutzig', 1522: 'schnapp', 1523: 'schnarche', 1524: 'schneeschieber', 1525: 'schneide', 1526: 'schneien', 1527: 'schnell', 1528: 'schon', 1529: 'schottland', 1530: 'schrank', 1531: 'schrecklich', 1532: 'schreckliche', 1533: 'schrecklicher', 1534: 'schreib', 1535: 'schreiben', 1536: 'schreibst', 1537: 'schreibt', 1538: 'schreibtisch', 1539: 'schrien', 1540: 'schuhe', 1541: 'schuld', 1542: 'schulde', 1543: 'schuldest', 1544: 'schule', 1545: 'schwach', 1546: 'schwamm', 1547: 'schwammen', 1548: 'schwarz', 1549: 'schwarze', 1550: 'schwarzen', 1551: 'schweig', 1552: 'schweinefleisch', 1553: 'schwer', 1554: 'schweres', 1555: 'schwermütig', 1556: 'schwestern', 1557: 'schwimme', 1558: 'schwimmen', 1559: 'schwirr', 1560: 'schwur', 1561: 'schwäne', 1562: 'schwänzen', 1563: 'schön', 1564: 'schöne', 1565: 'schönen', 1566: 'schüchtern', 1567: 'schüler', 1568: 'sechzig', 1569: 'sehe', 1570: 'sehen', 1571: 'sehr', 1572: 'sei', 1573: 'seid', 1574: 'seien', 1575: 'sein', 1576: 'seine', 1577: 'seinen', 1578: 'seins', 1579: 'sekunden', 1580: 'selbst', 1581: 'seltsam', 1582: 'sers', 1583: 'serviert', 1584: 'setz', 1585: 'setzen', 1586: 'sexy', 1587: 'sich', 1588: 'sicher', 1589: 'sicherCOMMA', 1590: 'sicheren', 1591: 'sie', 1592: 'sieCOMMA', 1593: 'sieden', 1594: 'sieh', 1595: 'siehst', 1596: 'sieht', 1597: 'sind', 1598: 'singst', 1599: 'sitzungen', 1600: 'ski', 1601: 'so', 1602: 'sofort', 1603: 'solange', 1604: 'solch', 1605: 'soll', 1606: 'solle', 1607: 'sollen', 1608: 'sollte', 1609: 'sollten', 1610: 'solltest', 1611: 'solltet', 1612: 'sonne', 1613: 'sonnenmilch', 1614: 'sonntags', 1615: 'sonst', 1616: 'sorge', 1617: 'sorgen', 1618: 'soweit', 1619: 'sowohl', 1620: 'spann', 1621: 'spaß', 1622: 'spendier', 1623: 'spielen', 1624: 'spielst', 1625: 'spielt', 1626: 'spieltest', 1627: 'spinnen', 1628: 'spionierst', 1629: 'sprach', 1630: 'sprache', 1631: 'spreche', 1632: 'sprechen', 1633: 'sprich', 1634: 'sprichst', 1635: 'spricht', 1636: 'spring', 1637: 'spuckte', 1638: 'spät', 1639: 'später', 1640: 'stand', 1641: 'standen', 1642: 'starb', 1643: 'staubsauger', 1644: 'stecker', 1645: 'steckst', 1646: 'steh', 1647: 'stehe', 1648: 'stehen', 1649: 'stehenbleiben', 1650: 'stehst', 1651: 'steht', 1652: 'stell', 1653: 'stelle', 1654: 'stellen', 1655: 'stellt', 1656: 'stifte', 1657: 'still', 1658: 'stille', 1659: 'stimme', 1660: 'stimmen', 1661: 'stimmt', 1662: 'stimmung', 1663: 'stinkt', 1664: 'stirb', 1665: 'stirn', 1666: 'stoffe', 1667: 'stopp', 1668: 'strafe', 1669: 'straße', 1670: 'student', 1671: 'studieren', 1672: 'studierst', 1673: 'stunde', 1674: 'stur', 1675: 'sturm', 1676: 'stöhnte', 1677: 'stück', 1678: 'stürzte', 1679: 'suchen', 1680: 'suchst', 1681: 'suppe', 1682: 'sympathisch', 1683: 'sämtliche', 1684: 'sänger', 1685: 'sängerin', 1686: 'säugetiere', 1687: 'süß', 1688: 'tag', 1689: 'tage', 1690: 'tagen', 1691: 'tages', 1692: 'tagesausflüge', 1693: 'tanz', 1694: 'tanzen', 1695: 'tanzenCOMMA', 1696: 'tanzten', 1697: 'tapfer', 1698: 'taschen', 1699: 'taschenlampe', 1700: 'tassen', 1701: 'taub', 1702: 'tee', 1703: 'teile', 1704: 'teilweise', 1705: 'telefon', 1706: 'tempel', 1707: 'tennis', 1708: 'test', 1709: 'thomas', 1710: 'tief', 1711: 'tier', 1712: 'tiere', 1713: 'tieren', 1714: 'tinte', 1715: 'tisch', 1716: 'tochter', 1717: 'tod', 1718: 'toilette', 1719: 'toll', 1720: 'tom', 1721: 'tomCOMMA', 1722: 'toms', 1723: 'tom“', 1724: 'tot', 1725: 'totaler', 1726: 'traf', 1727: 'tragen', 1728: 'tragt', 1729: 'trauen', 1730: 'traurig', 1731: 'treffen', 1732: 'trete', 1733: 'treue', 1734: 'trinken', 1735: 'trinkgeld', 1736: 'trinkst', 1737: 'trinkt', 1738: 'trocken', 1739: 'troll', 1740: 'träge', 1741: 'trägst', 1742: 'trägt', 1743: 'träumer', 1744: 'trügt', 1745: 'tschüss', 1746: 'tu', 1747: 'tuCOMMA', 1748: 'tue', 1749: 'tun', 1750: 'tunCOMMA', 1751: 'tust', 1752: 'tut', 1753: 'typ', 1754: 'tänzer', 1755: 'tänzerin', 1756: 'täten', 1757: 'tätowierungen', 1758: 'töchter', 1759: 'töte', 1760: 'töten', 1761: 'tötet', 1762: 'tür', 1763: 'türe', 1764: 'uhr', 1765: 'uhren', 1766: 'um', 1767: 'umarme', 1768: 'umarmen', 1769: 'umarmt', 1770: 'umtausch', 1771: 'umwerfend', 1772: 'unabhängig', 1773: 'unausweichlich', 1774: 'unbedingt', 1775: 'und', 1776: 'unfall', 1777: 'ungefährlich', 1778: 'ungerecht', 1779: 'unglaublich', 1780: 'unhöflich', 1781: 'unmöglich', 1782: 'uns', 1783: 'unser', 1784: 'unter', 1785: 'unterbringen', 1786: 'unterkommen', 1787: 'unterkriegen', 1788: 'unterricht', 1789: 'unterschied', 1790: 'unterschreiben', 1791: 'unterschrieben', 1792: 'unterstützung', 1793: 'unterwiesen', 1794: 'unvermeidlich', 1795: 'unverschämt', 1796: 'vater', 1797: 'verbessert', 1798: 'verbindung', 1799: 'verboten', 1800: 'verbrenn', 1801: 'verbrenne', 1802: 'verbrennen', 1803: 'verbrennt', 1804: 'verdacht', 1805: 'verdient', 1806: 'verdirbst', 1807: 'verdreht', 1808: 'verdufte', 1809: 'verfolgt', 1810: 'vergangene', 1811: 'vergessen', 1812: 'vergesst', 1813: 'vergeudet', 1814: 'vergiss', 1815: 'vergleiche', 1816: 'vergnügen', 1817: 'vergossene', 1818: 'vergrabe', 1819: 'verhaften', 1820: 'verheiratet', 1821: 'verirrt', 1822: 'verkaufen', 1823: 'verkehrt', 1824: 'verklagen', 1825: 'verkrümele', 1826: 'verlassen', 1827: 'verlaufen', 1828: 'verlegen', 1829: 'verlegenheit', 1830: 'verletztCOMMA', 1831: 'verlieren', 1832: 'verlierer', 1833: 'verloren', 1834: 'vermisse', 1835: 'vermutet', 1836: 'vernehme', 1837: 'verpasst', 1838: 'verpetzt', 1839: 'verpiss', 1840: 'verraten', 1841: 'verratenCOMMA', 1842: 'verrückt', 1843: 'versagen', 1844: 'verschwende', 1845: 'verschwenden', 1846: 'verschwendest', 1847: 'verschwendet', 1848: 'verschwinde', 1849: 'verschwindet', 1850: 'verschüttet', 1851: 'versorgen', 1852: 'verspreche', 1853: 'versprechen', 1854: 'versprechs', 1855: 'verstand', 1856: 'verstanden', 1857: 'verstecken', 1858: 'versteckt', 1859: 'versteckte', 1860: 'verstehe', 1861: 'versteheCOMMA', 1862: 'verstehen', 1863: 'verstehst', 1864: 'versteht', 1865: 'verständlicher', 1866: 'versuch', 1867: 'versuche', 1868: 'versuchen', 1869: 'versuchst', 1870: 'versucht', 1871: 'versuchte', 1872: 'versuchten', 1873: 'versuch’s', 1874: 'versüßt', 1875: 'vertrag', 1876: 'vertraue', 1877: 'vertrauen', 1878: 'vertraut', 1879: 'verwenden', 1880: 'verzeihung', 1881: 'verzieh', 1882: 'verziehen', 1883: 'verändert', 1884: 'veränderung', 1885: 'verängstigt', 1886: 'verärgert', 1887: 'viel', 1888: 'viele', 1889: 'vieles', 1890: 'vielleicht', 1891: 'vier', 1892: 'virus', 1893: 'vogel', 1894: 'voll', 1895: 'volle', 1896: 'voller', 1897: 'vom', 1898: 'von', 1899: 'vor', 1900: 'vorCOMMA', 1901: 'voraus', 1902: 'vorbei', 1903: 'vorbereitet', 1904: 'voreiligen', 1905: 'vorschriften', 1906: 'vorsicht', 1907: 'vorsichtig', 1908: 'vorstellung', 1909: 'vorstellungsgespräch', 1910: 'vögel', 1911: 'völlig', 1912: 'wach', 1913: 'wachen', 1914: 'wachsam', 1915: 'waffe', 1916: 'wagen', 1917: 'wagst', 1918: 'wahl', 1919: 'wahr', 1920: 'wahre', 1921: 'wahrheit', 1922: 'wahrscheinlich', 1923: 'wale', 1924: 'wanderschuhe', 1925: 'wanderstiefel', 1926: 'wann', 1927: 'war', 1928: 'waren', 1929: 'warm', 1930: 'warne', 1931: 'warnen', 1932: 'warst', 1933: 'wart', 1934: 'warte', 1935: 'warten', 1936: 'wartet', 1937: 'warum', 1938: 'was', 1939: 'wasch', 1940: 'waschen', 1941: 'wasser', 1942: 'weckte', 1943: 'weg', 1944: 'weggehen', 1945: 'wegschicken', 1946: 'weh', 1947: 'wehgetan', 1948: 'wehte', 1949: 'weigere', 1950: 'weihnachten', 1951: 'wein', 1952: 'weine', 1953: 'weinen', 1954: 'weinend', 1955: 'weint', 1956: 'weinte', 1957: 'weise', 1958: 'weit', 1959: 'weiter', 1960: 'weiterleben', 1961: 'weiß', 1962: 'weißCOMMA', 1963: 'weißt', 1964: 'weißtCOMMA', 1965: 'welt', 1966: 'wem', 1967: 'wenigstens', 1968: 'wenn', 1969: 'wer', 1970: 'werde', 1971: 'werden', 1972: 'werdet', 1973: 'werfen', 1974: 'wettbewerb', 1975: 'wichtig', 1976: 'wie', 1977: 'wieder', 1978: 'wiederholen', 1979: 'wiedersehen', 1980: 'will', 1981: 'willCOMMA', 1982: 'willen', 1983: 'willkommen', 1984: 'willst', 1985: 'wind', 1986: 'wink', 1987: 'winkte', 1988: 'wir', 1989: 'wird', 1990: 'wirken', 1991: 'wirklich', 1992: 'wirkst', 1993: 'wirkt', 1994: 'wirst', 1995: 'wissen', 1996: 'wissenCOMMA', 1997: 'wisst', 1998: 'wisstCOMMA', 1999: 'witz', 2000: 'wo', 2001: 'woche', 2002: 'wochenende', 2003: 'wohl', 2004: 'wohnen', 2005: 'wohnst', 2006: 'wohnt', 2007: 'wohnung', 2008: 'wolf', 2009: 'wolkig', 2010: 'wollen', 2011: 'wollenCOMMA', 2012: 'wollt', 2013: 'wollte', 2014: 'worden', 2015: 'worin', 2016: 'wort', 2017: 'wozu', 2018: 'wunder', 2019: 'wunderbar', 2020: 'wunderbare', 2021: 'wurde', 2022: 'wusste', 2023: 'wussten', 2024: 'wusstest', 2025: 'wusstet', 2026: 'wähleCOMMA', 2027: 'wählen', 2028: 'wähltCOMMA', 2029: 'wäre', 2030: 'wärest', 2031: 'wörterbuch', 2032: 'würde', 2033: 'würden', 2034: 'wüsste', 2035: 'wüste', 2036: 'wütend', 2037: 'wütendCOMMA', 2038: 'zahlen', 2039: 'zahlte', 2040: 'zahn', 2041: 'zahnbürste', 2042: 'zahnfleisch', 2043: 'zeigen', 2044: 'zeigs', 2045: 'zeit', 2046: 'zeiten', 2047: 'zerstöre', 2048: 'zerstört', 2049: 'zeug', 2050: 'zieh', 2051: 'ziehe', 2052: 'ziehen', 2053: 'zieht', 2054: 'zielen', 2055: 'ziemlich', 2056: 'zimmer', 2057: 'zimmerdecke', 2058: 'zimmernummerCOMMA', 2059: 'zisch', 2060: 'zu', 2061: 'zuCOMMA', 2062: 'zufrieden', 2063: 'zufriedenCOMMA', 2064: 'zufälligerweise', 2065: 'zugelassen', 2066: 'zuhause', 2067: 'zuhören', 2068: 'zukunft', 2069: 'zum', 2070: 'zur', 2071: 'zurecht', 2072: 'zurück', 2073: 'zurückrufen', 2074: 'zusammen', 2075: 'zusammenrechnen', 2076: 'zuständig', 2077: 'zutritt', 2078: 'zwei', 2079: 'zwillingsschwester', 2080: 'zwinge', 2081: 'zwingen', 2082: 'zwingenCOMMA', 2083: 'zwinkerte', 2084: 'zypern', 2085: 'zählen', 2086: 'ächzte', 2087: 'älter', 2088: 'änderst', 2089: 'änderte', 2090: 'änderungen', 2091: 'ängsten', 2092: 'äpfel', 2093: 'ärgern', 2094: 'ärztin', 2095: 'öffne', 2096: 'öffnen', 2097: 'öffnet', 2098: 'über', 2099: 'überbewertet', 2100: 'überbringer', 2101: 'überhaupt', 2102: 'überlassen', 2103: 'überlebende', 2104: 'überlebenskünstler', 2105: 'übernimmst', 2106: 'überrascht', 2107: 'überraschungen', 2108: 'überstürzenCOMMA', 2109: 'überwachst', 2110: 'überzeug', 2111: 'überzeugt', 2112: 'übrig', 2113: '–', 2114: '’n', 2115: '’ne', 2116: '„ein', 2117: '„hast', 2118: '„hat’s', 2119: '„mich“', 2120: '„nein“', 2121: '„nichts“', 2122: '„null', 2123: '„was', 2124: '„wen', 2125: '„wo'}\n"
     ]
    }
   ],
   "source": [
    "# reversing the word index dictionary to get words from index values\n",
    "reverse_input_char_index = dict((i,char) for char, i in input_token_index.items())\n",
    "reverse_output_char_index = dict((i,char) for char, i in output_token_index.items())\n",
    "print(reverse_input_char_index)\n",
    "print(reverse_output_char_index)"
   ]
  },
  {
   "cell_type": "code",
   "execution_count": 147,
   "id": "b6100968",
   "metadata": {},
   "outputs": [],
   "source": [
    "# function to predict translation\n",
    "def decode_seq(input_seq):\n",
    "  state_values = encoder_model.predict(input_seq)\n",
    "\n",
    "  target_seq = np.zeros((1,2))\n",
    "\n",
    "  target_seq[0,0] = output_token_index['START_']\n",
    "\n",
    "  stop_condition = False\n",
    "  decoded_sentence = ''\n",
    "\n",
    "  while not stop_condition:\n",
    "    output_tokens, h, c = decoder_model.predict([target_seq] + state_values)\n",
    "\n",
    "    sampled_token_index = np.argmax(output_tokens[0,0,:])\n",
    "    sampled_char = reverse_output_char_index[sampled_token_index]\n",
    "\n",
    "    decoded_sentence += ' ' + sampled_char\n",
    "\n",
    "    if(sampled_char == '_END' or len(decoded_sentence) >100 ):\n",
    "      stop_condition = True\n",
    "\n",
    "    target_seq = np.zeros((1,2))\n",
    "    target_seq[0,0] = sampled_token_index\n",
    "\n",
    "    state_values = [h,c] \n",
    "\n",
    "  return decoded_sentence"
   ]
  },
  {
   "cell_type": "code",
   "execution_count": 151,
   "id": "b206eaa9",
   "metadata": {},
   "outputs": [
    {
     "data": {
      "text/plain": [
       "tensorflow.python.types.core.GenericFunction"
      ]
     },
     "execution_count": 151,
     "metadata": {},
     "output_type": "execute_result"
    }
   ],
   "source": [
    "#used for Compiles a function into a callable TensorFlow graph. (deprecated arguments) \n",
    "#(deprecated arguments)retracing the agrument correctly\n",
    "tf.function(\n",
    "    func=None,\n",
    "    input_signature=None,\n",
    "    autograph=True,\n",
    "    jit_compile=None,\n",
    "    reduce_retracing=False,\n",
    "    experimental_implements=None,\n",
    "    experimental_autograph_options=None,\n",
    "    experimental_relax_shapes=None,\n",
    "    experimental_compile=None,\n",
    "    experimental_follow_type_hints=None\n",
    ") \n",
    "tf.types.experimental.GenericFunction\n"
   ]
  },
  {
   "cell_type": "code",
   "execution_count": 152,
   "id": "3c8b1e05",
   "metadata": {},
   "outputs": [
    {
     "name": "stdout",
     "output_type": "stream",
     "text": [
      "1/1 [==============================] - 0s 132ms/step\n",
      "1/1 [==============================] - 0s 141ms/step\n",
      "1/1 [==============================] - 0s 172ms/step\n",
      "-\n",
      "Input sentence: hurry\n",
      "Decoded sentence:  warte _END\n",
      "1/1 [==============================] - 0s 217ms/step\n",
      "1/1 [==============================] - 0s 141ms/step\n",
      "1/1 [==============================] - 0s 141ms/step\n",
      "-\n",
      "Input sentence: run\n",
      "Decoded sentence:  warte _END\n",
      "1/1 [==============================] - 0s 131ms/step\n",
      "1/1 [==============================] - 0s 156ms/step\n",
      "1/1 [==============================] - 0s 141ms/step\n",
      "-\n",
      "Input sentence: i care\n",
      "Decoded sentence:  habe _END\n",
      "1/1 [==============================] - 0s 125ms/step\n",
      "1/1 [==============================] - 0s 141ms/step\n",
      "1/1 [==============================] - 0s 141ms/step\n",
      "1/1 [==============================] - 0s 141ms/step\n",
      "-\n",
      "Input sentence: arent you canadian\n",
      "Decoded sentence:  bist nicht _END\n",
      "1/1 [==============================] - 0s 187ms/step\n",
      "1/1 [==============================] - 0s 141ms/step\n",
      "1/1 [==============================] - 0s 141ms/step\n",
      "-\n",
      "Input sentence: catch me\n",
      "Decoded sentence:  warte _END\n"
     ]
    }
   ],
   "source": [
    "# testing the model for a sample from existing data\n",
    "for seq_index in [23,4,67,1234,345]:\n",
    "    input_seq = encoder_input_data[seq_index: seq_index + 1]\n",
    "    decoded_sentence = decode_seq(input_seq)\n",
    "    print('-')\n",
    "    print('Input sentence:', lines.english[seq_index])\n",
    "    print('Decoded sentence:', decoded_sentence)"
   ]
  },
  {
   "cell_type": "code",
   "execution_count": null,
   "id": "22a462bb",
   "metadata": {},
   "outputs": [],
   "source": []
  }
 ],
 "metadata": {
  "kernelspec": {
   "display_name": "Python 3",
   "language": "python",
   "name": "python3"
  },
  "language_info": {
   "codemirror_mode": {
    "name": "ipython",
    "version": 3
   },
   "file_extension": ".py",
   "mimetype": "text/x-python",
   "name": "python",
   "nbconvert_exporter": "python",
   "pygments_lexer": "ipython3",
   "version": "3.8.8"
  }
 },
 "nbformat": 4,
 "nbformat_minor": 5
}
